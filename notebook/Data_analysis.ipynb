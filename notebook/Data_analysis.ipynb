{
 "cells": [
  {
   "cell_type": "markdown",
   "id": "6e627b15-dcbe-4899-8805-3a05ed22e5b6",
   "metadata": {},
   "source": [
    "## Streaming Service Dataset - Exploratory and Descriptive Analysis\n",
    "In this notebook, we conduct an in-depth exploratory and descriptive analysis of a streaming service dataset, which includes information on user demographics, watch habits, content preferences, download behaviors, subscription levels, and interaction history.\n",
    "\n",
    "The primary goal of this analysis is to uncover user engagement patterns, understand content consumption trends, and detect factors influencing loyalty and satisfaction. This foundational step is critical before any modeling or recommendation engine development, as it helps us identify data quality issues, understand feature distributions, and observe key relationships.\n",
    "\n",
    "Throughout the analysis, we examine how metrics like watch hours, loyalty points, download activity, and ratings vary across different age groups, countries, genres, and platform types. Visual tools are used extensively to present insights clearly and interactively.\n",
    "\n",
    "### import library\n",
    "\n",
    "**pandas**: Used for data manipulation, cleaning, and analysis in tabular form.\n",
    "\n",
    "**numpy**: Provides fast numerical computations and array operations.\n",
    "\n",
    "**os**: Manages file and directory paths for saving and loading data or outputs.\n",
    "\n",
    "**plotly.express**:Creates interactive and customizable visualizations."
   ]
  },
  {
   "cell_type": "code",
   "execution_count": 226,
   "id": "b3dc1b62-5d20-4428-a3da-884eb7d280fe",
   "metadata": {},
   "outputs": [],
   "source": [
    "# import Libraries\n",
    "import pandas as pd\n",
    "import numpy as np\n",
    "import os\n",
    "import plotly.express as px"
   ]
  },
  {
   "cell_type": "markdown",
   "id": "b37e6dcf-ad83-41c9-8f4f-a86fe424659c",
   "metadata": {},
   "source": [
    "## Define and Create Directory Paths\n",
    "\n",
    "To ensure reproducibility andorganized storage, we programmatically create directories for:\n",
    "\n",
    "- **raw data**\n",
    "- **processed data**\n",
    "- **results**\n",
    "- **documentation**\n",
    "\n",
    "These directories will store intermediate and final outputs for reproducibility.\n",
    "\n"
   ]
  },
  {
   "cell_type": "code",
   "execution_count": 228,
   "id": "b938b97d-2935-4842-a9ec-edc1fdbebd7b",
   "metadata": {},
   "outputs": [],
   "source": [
    "# Get working directory\n",
    "current_dir=os.getcwd()\n",
    "\n",
    "# Go one directory up to root directory\n",
    "project_root_dir=os.path.dirname(current_dir)\n",
    "\n",
    "# Define paths to the data folders\n",
    "data_dir=os.path.join(project_root_dir,'data')\n",
    "raw_dir=os.path.join(data_dir,'raw')\n",
    "processed_dir=os.path.join(data_dir,'processed')\n",
    "\n",
    "# Define paths to results folders\n",
    "result_dir=os.path.join(project_root_dir,'results')\n",
    "\n",
    "# Define paths to Docs folder\n",
    "docs_dir=os.path.join(project_root_dir,'docs')\n",
    "\n",
    "# Create a directories if they do not exists\n",
    "\n",
    "os.makedirs(raw_dir,exist_ok=True)\n",
    "os.makedirs(processed_dir,exist_ok=True)\n",
    "os.makedirs(result_dir,exist_ok=True)\n",
    "os.makedirs(docs_dir,exist_ok=True)"
   ]
  },
  {
   "cell_type": "markdown",
   "id": "fe6a8a08-732d-4239-a873-7766bbf25eff",
   "metadata": {},
   "source": [
    "## Loading a cleaned dataset \n",
    "\n",
    "this dataset is stored in **processed folder**"
   ]
  },
  {
   "cell_type": "code",
   "execution_count": 230,
   "id": "90e694b3-0fa3-4268-bf31-4b44fadcc465",
   "metadata": {},
   "outputs": [
    {
     "data": {
      "text/html": [
       "<div>\n",
       "<style scoped>\n",
       "    .dataframe tbody tr th:only-of-type {\n",
       "        vertical-align: middle;\n",
       "    }\n",
       "\n",
       "    .dataframe tbody tr th {\n",
       "        vertical-align: top;\n",
       "    }\n",
       "\n",
       "    .dataframe thead th {\n",
       "        text-align: right;\n",
       "    }\n",
       "</style>\n",
       "<table border=\"1\" class=\"dataframe\">\n",
       "  <thead>\n",
       "    <tr style=\"text-align: right;\">\n",
       "      <th></th>\n",
       "      <th>User_ID</th>\n",
       "      <th>User_Name</th>\n",
       "      <th>Join_Date</th>\n",
       "      <th>Last_Login</th>\n",
       "      <th>Monthly_Price</th>\n",
       "      <th>Watch_Hours</th>\n",
       "      <th>Favorite_Genre</th>\n",
       "      <th>Active_Devices</th>\n",
       "      <th>Profile_Count</th>\n",
       "      <th>Parental_Controls</th>\n",
       "      <th>...</th>\n",
       "      <th>Average_Rating_Given</th>\n",
       "      <th>Has_Downloaded_Content</th>\n",
       "      <th>Membership_Status</th>\n",
       "      <th>Loyalty_Points</th>\n",
       "      <th>First_Device_Used</th>\n",
       "      <th>Age_Group</th>\n",
       "      <th>Primary_Watch_Time</th>\n",
       "      <th>Watch_Hour_Group</th>\n",
       "      <th>Loyalty_Point_Group</th>\n",
       "      <th>Age_Category</th>\n",
       "    </tr>\n",
       "  </thead>\n",
       "  <tbody>\n",
       "    <tr>\n",
       "      <th>0</th>\n",
       "      <td>2518</td>\n",
       "      <td>Amber</td>\n",
       "      <td>5/15/2023</td>\n",
       "      <td>12/13/2024</td>\n",
       "      <td>7.99</td>\n",
       "      <td>49</td>\n",
       "      <td>Action</td>\n",
       "      <td>3</td>\n",
       "      <td>6</td>\n",
       "      <td>True</td>\n",
       "      <td>...</td>\n",
       "      <td>3.3</td>\n",
       "      <td>False</td>\n",
       "      <td>Active</td>\n",
       "      <td>2878</td>\n",
       "      <td>Smartphone</td>\n",
       "      <td>35-44</td>\n",
       "      <td>Late Night</td>\n",
       "      <td>0-50</td>\n",
       "      <td>2000-2999</td>\n",
       "      <td>Mature Streamers</td>\n",
       "    </tr>\n",
       "    <tr>\n",
       "      <th>1</th>\n",
       "      <td>6430</td>\n",
       "      <td>Patrick</td>\n",
       "      <td>4/3/2023</td>\n",
       "      <td>12/15/2024</td>\n",
       "      <td>7.99</td>\n",
       "      <td>161</td>\n",
       "      <td>Drama</td>\n",
       "      <td>1</td>\n",
       "      <td>2</td>\n",
       "      <td>True</td>\n",
       "      <td>...</td>\n",
       "      <td>4.0</td>\n",
       "      <td>False</td>\n",
       "      <td>Active</td>\n",
       "      <td>2291</td>\n",
       "      <td>Desktop</td>\n",
       "      <td>25-34</td>\n",
       "      <td>Evening</td>\n",
       "      <td>101-200</td>\n",
       "      <td>2000-2999</td>\n",
       "      <td>Adult Streamers</td>\n",
       "    </tr>\n",
       "    <tr>\n",
       "      <th>2</th>\n",
       "      <td>1798</td>\n",
       "      <td>Robert</td>\n",
       "      <td>8/2/2023</td>\n",
       "      <td>12/14/2024</td>\n",
       "      <td>11.99</td>\n",
       "      <td>87</td>\n",
       "      <td>Action</td>\n",
       "      <td>2</td>\n",
       "      <td>5</td>\n",
       "      <td>False</td>\n",
       "      <td>...</td>\n",
       "      <td>3.1</td>\n",
       "      <td>False</td>\n",
       "      <td>Active</td>\n",
       "      <td>1692</td>\n",
       "      <td>Desktop</td>\n",
       "      <td>35-44</td>\n",
       "      <td>Late Night</td>\n",
       "      <td>51-100</td>\n",
       "      <td>1000-1999</td>\n",
       "      <td>Mature Streamers</td>\n",
       "    </tr>\n",
       "    <tr>\n",
       "      <th>3</th>\n",
       "      <td>5255</td>\n",
       "      <td>Cole</td>\n",
       "      <td>1/31/2023</td>\n",
       "      <td>12/2/2024</td>\n",
       "      <td>15.99</td>\n",
       "      <td>321</td>\n",
       "      <td>Sci-Fi</td>\n",
       "      <td>1</td>\n",
       "      <td>5</td>\n",
       "      <td>False</td>\n",
       "      <td>...</td>\n",
       "      <td>4.6</td>\n",
       "      <td>False</td>\n",
       "      <td>Active</td>\n",
       "      <td>952</td>\n",
       "      <td>Desktop</td>\n",
       "      <td>25-34</td>\n",
       "      <td>Evening</td>\n",
       "      <td>301-500</td>\n",
       "      <td>0-999</td>\n",
       "      <td>Adult Streamers</td>\n",
       "    </tr>\n",
       "    <tr>\n",
       "      <th>4</th>\n",
       "      <td>2854</td>\n",
       "      <td>Jamie</td>\n",
       "      <td>6/6/2023</td>\n",
       "      <td>12/15/2024</td>\n",
       "      <td>11.99</td>\n",
       "      <td>386</td>\n",
       "      <td>Documentary</td>\n",
       "      <td>1</td>\n",
       "      <td>4</td>\n",
       "      <td>True</td>\n",
       "      <td>...</td>\n",
       "      <td>3.7</td>\n",
       "      <td>False</td>\n",
       "      <td>Active</td>\n",
       "      <td>1823</td>\n",
       "      <td>Desktop</td>\n",
       "      <td>25-34</td>\n",
       "      <td>Late Night</td>\n",
       "      <td>301-500</td>\n",
       "      <td>1000-1999</td>\n",
       "      <td>Adult Streamers</td>\n",
       "    </tr>\n",
       "  </tbody>\n",
       "</table>\n",
       "<p>5 rows × 26 columns</p>\n",
       "</div>"
      ],
      "text/plain": [
       "   User_ID User_Name  Join_Date  Last_Login  Monthly_Price  Watch_Hours  \\\n",
       "0     2518     Amber  5/15/2023  12/13/2024           7.99           49   \n",
       "1     6430   Patrick   4/3/2023  12/15/2024           7.99          161   \n",
       "2     1798    Robert   8/2/2023  12/14/2024          11.99           87   \n",
       "3     5255      Cole  1/31/2023   12/2/2024          15.99          321   \n",
       "4     2854     Jamie   6/6/2023  12/15/2024          11.99          386   \n",
       "\n",
       "  Favorite_Genre  Active_Devices  Profile_Count  Parental_Controls  ...  \\\n",
       "0         Action               3              6               True  ...   \n",
       "1          Drama               1              2               True  ...   \n",
       "2         Action               2              5              False  ...   \n",
       "3         Sci-Fi               1              5              False  ...   \n",
       "4    Documentary               1              4               True  ...   \n",
       "\n",
       "   Average_Rating_Given  Has_Downloaded_Content Membership_Status  \\\n",
       "0                   3.3                   False            Active   \n",
       "1                   4.0                   False            Active   \n",
       "2                   3.1                   False            Active   \n",
       "3                   4.6                   False            Active   \n",
       "4                   3.7                   False            Active   \n",
       "\n",
       "  Loyalty_Points First_Device_Used  Age_Group  Primary_Watch_Time  \\\n",
       "0           2878        Smartphone      35-44          Late Night   \n",
       "1           2291           Desktop      25-34             Evening   \n",
       "2           1692           Desktop      35-44          Late Night   \n",
       "3            952           Desktop      25-34             Evening   \n",
       "4           1823           Desktop      25-34          Late Night   \n",
       "\n",
       "   Watch_Hour_Group Loyalty_Point_Group      Age_Category  \n",
       "0             0-50           2000-2999   Mature Streamers  \n",
       "1          101-200           2000-2999    Adult Streamers  \n",
       "2           51-100           1000-1999   Mature Streamers  \n",
       "3          301-500               0-999    Adult Streamers  \n",
       "4          301-500           1000-1999    Adult Streamers  \n",
       "\n",
       "[5 rows x 26 columns]"
      ]
     },
     "execution_count": 230,
     "metadata": {},
     "output_type": "execute_result"
    }
   ],
   "source": [
    "stream_data_filename=os.path.join(processed_dir,\"cleaned_stream_data.csv\")\n",
    "stream_df=pd.read_csv(stream_data_filename)\n",
    "stream_df.head()"
   ]
  },
  {
   "cell_type": "markdown",
   "id": "e4c73c61-caab-4d82-8efa-02bbb2b38c46",
   "metadata": {},
   "source": [
    "## Understanding a Dataset\n",
    "\n",
    "Number of rows and columns we have after making cleaning"
   ]
  },
  {
   "cell_type": "code",
   "execution_count": 232,
   "id": "796c1a4a-7f4a-40ae-98dd-42e058039bcf",
   "metadata": {},
   "outputs": [
    {
     "data": {
      "text/plain": [
       "(1000, 26)"
      ]
     },
     "execution_count": 232,
     "metadata": {},
     "output_type": "execute_result"
    }
   ],
   "source": [
    "stream_df.shape"
   ]
  },
  {
   "cell_type": "markdown",
   "id": "39d357c1-c897-4af8-8d06-bd20da3d12b4",
   "metadata": {},
   "source": [
    "## 📄 Dataset Columns and Data Types\n",
    "\n",
    "| Column Name               | Data Type | Description                                                                                     |\n",
    "|---------------------------|-----------|-------------------------------------------------------------------------------------------------|\n",
    "| **User_ID**               | int64     | Unique identifier for each user.                                                               |\n",
    "| **User_Name**             | object    | The name or username of the user.                                                              |\n",
    "| **Join_Date**             | object    | The date when the user created their account (stored as string/object).                         |\n",
    "| **Last_Login**            | object    | The most recent login date for the user (stored as string/object).                             |\n",
    "| **Monthly_Price**         | float64   | Monthly subscription price paid by the user.                                                  |\n",
    "| **Watch_Hours**           | int64     | Total hours the user has spent watching content.                                              |\n",
    "| **Favorite_Genre**        | object    | The genre most frequently watched by the user (e.g., Action, Comedy, Drama).                   |\n",
    "| **Active_Devices**        | int64     | Number of devices linked to the user account.                                                 |\n",
    "| **Profile_Count**         | int64     | Number of user profiles under the account.                                                    |\n",
    "| **Parental_Controls**     | bool      | Indicates if parental control settings are enabled (True or False).                            |\n",
    "| **Total_Movies_Watched**  | int64     | Total movies watched by the user.                                                             |\n",
    "| **Total_Series_Watched**  | int64     | Total series watched by the user.                                                             |\n",
    "| **Country**               | object    | User's country of residence (e.g., USA, UK, India).                                           |\n",
    "| **Payment_Method**        | object    | Payment method used by the user (e.g., Credit Card, PayPal).                                  |\n",
    "| **Language_Preference**   | object    | Preferred content/interface language (e.g., English, Spanish).                                |\n",
    "| **Recommended_Content_Count** | int64  | Number of recommended contents the user received.                                            |\n",
    "| **Average_Rating_Given**  | float64   | Average rating given by the user to the content.                                              |\n",
    "| **Has_Downloaded_Content**| bool      | Whether the user has downloaded any content (True or False).                                  |\n",
    "| **Membership_Status**     | object    | Membership status indicating active or inactive.                                              |\n",
    "| **Loyalty_Points**       | int64     | Total loyalty points accumulated by the user.                                                |\n",
    "| **First_Device_Used**    | object    | The first device used to access the platform (e.g., Smartphone, Smart TV).                    |\n",
    "| **Age_Group**            | object    | Age group category the user belongs to (e.g., Teen, Adult, Senior).                           |\n",
    "| **Primary_Watch_Time**   | object    | Time of day the user most frequently watches content (e.g., Morning, Evening).                |\n",
    "| **Watch_Hour_Group**     | object    | Group/category based on total watch hours (e.g., Low, Medium, High).                          |\n",
    "| **Loyalty_Point_Group**  | object    | Group/category based on loyalty points accumulated.                                          |\n",
    "| **Age_Category**         | object    | Categorized age data used for grouped analysis (e.g., 18–25, 26–35).                         |\n",
    "\n",
    "---\n",
    "\n",
    "**Data Types Summary:**\n",
    "\n",
    "- **bool:** 2 columns  \n",
    "- **float64:** 2 columns  \n",
    "- **int64:** 8 columns  \n",
    "- **object (string):** 14 columns  \n"
   ]
  },
  {
   "cell_type": "code",
   "execution_count": 234,
   "id": "b6b6f72a-7636-467f-a27a-94f2ba98065b",
   "metadata": {},
   "outputs": [
    {
     "name": "stdout",
     "output_type": "stream",
     "text": [
      "<class 'pandas.core.frame.DataFrame'>\n",
      "RangeIndex: 1000 entries, 0 to 999\n",
      "Data columns (total 26 columns):\n",
      " #   Column                     Non-Null Count  Dtype  \n",
      "---  ------                     --------------  -----  \n",
      " 0   User_ID                    1000 non-null   int64  \n",
      " 1   User_Name                  1000 non-null   object \n",
      " 2   Join_Date                  1000 non-null   object \n",
      " 3   Last_Login                 1000 non-null   object \n",
      " 4   Monthly_Price              1000 non-null   float64\n",
      " 5   Watch_Hours                1000 non-null   int64  \n",
      " 6   Favorite_Genre             1000 non-null   object \n",
      " 7   Active_Devices             1000 non-null   int64  \n",
      " 8   Profile_Count              1000 non-null   int64  \n",
      " 9   Parental_Controls          1000 non-null   bool   \n",
      " 10  Total_Movies_Watched       1000 non-null   int64  \n",
      " 11  Total_Series_Watched       1000 non-null   int64  \n",
      " 12  Country                    1000 non-null   object \n",
      " 13  Payment_Method             1000 non-null   object \n",
      " 14  Language_Preference        1000 non-null   object \n",
      " 15  Recommended_Content_Count  1000 non-null   int64  \n",
      " 16  Average_Rating_Given       1000 non-null   float64\n",
      " 17  Has_Downloaded_Content     1000 non-null   bool   \n",
      " 18  Membership_Status          1000 non-null   object \n",
      " 19  Loyalty_Points             1000 non-null   int64  \n",
      " 20  First_Device_Used          1000 non-null   object \n",
      " 21  Age_Group                  1000 non-null   object \n",
      " 22  Primary_Watch_Time         1000 non-null   object \n",
      " 23  Watch_Hour_Group           1000 non-null   object \n",
      " 24  Loyalty_Point_Group        1000 non-null   object \n",
      " 25  Age_Category               1000 non-null   object \n",
      "dtypes: bool(2), float64(2), int64(8), object(14)\n",
      "memory usage: 189.6+ KB\n"
     ]
    }
   ],
   "source": [
    "stream_df.info()"
   ]
  },
  {
   "cell_type": "markdown",
   "id": "44c5232f-8d07-448c-a6ee-94bb055e3d70",
   "metadata": {},
   "source": [
    "## Summary Statistics\n",
    "### Numerical Varible"
   ]
  },
  {
   "cell_type": "code",
   "execution_count": 236,
   "id": "699a96ed-543d-4e22-bda9-024a19ef8698",
   "metadata": {},
   "outputs": [
    {
     "data": {
      "text/html": [
       "<div>\n",
       "<style scoped>\n",
       "    .dataframe tbody tr th:only-of-type {\n",
       "        vertical-align: middle;\n",
       "    }\n",
       "\n",
       "    .dataframe tbody tr th {\n",
       "        vertical-align: top;\n",
       "    }\n",
       "\n",
       "    .dataframe thead th {\n",
       "        text-align: right;\n",
       "    }\n",
       "</style>\n",
       "<table border=\"1\" class=\"dataframe\">\n",
       "  <thead>\n",
       "    <tr style=\"text-align: right;\">\n",
       "      <th></th>\n",
       "      <th>User_ID</th>\n",
       "      <th>Monthly_Price</th>\n",
       "      <th>Watch_Hours</th>\n",
       "      <th>Active_Devices</th>\n",
       "      <th>Profile_Count</th>\n",
       "      <th>Total_Movies_Watched</th>\n",
       "      <th>Total_Series_Watched</th>\n",
       "      <th>Recommended_Content_Count</th>\n",
       "      <th>Average_Rating_Given</th>\n",
       "      <th>Loyalty_Points</th>\n",
       "    </tr>\n",
       "  </thead>\n",
       "  <tbody>\n",
       "    <tr>\n",
       "      <th>count</th>\n",
       "      <td>1000.00000</td>\n",
       "      <td>1000.000000</td>\n",
       "      <td>1000.000000</td>\n",
       "      <td>1000.00000</td>\n",
       "      <td>1000.000000</td>\n",
       "      <td>1000.000000</td>\n",
       "      <td>1000.000000</td>\n",
       "      <td>1000.000000</td>\n",
       "      <td>1000.00000</td>\n",
       "      <td>1000.000000</td>\n",
       "    </tr>\n",
       "    <tr>\n",
       "      <th>mean</th>\n",
       "      <td>5610.52100</td>\n",
       "      <td>12.026000</td>\n",
       "      <td>254.516000</td>\n",
       "      <td>3.04600</td>\n",
       "      <td>3.460000</td>\n",
       "      <td>515.897000</td>\n",
       "      <td>99.746000</td>\n",
       "      <td>51.482000</td>\n",
       "      <td>4.01030</td>\n",
       "      <td>2444.217000</td>\n",
       "    </tr>\n",
       "    <tr>\n",
       "      <th>std</th>\n",
       "      <td>2566.98922</td>\n",
       "      <td>3.238702</td>\n",
       "      <td>140.667264</td>\n",
       "      <td>1.42966</td>\n",
       "      <td>1.749703</td>\n",
       "      <td>282.697585</td>\n",
       "      <td>58.452238</td>\n",
       "      <td>29.323498</td>\n",
       "      <td>0.58459</td>\n",
       "      <td>1434.619603</td>\n",
       "    </tr>\n",
       "    <tr>\n",
       "      <th>min</th>\n",
       "      <td>1003.00000</td>\n",
       "      <td>7.990000</td>\n",
       "      <td>10.000000</td>\n",
       "      <td>1.00000</td>\n",
       "      <td>1.000000</td>\n",
       "      <td>12.000000</td>\n",
       "      <td>1.000000</td>\n",
       "      <td>0.000000</td>\n",
       "      <td>3.00000</td>\n",
       "      <td>3.000000</td>\n",
       "    </tr>\n",
       "    <tr>\n",
       "      <th>25%</th>\n",
       "      <td>3587.75000</td>\n",
       "      <td>7.990000</td>\n",
       "      <td>136.000000</td>\n",
       "      <td>2.00000</td>\n",
       "      <td>2.000000</td>\n",
       "      <td>273.750000</td>\n",
       "      <td>48.750000</td>\n",
       "      <td>26.000000</td>\n",
       "      <td>3.50000</td>\n",
       "      <td>1251.500000</td>\n",
       "    </tr>\n",
       "    <tr>\n",
       "      <th>50%</th>\n",
       "      <td>5694.00000</td>\n",
       "      <td>11.990000</td>\n",
       "      <td>256.000000</td>\n",
       "      <td>3.00000</td>\n",
       "      <td>3.000000</td>\n",
       "      <td>510.000000</td>\n",
       "      <td>103.000000</td>\n",
       "      <td>52.500000</td>\n",
       "      <td>4.00000</td>\n",
       "      <td>2423.000000</td>\n",
       "    </tr>\n",
       "    <tr>\n",
       "      <th>75%</th>\n",
       "      <td>7794.25000</td>\n",
       "      <td>15.990000</td>\n",
       "      <td>373.250000</td>\n",
       "      <td>4.00000</td>\n",
       "      <td>5.000000</td>\n",
       "      <td>770.750000</td>\n",
       "      <td>150.000000</td>\n",
       "      <td>77.000000</td>\n",
       "      <td>4.50000</td>\n",
       "      <td>3660.000000</td>\n",
       "    </tr>\n",
       "    <tr>\n",
       "      <th>max</th>\n",
       "      <td>9996.00000</td>\n",
       "      <td>15.990000</td>\n",
       "      <td>500.000000</td>\n",
       "      <td>5.00000</td>\n",
       "      <td>6.000000</td>\n",
       "      <td>1000.000000</td>\n",
       "      <td>200.000000</td>\n",
       "      <td>100.000000</td>\n",
       "      <td>5.00000</td>\n",
       "      <td>4990.000000</td>\n",
       "    </tr>\n",
       "  </tbody>\n",
       "</table>\n",
       "</div>"
      ],
      "text/plain": [
       "          User_ID  Monthly_Price  Watch_Hours  Active_Devices  Profile_Count  \\\n",
       "count  1000.00000    1000.000000  1000.000000      1000.00000    1000.000000   \n",
       "mean   5610.52100      12.026000   254.516000         3.04600       3.460000   \n",
       "std    2566.98922       3.238702   140.667264         1.42966       1.749703   \n",
       "min    1003.00000       7.990000    10.000000         1.00000       1.000000   \n",
       "25%    3587.75000       7.990000   136.000000         2.00000       2.000000   \n",
       "50%    5694.00000      11.990000   256.000000         3.00000       3.000000   \n",
       "75%    7794.25000      15.990000   373.250000         4.00000       5.000000   \n",
       "max    9996.00000      15.990000   500.000000         5.00000       6.000000   \n",
       "\n",
       "       Total_Movies_Watched  Total_Series_Watched  Recommended_Content_Count  \\\n",
       "count           1000.000000           1000.000000                1000.000000   \n",
       "mean             515.897000             99.746000                  51.482000   \n",
       "std              282.697585             58.452238                  29.323498   \n",
       "min               12.000000              1.000000                   0.000000   \n",
       "25%              273.750000             48.750000                  26.000000   \n",
       "50%              510.000000            103.000000                  52.500000   \n",
       "75%              770.750000            150.000000                  77.000000   \n",
       "max             1000.000000            200.000000                 100.000000   \n",
       "\n",
       "       Average_Rating_Given  Loyalty_Points  \n",
       "count            1000.00000     1000.000000  \n",
       "mean                4.01030     2444.217000  \n",
       "std                 0.58459     1434.619603  \n",
       "min                 3.00000        3.000000  \n",
       "25%                 3.50000     1251.500000  \n",
       "50%                 4.00000     2423.000000  \n",
       "75%                 4.50000     3660.000000  \n",
       "max                 5.00000     4990.000000  "
      ]
     },
     "execution_count": 236,
     "metadata": {},
     "output_type": "execute_result"
    }
   ],
   "source": [
    "stream_df.describe()"
   ]
  },
  {
   "cell_type": "markdown",
   "id": "0aa479d1-1429-4a9a-929d-51c6889c1707",
   "metadata": {},
   "source": [
    "### Explanation:\n",
    "\n",
    "- **Count:** Total number of non-null entries (all columns have 1000 entries, so no missing data).\n",
    "- **Mean:** Average value, indicating central tendency for each column.\n",
    "- **Std (Standard Deviation):** Measures spread or variability around the mean.\n",
    "- **Min and Max:** Minimum and maximum values showing the range.\n",
    "- **25%, 50%, 75% (Quartiles):** Represent the distribution spread, where:\n",
    "  - 25% is the first quartile (Q1),\n",
    "  - 50% is the median,\n",
    "  - 75% is the third quartile (Q3).\n",
    "\n",
    "### Insights:\n",
    "\n",
    "- The **Monthly_Price** ranges mostly between $7.99  and  $15.99, with an average price of $12.03.\n",
    "- Users typically watch between 10 and 500 hours, with a mean of 254 hours.\n",
    "- The number of **Active_Devices** per user ranges from 1 to 5, averaging around 3.\n",
    "- The average rating given by users is high (~4.01 out of 5), indicating overall positive user feedback.\n",
    "- Loyalty points vary widely, from as low as 3 to nearly 5000, showing differences in user engagement.\n",
    "\n",
    "This summary helps understand user behavior and subscription patterns in the streaming service dataset."
   ]
  },
  {
   "cell_type": "markdown",
   "id": "60f76a76-8f43-4bb6-bf40-b8b3599b3f0f",
   "metadata": {},
   "source": [
    "### categorical Variable"
   ]
  },
  {
   "cell_type": "code",
   "execution_count": 239,
   "id": "3ed8c65c-70a1-48ae-829d-f586e4653877",
   "metadata": {},
   "outputs": [
    {
     "data": {
      "text/html": [
       "<div>\n",
       "<style scoped>\n",
       "    .dataframe tbody tr th:only-of-type {\n",
       "        vertical-align: middle;\n",
       "    }\n",
       "\n",
       "    .dataframe tbody tr th {\n",
       "        vertical-align: top;\n",
       "    }\n",
       "\n",
       "    .dataframe thead th {\n",
       "        text-align: right;\n",
       "    }\n",
       "</style>\n",
       "<table border=\"1\" class=\"dataframe\">\n",
       "  <thead>\n",
       "    <tr style=\"text-align: right;\">\n",
       "      <th></th>\n",
       "      <th>User_Name</th>\n",
       "      <th>Join_Date</th>\n",
       "      <th>Last_Login</th>\n",
       "      <th>Favorite_Genre</th>\n",
       "      <th>Country</th>\n",
       "      <th>Payment_Method</th>\n",
       "      <th>Language_Preference</th>\n",
       "      <th>Membership_Status</th>\n",
       "      <th>First_Device_Used</th>\n",
       "      <th>Age_Group</th>\n",
       "      <th>Primary_Watch_Time</th>\n",
       "      <th>Watch_Hour_Group</th>\n",
       "      <th>Loyalty_Point_Group</th>\n",
       "      <th>Age_Category</th>\n",
       "    </tr>\n",
       "  </thead>\n",
       "  <tbody>\n",
       "    <tr>\n",
       "      <th>count</th>\n",
       "      <td>1000</td>\n",
       "      <td>1000</td>\n",
       "      <td>1000</td>\n",
       "      <td>1000</td>\n",
       "      <td>1000</td>\n",
       "      <td>1000</td>\n",
       "      <td>1000</td>\n",
       "      <td>1000</td>\n",
       "      <td>1000</td>\n",
       "      <td>1000</td>\n",
       "      <td>1000</td>\n",
       "      <td>1000</td>\n",
       "      <td>1000</td>\n",
       "      <td>1000</td>\n",
       "    </tr>\n",
       "    <tr>\n",
       "      <th>unique</th>\n",
       "      <td>340</td>\n",
       "      <td>540</td>\n",
       "      <td>30</td>\n",
       "      <td>7</td>\n",
       "      <td>7</td>\n",
       "      <td>4</td>\n",
       "      <td>6</td>\n",
       "      <td>1</td>\n",
       "      <td>5</td>\n",
       "      <td>5</td>\n",
       "      <td>4</td>\n",
       "      <td>5</td>\n",
       "      <td>5</td>\n",
       "      <td>5</td>\n",
       "    </tr>\n",
       "    <tr>\n",
       "      <th>top</th>\n",
       "      <td>Michael</td>\n",
       "      <td>4/17/2023</td>\n",
       "      <td>11/29/2024</td>\n",
       "      <td>Horror</td>\n",
       "      <td>USA</td>\n",
       "      <td>PayPal</td>\n",
       "      <td>Mandarin</td>\n",
       "      <td>Active</td>\n",
       "      <td>Tablet</td>\n",
       "      <td>45-54</td>\n",
       "      <td>Late Night</td>\n",
       "      <td>301-500</td>\n",
       "      <td>1000-1999</td>\n",
       "      <td>Older Streamers</td>\n",
       "    </tr>\n",
       "    <tr>\n",
       "      <th>freq</th>\n",
       "      <td>25</td>\n",
       "      <td>6</td>\n",
       "      <td>48</td>\n",
       "      <td>157</td>\n",
       "      <td>158</td>\n",
       "      <td>269</td>\n",
       "      <td>179</td>\n",
       "      <td>1000</td>\n",
       "      <td>215</td>\n",
       "      <td>208</td>\n",
       "      <td>271</td>\n",
       "      <td>408</td>\n",
       "      <td>215</td>\n",
       "      <td>208</td>\n",
       "    </tr>\n",
       "  </tbody>\n",
       "</table>\n",
       "</div>"
      ],
      "text/plain": [
       "       User_Name  Join_Date  Last_Login Favorite_Genre Country Payment_Method  \\\n",
       "count       1000       1000        1000           1000    1000           1000   \n",
       "unique       340        540          30              7       7              4   \n",
       "top      Michael  4/17/2023  11/29/2024         Horror     USA         PayPal   \n",
       "freq          25          6          48            157     158            269   \n",
       "\n",
       "       Language_Preference Membership_Status First_Device_Used Age_Group  \\\n",
       "count                 1000              1000              1000      1000   \n",
       "unique                   6                 1                 5         5   \n",
       "top               Mandarin            Active            Tablet     45-54   \n",
       "freq                   179              1000               215       208   \n",
       "\n",
       "       Primary_Watch_Time Watch_Hour_Group Loyalty_Point_Group  \\\n",
       "count                1000             1000                1000   \n",
       "unique                  4                5                   5   \n",
       "top            Late Night         301-500           1000-1999    \n",
       "freq                  271              408                 215   \n",
       "\n",
       "           Age_Category  \n",
       "count              1000  \n",
       "unique                5  \n",
       "top     Older Streamers  \n",
       "freq                208  "
      ]
     },
     "execution_count": 239,
     "metadata": {},
     "output_type": "execute_result"
    }
   ],
   "source": [
    "stream_df.describe(include='object')"
   ]
  },
  {
   "cell_type": "markdown",
   "id": "baff776f-6629-4d91-80de-07535699fb7c",
   "metadata": {},
   "source": [
    "### Explanation:\n",
    "\n",
    "- **Count:** Number of non-null entries (all columns have full 1000 entries, no missing values).\n",
    "- **Unique Values:** Number of distinct values in the column.\n",
    "- **Top (Most Frequent) Value:** The most common value in the column.\n",
    "- **Frequency:** Number of times the top value occurs.\n",
    "\n",
    "### Insights:\n",
    "\n",
    "- The most common user name is **Michael** (25 users).\n",
    "- Users joined most frequently on **4/17/2023**.\n",
    "- The most frequent last login date is **11/29/2024**.\n",
    "- The favorite genre among users is **Horror**.\n",
    "- The majority of users are from the **USA**.\n",
    "- **PayPal** is the most used payment method.\n",
    "- Most users prefer content in **Mandarin**.\n",
    "- All users currently have **Active** membership status.\n",
    "- The first device used to access the service is most commonly a **Tablet**.\n",
    "- The most common age group is **45-54**, labeled under **Older Streamers**.\n",
    "- Users mostly watch during **Late Night** hours.\n",
    "- The largest watch hour group is between **301-500 hours**.\n",
    "- Most users fall into the **1000-1999 loyalty points** group.\n",
    "\n",
    "This summary provides insights into user demographics, preferences, and usage patterns."
   ]
  },
  {
   "cell_type": "markdown",
   "id": "d30edb14-83d1-4574-b0ce-b87475e61ce2",
   "metadata": {},
   "source": [
    "## Understanding all Categorical "
   ]
  },
  {
   "cell_type": "code",
   "execution_count": 242,
   "id": "4b442c80-3dcb-4038-bff0-9207c3a87ff0",
   "metadata": {},
   "outputs": [
    {
     "data": {
      "text/plain": [
       "Favorite_Genre\n",
       "Horror         157\n",
       "Action         150\n",
       "Comedy         146\n",
       "Romance        146\n",
       "Drama          142\n",
       "Documentary    130\n",
       "Sci-Fi         129\n",
       "Name: count, dtype: int64"
      ]
     },
     "execution_count": 242,
     "metadata": {},
     "output_type": "execute_result"
    }
   ],
   "source": [
    "stream_df['Favorite_Genre'].value_counts()"
   ]
  },
  {
   "cell_type": "code",
   "execution_count": 243,
   "id": "2bc11a30-d1cc-4295-9366-288f20c7457e",
   "metadata": {},
   "outputs": [
    {
     "data": {
      "text/plain": [
       "Country\n",
       "USA          158\n",
       "France       151\n",
       "UK           150\n",
       "Germany      146\n",
       "Australia    140\n",
       "Canada       139\n",
       "India        116\n",
       "Name: count, dtype: int64"
      ]
     },
     "execution_count": 243,
     "metadata": {},
     "output_type": "execute_result"
    }
   ],
   "source": [
    "stream_df['Country'].value_counts()"
   ]
  },
  {
   "cell_type": "code",
   "execution_count": 244,
   "id": "855880c0-da5b-4b06-853d-928b061fea37",
   "metadata": {},
   "outputs": [
    {
     "data": {
      "text/plain": [
       "Payment_Method\n",
       "PayPal            269\n",
       "Cryptocurrency    254\n",
       "Debit Card        249\n",
       "Credit Card       228\n",
       "Name: count, dtype: int64"
      ]
     },
     "execution_count": 244,
     "metadata": {},
     "output_type": "execute_result"
    }
   ],
   "source": [
    "stream_df['Payment_Method'].value_counts()"
   ]
  },
  {
   "cell_type": "code",
   "execution_count": 245,
   "id": "098d0607-e2ab-4aa9-a312-deb91fc2b508",
   "metadata": {},
   "outputs": [
    {
     "data": {
      "text/plain": [
       "Language_Preference\n",
       "Mandarin    179\n",
       "French      171\n",
       "English     168\n",
       "German      167\n",
       "Hindi       162\n",
       "Spanish     153\n",
       "Name: count, dtype: int64"
      ]
     },
     "execution_count": 245,
     "metadata": {},
     "output_type": "execute_result"
    }
   ],
   "source": [
    "stream_df['Language_Preference'].value_counts()"
   ]
  },
  {
   "cell_type": "code",
   "execution_count": 246,
   "id": "26164816-3e42-4406-b885-e701bcde7ba3",
   "metadata": {},
   "outputs": [
    {
     "data": {
      "text/plain": [
       "First_Device_Used\n",
       "Tablet        215\n",
       "Smartphone    209\n",
       "Smart TV      209\n",
       "Desktop       189\n",
       "Laptop        178\n",
       "Name: count, dtype: int64"
      ]
     },
     "execution_count": 246,
     "metadata": {},
     "output_type": "execute_result"
    }
   ],
   "source": [
    "stream_df['First_Device_Used'].value_counts()"
   ]
  },
  {
   "cell_type": "code",
   "execution_count": 247,
   "id": "f1be2782-6554-44d6-93c2-909808fbd154",
   "metadata": {},
   "outputs": [
    {
     "data": {
      "text/plain": [
       "Age_Group\n",
       "45-54    208\n",
       "35-44    207\n",
       "55+      205\n",
       "25-34    200\n",
       "18-24    180\n",
       "Name: count, dtype: int64"
      ]
     },
     "execution_count": 247,
     "metadata": {},
     "output_type": "execute_result"
    }
   ],
   "source": [
    "stream_df['Age_Group'].value_counts()"
   ]
  },
  {
   "cell_type": "code",
   "execution_count": 248,
   "id": "a8b81fc4-2be9-4f90-a00e-2fe34194312d",
   "metadata": {},
   "outputs": [
    {
     "data": {
      "text/plain": [
       "Age_Category\n",
       "Older Streamers     208\n",
       "Mature Streamers    207\n",
       "Senior Streamers    205\n",
       "Adult Streamers     200\n",
       "Young Streamers     180\n",
       "Name: count, dtype: int64"
      ]
     },
     "execution_count": 248,
     "metadata": {},
     "output_type": "execute_result"
    }
   ],
   "source": [
    "stream_df['Age_Category'].value_counts()"
   ]
  },
  {
   "cell_type": "code",
   "execution_count": 249,
   "id": "5650af82-2184-4586-8b03-e798583005b3",
   "metadata": {},
   "outputs": [
    {
     "data": {
      "text/plain": [
       "Primary_Watch_Time\n",
       "Late Night    271\n",
       "Evening       256\n",
       "Afternoon     251\n",
       "Morning       222\n",
       "Name: count, dtype: int64"
      ]
     },
     "execution_count": 249,
     "metadata": {},
     "output_type": "execute_result"
    }
   ],
   "source": [
    "stream_df['Primary_Watch_Time'].value_counts()"
   ]
  },
  {
   "cell_type": "code",
   "execution_count": 250,
   "id": "2f440195-0636-4c2e-b3de-443bfba8a1a8",
   "metadata": {},
   "outputs": [
    {
     "data": {
      "text/plain": [
       "Watch_Hour_Group\n",
       "301-500     408\n",
       "101-200     210\n",
       "201-300     201\n",
       "0-50         93\n",
       "51-100       88\n",
       "Name: count, dtype: int64"
      ]
     },
     "execution_count": 250,
     "metadata": {},
     "output_type": "execute_result"
    }
   ],
   "source": [
    "stream_df['Watch_Hour_Group'].value_counts()"
   ]
  },
  {
   "cell_type": "code",
   "execution_count": 251,
   "id": "a95c4c0b-e74a-4cd9-9ee6-199f0b28e296",
   "metadata": {},
   "outputs": [
    {
     "data": {
      "text/plain": [
       "Loyalty_Point_Group\n",
       "1000-1999     215\n",
       "0-999         207\n",
       "2000-2999     196\n",
       "3000-3999     191\n",
       "4000-4990     191\n",
       "Name: count, dtype: int64"
      ]
     },
     "execution_count": 251,
     "metadata": {},
     "output_type": "execute_result"
    }
   ],
   "source": [
    "stream_df['Loyalty_Point_Group'].value_counts()"
   ]
  },
  {
   "cell_type": "markdown",
   "id": "07cfbe65-d6b5-4e20-b0c4-a7db7e78e81a",
   "metadata": {},
   "source": [
    "### KPI Calculations"
   ]
  },
  {
   "cell_type": "markdown",
   "id": "0c7c37fe-a1fb-42a0-bab6-3980e15f1ca1",
   "metadata": {},
   "source": [
    "### Note: All users currently have an active membership."
   ]
  },
  {
   "cell_type": "markdown",
   "id": "c5c2a00c-b095-4704-aa52-7efa29fc950e",
   "metadata": {},
   "source": [
    "## Watch Hours by Age Category"
   ]
  },
  {
   "cell_type": "code",
   "execution_count": 255,
   "id": "56484b19-9540-4897-b6ce-85b8484ac97e",
   "metadata": {},
   "outputs": [
    {
     "data": {
      "text/html": [
       "<div>\n",
       "<style scoped>\n",
       "    .dataframe tbody tr th:only-of-type {\n",
       "        vertical-align: middle;\n",
       "    }\n",
       "\n",
       "    .dataframe tbody tr th {\n",
       "        vertical-align: top;\n",
       "    }\n",
       "\n",
       "    .dataframe thead th {\n",
       "        text-align: right;\n",
       "    }\n",
       "</style>\n",
       "<table border=\"1\" class=\"dataframe\">\n",
       "  <thead>\n",
       "    <tr style=\"text-align: right;\">\n",
       "      <th></th>\n",
       "      <th>Age_Category</th>\n",
       "      <th>User_Count</th>\n",
       "    </tr>\n",
       "  </thead>\n",
       "  <tbody>\n",
       "    <tr>\n",
       "      <th>0</th>\n",
       "      <td>Older Streamers</td>\n",
       "      <td>208</td>\n",
       "    </tr>\n",
       "    <tr>\n",
       "      <th>1</th>\n",
       "      <td>Mature Streamers</td>\n",
       "      <td>207</td>\n",
       "    </tr>\n",
       "    <tr>\n",
       "      <th>2</th>\n",
       "      <td>Senior Streamers</td>\n",
       "      <td>205</td>\n",
       "    </tr>\n",
       "    <tr>\n",
       "      <th>3</th>\n",
       "      <td>Adult Streamers</td>\n",
       "      <td>200</td>\n",
       "    </tr>\n",
       "    <tr>\n",
       "      <th>4</th>\n",
       "      <td>Young Streamers</td>\n",
       "      <td>180</td>\n",
       "    </tr>\n",
       "  </tbody>\n",
       "</table>\n",
       "</div>"
      ],
      "text/plain": [
       "       Age_Category  User_Count\n",
       "0   Older Streamers         208\n",
       "1  Mature Streamers         207\n",
       "2  Senior Streamers         205\n",
       "3   Adult Streamers         200\n",
       "4   Young Streamers         180"
      ]
     },
     "execution_count": 255,
     "metadata": {},
     "output_type": "execute_result"
    }
   ],
   "source": [
    "age_category_counts = stream_df[\"Age_Category\"].value_counts().reset_index()\n",
    "age_category_counts.columns = [\"Age_Category\", \"User_Count\"]\n",
    "age_category_counts"
   ]
  },
  {
   "cell_type": "code",
   "execution_count": 256,
   "id": "95312d5b-0a2d-47c5-8169-04cc78ad5c7f",
   "metadata": {},
   "outputs": [
    {
     "data": {
      "application/vnd.plotly.v1+json": {
       "config": {
        "plotlyServerURL": "https://plot.ly"
       },
       "data": [
        {
         "domain": {
          "x": [
           0,
           1
          ],
          "y": [
           0,
           1
          ]
         },
         "hole": 0.4,
         "hovertemplate": "Age_Category=%{label}<br>User_Count=%{value}<extra></extra>",
         "labels": [
          "Older Streamers",
          "Mature Streamers",
          "Senior Streamers",
          "Adult Streamers",
          "Young Streamers"
         ],
         "legendgroup": "",
         "name": "",
         "showlegend": true,
         "type": "pie",
         "values": {
          "_inputArray": {
           "0": 208,
           "1": 207,
           "2": 205,
           "3": 200,
           "4": 180,
           "bdata": "0ADPAM0AyAC0AA==",
           "dtype": "i2",
           "shape": "5"
          },
          "bdata": "0ADPAM0AyAC0AA==",
          "dtype": "i2"
         }
        }
       ],
       "layout": {
        "height": 600,
        "legend": {
         "title": {
          "text": "Age Categories"
         },
         "tracegroupgap": 0
        },
        "paper_bgcolor": "rgba(0, 0, 0, 0)",
        "piecolorway": [
         "rgb(8,48,107)",
         "rgb(8,81,156)",
         "rgb(33,113,181)",
         "rgb(66,146,198)",
         "rgb(107,174,214)",
         "rgb(158,202,225)",
         "rgb(198,219,239)",
         "rgb(222,235,247)",
         "rgb(247,251,255)"
        ],
        "template": {
         "data": {
          "pie": [
           {
            "automargin": true,
            "type": "pie"
           }
          ],
          "scatter": [
           {
            "line": {
             "width": 3
            },
            "marker": {
             "size": 9
            },
            "type": "scatter"
           }
          ],
          "scatter3d": [
           {
            "line": {
             "width": 3
            },
            "marker": {
             "size": 9
            },
            "type": "scatter3d"
           }
          ],
          "scattergeo": [
           {
            "line": {
             "width": 3
            },
            "marker": {
             "size": 9
            },
            "type": "scattergeo"
           }
          ],
          "scattergl": [
           {
            "line": {
             "width": 3
            },
            "marker": {
             "size": 9
            },
            "type": "scattergl"
           }
          ],
          "scatterpolar": [
           {
            "line": {
             "width": 3
            },
            "marker": {
             "size": 9
            },
            "type": "scatterpolar"
           }
          ],
          "scatterpolargl": [
           {
            "line": {
             "width": 3
            },
            "marker": {
             "size": 9
            },
            "type": "scatterpolargl"
           }
          ],
          "scatterternary": [
           {
            "line": {
             "width": 3
            },
            "marker": {
             "size": 9
            },
            "type": "scatterternary"
           }
          ],
          "table": [
           {
            "cells": {
             "height": 30
            },
            "header": {
             "height": 36
            },
            "type": "table"
           }
          ]
         },
         "layout": {
          "font": {
           "size": 18
          },
          "xaxis": {
           "title": {
            "standoff": 15
           }
          },
          "yaxis": {
           "title": {
            "standoff": 15
           }
          }
         }
        },
        "title": {
         "text": "Viewer Age Category Distribution"
        },
        "width": 800
       }
      }
     },
     "metadata": {},
     "output_type": "display_data"
    }
   ],
   "source": [
    "age_category_counts = stream_df[\"Age_Category\"].value_counts().reset_index()\n",
    "age_category_counts.columns = [\"Age_Category\", \"User_Count\"]\n",
    "\n",
    "fig = px.pie(\n",
    "    age_category_counts,\n",
    "    names=\"Age_Category\",\n",
    "    values=\"User_Count\",\n",
    "    title=\"Viewer Age Category Distribution\",\n",
    "    hole=0.4,\n",
    "    color_discrete_sequence=px.colors.sequential.Blues_r\n",
    ")\n",
    "\n",
    "fig.update_layout(\n",
    "    template=\"presentation\",\n",
    "    height=600,\n",
    "    width=800,\n",
    "    legend_title=dict(text=\"Age Categories\"),\n",
    "    paper_bgcolor=\"rgba(0, 0, 0, 0)\"\n",
    ")\n",
    "\n",
    "fig.show()\n",
    "fig.write_image(os.path.join(result_dir,'Viewer Age Category Distribution.jpg'))\n",
    "fig.write_image(os.path.join(result_dir,'Viewer Age Category Distribution.png'))\n",
    "fig.write_html(os.path.join(result_dir,'Viewer Age Category Distribution.html'))"
   ]
  },
  {
   "cell_type": "markdown",
   "id": "82f930c5-f3e8-4192-b8bc-ac1c4645108a",
   "metadata": {},
   "source": [
    "The dataset categorizes users into five age groups with the following user counts:\n",
    "\n",
    "- **Older Streamers:** 208 users  \n",
    "- **Mature Streamers:** 207 users  \n",
    "- **Senior Streamers:** 205 users  \n",
    "- **Adult Streamers:** 200 users\n",
    "- **Young Streamers:** 180 users  \n",
    "\n",
    "A donut pie chart was created using Plotly Express to visualize this distribution, showing the proportion of users in each age category. We have to  saved as `.jpg`, `.png`, and `.html` files for reporting purposes in result folders."
   ]
  },
  {
   "cell_type": "markdown",
   "id": "affc5d7a-d3c1-4e09-88bd-a46e08d04480",
   "metadata": {},
   "source": [
    "### Favorite genre by Country"
   ]
  },
  {
   "cell_type": "code",
   "execution_count": 259,
   "id": "07bfc3d2-d9ae-42df-b5f6-485700d6ed0a",
   "metadata": {},
   "outputs": [
    {
     "data": {
      "text/html": [
       "<div>\n",
       "<style scoped>\n",
       "    .dataframe tbody tr th:only-of-type {\n",
       "        vertical-align: middle;\n",
       "    }\n",
       "\n",
       "    .dataframe tbody tr th {\n",
       "        vertical-align: top;\n",
       "    }\n",
       "\n",
       "    .dataframe thead th {\n",
       "        text-align: right;\n",
       "    }\n",
       "</style>\n",
       "<table border=\"1\" class=\"dataframe\">\n",
       "  <thead>\n",
       "    <tr style=\"text-align: right;\">\n",
       "      <th></th>\n",
       "      <th>Country</th>\n",
       "      <th>Favorite_Genre</th>\n",
       "      <th>total</th>\n",
       "    </tr>\n",
       "  </thead>\n",
       "  <tbody>\n",
       "    <tr>\n",
       "      <th>18</th>\n",
       "      <td>France</td>\n",
       "      <td>Horror</td>\n",
       "      <td>36</td>\n",
       "    </tr>\n",
       "    <tr>\n",
       "      <th>45</th>\n",
       "      <td>USA</td>\n",
       "      <td>Drama</td>\n",
       "      <td>32</td>\n",
       "    </tr>\n",
       "    <tr>\n",
       "      <th>36</th>\n",
       "      <td>UK</td>\n",
       "      <td>Comedy</td>\n",
       "      <td>30</td>\n",
       "    </tr>\n",
       "    <tr>\n",
       "      <th>21</th>\n",
       "      <td>Germany</td>\n",
       "      <td>Action</td>\n",
       "      <td>28</td>\n",
       "    </tr>\n",
       "    <tr>\n",
       "      <th>4</th>\n",
       "      <td>Australia</td>\n",
       "      <td>Horror</td>\n",
       "      <td>27</td>\n",
       "    </tr>\n",
       "    <tr>\n",
       "      <th>42</th>\n",
       "      <td>USA</td>\n",
       "      <td>Action</td>\n",
       "      <td>26</td>\n",
       "    </tr>\n",
       "    <tr>\n",
       "      <th>19</th>\n",
       "      <td>France</td>\n",
       "      <td>Romance</td>\n",
       "      <td>26</td>\n",
       "    </tr>\n",
       "    <tr>\n",
       "      <th>16</th>\n",
       "      <td>France</td>\n",
       "      <td>Documentary</td>\n",
       "      <td>24</td>\n",
       "    </tr>\n",
       "    <tr>\n",
       "      <th>12</th>\n",
       "      <td>Canada</td>\n",
       "      <td>Romance</td>\n",
       "      <td>24</td>\n",
       "    </tr>\n",
       "    <tr>\n",
       "      <th>13</th>\n",
       "      <td>Canada</td>\n",
       "      <td>Sci-Fi</td>\n",
       "      <td>24</td>\n",
       "    </tr>\n",
       "    <tr>\n",
       "      <th>24</th>\n",
       "      <td>Germany</td>\n",
       "      <td>Drama</td>\n",
       "      <td>23</td>\n",
       "    </tr>\n",
       "    <tr>\n",
       "      <th>46</th>\n",
       "      <td>USA</td>\n",
       "      <td>Horror</td>\n",
       "      <td>23</td>\n",
       "    </tr>\n",
       "    <tr>\n",
       "      <th>38</th>\n",
       "      <td>UK</td>\n",
       "      <td>Drama</td>\n",
       "      <td>23</td>\n",
       "    </tr>\n",
       "    <tr>\n",
       "      <th>10</th>\n",
       "      <td>Canada</td>\n",
       "      <td>Drama</td>\n",
       "      <td>23</td>\n",
       "    </tr>\n",
       "    <tr>\n",
       "      <th>20</th>\n",
       "      <td>France</td>\n",
       "      <td>Sci-Fi</td>\n",
       "      <td>23</td>\n",
       "    </tr>\n",
       "    <tr>\n",
       "      <th>35</th>\n",
       "      <td>UK</td>\n",
       "      <td>Action</td>\n",
       "      <td>22</td>\n",
       "    </tr>\n",
       "    <tr>\n",
       "      <th>0</th>\n",
       "      <td>Australia</td>\n",
       "      <td>Action</td>\n",
       "      <td>22</td>\n",
       "    </tr>\n",
       "    <tr>\n",
       "      <th>25</th>\n",
       "      <td>Germany</td>\n",
       "      <td>Horror</td>\n",
       "      <td>21</td>\n",
       "    </tr>\n",
       "    <tr>\n",
       "      <th>44</th>\n",
       "      <td>USA</td>\n",
       "      <td>Documentary</td>\n",
       "      <td>21</td>\n",
       "    </tr>\n",
       "    <tr>\n",
       "      <th>22</th>\n",
       "      <td>Germany</td>\n",
       "      <td>Comedy</td>\n",
       "      <td>21</td>\n",
       "    </tr>\n",
       "    <tr>\n",
       "      <th>26</th>\n",
       "      <td>Germany</td>\n",
       "      <td>Romance</td>\n",
       "      <td>21</td>\n",
       "    </tr>\n",
       "    <tr>\n",
       "      <th>8</th>\n",
       "      <td>Canada</td>\n",
       "      <td>Comedy</td>\n",
       "      <td>20</td>\n",
       "    </tr>\n",
       "    <tr>\n",
       "      <th>7</th>\n",
       "      <td>Canada</td>\n",
       "      <td>Action</td>\n",
       "      <td>20</td>\n",
       "    </tr>\n",
       "    <tr>\n",
       "      <th>39</th>\n",
       "      <td>UK</td>\n",
       "      <td>Horror</td>\n",
       "      <td>20</td>\n",
       "    </tr>\n",
       "    <tr>\n",
       "      <th>28</th>\n",
       "      <td>India</td>\n",
       "      <td>Action</td>\n",
       "      <td>20</td>\n",
       "    </tr>\n",
       "    <tr>\n",
       "      <th>33</th>\n",
       "      <td>India</td>\n",
       "      <td>Romance</td>\n",
       "      <td>20</td>\n",
       "    </tr>\n",
       "    <tr>\n",
       "      <th>1</th>\n",
       "      <td>Australia</td>\n",
       "      <td>Comedy</td>\n",
       "      <td>20</td>\n",
       "    </tr>\n",
       "    <tr>\n",
       "      <th>15</th>\n",
       "      <td>France</td>\n",
       "      <td>Comedy</td>\n",
       "      <td>20</td>\n",
       "    </tr>\n",
       "    <tr>\n",
       "      <th>5</th>\n",
       "      <td>Australia</td>\n",
       "      <td>Romance</td>\n",
       "      <td>19</td>\n",
       "    </tr>\n",
       "    <tr>\n",
       "      <th>43</th>\n",
       "      <td>USA</td>\n",
       "      <td>Comedy</td>\n",
       "      <td>19</td>\n",
       "    </tr>\n",
       "    <tr>\n",
       "      <th>41</th>\n",
       "      <td>UK</td>\n",
       "      <td>Sci-Fi</td>\n",
       "      <td>19</td>\n",
       "    </tr>\n",
       "    <tr>\n",
       "      <th>2</th>\n",
       "      <td>Australia</td>\n",
       "      <td>Documentary</td>\n",
       "      <td>19</td>\n",
       "    </tr>\n",
       "    <tr>\n",
       "      <th>37</th>\n",
       "      <td>UK</td>\n",
       "      <td>Documentary</td>\n",
       "      <td>19</td>\n",
       "    </tr>\n",
       "    <tr>\n",
       "      <th>47</th>\n",
       "      <td>USA</td>\n",
       "      <td>Romance</td>\n",
       "      <td>19</td>\n",
       "    </tr>\n",
       "    <tr>\n",
       "      <th>48</th>\n",
       "      <td>USA</td>\n",
       "      <td>Sci-Fi</td>\n",
       "      <td>18</td>\n",
       "    </tr>\n",
       "    <tr>\n",
       "      <th>23</th>\n",
       "      <td>Germany</td>\n",
       "      <td>Documentary</td>\n",
       "      <td>18</td>\n",
       "    </tr>\n",
       "    <tr>\n",
       "      <th>6</th>\n",
       "      <td>Australia</td>\n",
       "      <td>Sci-Fi</td>\n",
       "      <td>17</td>\n",
       "    </tr>\n",
       "    <tr>\n",
       "      <th>40</th>\n",
       "      <td>UK</td>\n",
       "      <td>Romance</td>\n",
       "      <td>17</td>\n",
       "    </tr>\n",
       "    <tr>\n",
       "      <th>32</th>\n",
       "      <td>India</td>\n",
       "      <td>Horror</td>\n",
       "      <td>16</td>\n",
       "    </tr>\n",
       "    <tr>\n",
       "      <th>29</th>\n",
       "      <td>India</td>\n",
       "      <td>Comedy</td>\n",
       "      <td>16</td>\n",
       "    </tr>\n",
       "    <tr>\n",
       "      <th>3</th>\n",
       "      <td>Australia</td>\n",
       "      <td>Drama</td>\n",
       "      <td>16</td>\n",
       "    </tr>\n",
       "    <tr>\n",
       "      <th>31</th>\n",
       "      <td>India</td>\n",
       "      <td>Drama</td>\n",
       "      <td>15</td>\n",
       "    </tr>\n",
       "    <tr>\n",
       "      <th>30</th>\n",
       "      <td>India</td>\n",
       "      <td>Documentary</td>\n",
       "      <td>15</td>\n",
       "    </tr>\n",
       "    <tr>\n",
       "      <th>34</th>\n",
       "      <td>India</td>\n",
       "      <td>Sci-Fi</td>\n",
       "      <td>14</td>\n",
       "    </tr>\n",
       "    <tr>\n",
       "      <th>27</th>\n",
       "      <td>Germany</td>\n",
       "      <td>Sci-Fi</td>\n",
       "      <td>14</td>\n",
       "    </tr>\n",
       "    <tr>\n",
       "      <th>9</th>\n",
       "      <td>Canada</td>\n",
       "      <td>Documentary</td>\n",
       "      <td>14</td>\n",
       "    </tr>\n",
       "    <tr>\n",
       "      <th>11</th>\n",
       "      <td>Canada</td>\n",
       "      <td>Horror</td>\n",
       "      <td>14</td>\n",
       "    </tr>\n",
       "    <tr>\n",
       "      <th>14</th>\n",
       "      <td>France</td>\n",
       "      <td>Action</td>\n",
       "      <td>12</td>\n",
       "    </tr>\n",
       "    <tr>\n",
       "      <th>17</th>\n",
       "      <td>France</td>\n",
       "      <td>Drama</td>\n",
       "      <td>10</td>\n",
       "    </tr>\n",
       "  </tbody>\n",
       "</table>\n",
       "</div>"
      ],
      "text/plain": [
       "      Country Favorite_Genre  total\n",
       "18     France         Horror     36\n",
       "45        USA          Drama     32\n",
       "36         UK         Comedy     30\n",
       "21    Germany         Action     28\n",
       "4   Australia         Horror     27\n",
       "42        USA         Action     26\n",
       "19     France        Romance     26\n",
       "16     France    Documentary     24\n",
       "12     Canada        Romance     24\n",
       "13     Canada         Sci-Fi     24\n",
       "24    Germany          Drama     23\n",
       "46        USA         Horror     23\n",
       "38         UK          Drama     23\n",
       "10     Canada          Drama     23\n",
       "20     France         Sci-Fi     23\n",
       "35         UK         Action     22\n",
       "0   Australia         Action     22\n",
       "25    Germany         Horror     21\n",
       "44        USA    Documentary     21\n",
       "22    Germany         Comedy     21\n",
       "26    Germany        Romance     21\n",
       "8      Canada         Comedy     20\n",
       "7      Canada         Action     20\n",
       "39         UK         Horror     20\n",
       "28      India         Action     20\n",
       "33      India        Romance     20\n",
       "1   Australia         Comedy     20\n",
       "15     France         Comedy     20\n",
       "5   Australia        Romance     19\n",
       "43        USA         Comedy     19\n",
       "41         UK         Sci-Fi     19\n",
       "2   Australia    Documentary     19\n",
       "37         UK    Documentary     19\n",
       "47        USA        Romance     19\n",
       "48        USA         Sci-Fi     18\n",
       "23    Germany    Documentary     18\n",
       "6   Australia         Sci-Fi     17\n",
       "40         UK        Romance     17\n",
       "32      India         Horror     16\n",
       "29      India         Comedy     16\n",
       "3   Australia          Drama     16\n",
       "31      India          Drama     15\n",
       "30      India    Documentary     15\n",
       "34      India         Sci-Fi     14\n",
       "27    Germany         Sci-Fi     14\n",
       "9      Canada    Documentary     14\n",
       "11     Canada         Horror     14\n",
       "14     France         Action     12\n",
       "17     France          Drama     10"
      ]
     },
     "execution_count": 259,
     "metadata": {},
     "output_type": "execute_result"
    }
   ],
   "source": [
    "Favorite_genre_country = stream_df.groupby(['Country', 'Favorite_Genre']).size().reset_index(name='total').sort_values(by='total', ascending=False)\n",
    "Favorite_genre_country"
   ]
  },
  {
   "cell_type": "code",
   "execution_count": 260,
   "id": "1d0e820c-e4b5-47f3-a124-41cf6605e96c",
   "metadata": {},
   "outputs": [
    {
     "data": {
      "application/vnd.plotly.v1+json": {
       "config": {
        "plotlyServerURL": "https://plot.ly"
       },
       "data": [
        {
         "alignmentgroup": "True",
         "hovertemplate": "Favorite_Genre=Horror<br>Country=%{x}<br>total=%{text}<extra></extra>",
         "legendgroup": "Horror",
         "marker": {
          "color": "rgb(8,48,107)",
          "pattern": {
           "shape": ""
          }
         },
         "name": "Horror",
         "offsetgroup": "Horror",
         "orientation": "v",
         "showlegend": true,
         "text": {
          "_inputArray": {
           "0": 36,
           "1": 27,
           "2": 23,
           "3": 21,
           "4": 20,
           "5": 16,
           "6": 14,
           "bdata": "AAAAAAAAQkAAAAAAAAA7QAAAAAAAADdAAAAAAAAANUAAAAAAAAA0QAAAAAAAADBAAAAAAAAALEA=",
           "dtype": "f8",
           "shape": "7"
          },
          "bdata": "AAAAAAAAQkAAAAAAAAA7QAAAAAAAADdAAAAAAAAANUAAAAAAAAA0QAAAAAAAADBAAAAAAAAALEA=",
          "dtype": "f8"
         },
         "textposition": "outside",
         "texttemplate": "%{text:.0f}",
         "type": "bar",
         "x": [
          "France",
          "Australia",
          "USA",
          "Germany",
          "UK",
          "India",
          "Canada"
         ],
         "xaxis": "x",
         "y": {
          "_inputArray": {
           "0": 36,
           "1": 27,
           "2": 23,
           "3": 21,
           "4": 20,
           "5": 16,
           "6": 14,
           "bdata": "JBsXFRQQDg==",
           "dtype": "i1",
           "shape": "7"
          },
          "bdata": "JBsXFRQQDg==",
          "dtype": "i1"
         },
         "yaxis": "y"
        },
        {
         "alignmentgroup": "True",
         "hovertemplate": "Favorite_Genre=Drama<br>Country=%{x}<br>total=%{text}<extra></extra>",
         "legendgroup": "Drama",
         "marker": {
          "color": "rgb(8,81,156)",
          "pattern": {
           "shape": ""
          }
         },
         "name": "Drama",
         "offsetgroup": "Drama",
         "orientation": "v",
         "showlegend": true,
         "text": {
          "_inputArray": {
           "0": 32,
           "1": 23,
           "2": 23,
           "3": 23,
           "4": 16,
           "5": 15,
           "6": 10,
           "bdata": "AAAAAAAAQEAAAAAAAAA3QAAAAAAAADdAAAAAAAAAN0AAAAAAAAAwQAAAAAAAAC5AAAAAAAAAJEA=",
           "dtype": "f8",
           "shape": "7"
          },
          "bdata": "AAAAAAAAQEAAAAAAAAA3QAAAAAAAADdAAAAAAAAAN0AAAAAAAAAwQAAAAAAAAC5AAAAAAAAAJEA=",
          "dtype": "f8"
         },
         "textposition": "outside",
         "texttemplate": "%{text:.0f}",
         "type": "bar",
         "x": [
          "USA",
          "Germany",
          "UK",
          "Canada",
          "Australia",
          "India",
          "France"
         ],
         "xaxis": "x",
         "y": {
          "_inputArray": {
           "0": 32,
           "1": 23,
           "2": 23,
           "3": 23,
           "4": 16,
           "5": 15,
           "6": 10,
           "bdata": "IBcXFxAPCg==",
           "dtype": "i1",
           "shape": "7"
          },
          "bdata": "IBcXFxAPCg==",
          "dtype": "i1"
         },
         "yaxis": "y"
        },
        {
         "alignmentgroup": "True",
         "hovertemplate": "Favorite_Genre=Comedy<br>Country=%{x}<br>total=%{text}<extra></extra>",
         "legendgroup": "Comedy",
         "marker": {
          "color": "rgb(33,113,181)",
          "pattern": {
           "shape": ""
          }
         },
         "name": "Comedy",
         "offsetgroup": "Comedy",
         "orientation": "v",
         "showlegend": true,
         "text": {
          "_inputArray": {
           "0": 30,
           "1": 21,
           "2": 20,
           "3": 20,
           "4": 20,
           "5": 19,
           "6": 16,
           "bdata": "AAAAAAAAPkAAAAAAAAA1QAAAAAAAADRAAAAAAAAANEAAAAAAAAA0QAAAAAAAADNAAAAAAAAAMEA=",
           "dtype": "f8",
           "shape": "7"
          },
          "bdata": "AAAAAAAAPkAAAAAAAAA1QAAAAAAAADRAAAAAAAAANEAAAAAAAAA0QAAAAAAAADNAAAAAAAAAMEA=",
          "dtype": "f8"
         },
         "textposition": "outside",
         "texttemplate": "%{text:.0f}",
         "type": "bar",
         "x": [
          "UK",
          "Germany",
          "Canada",
          "Australia",
          "France",
          "USA",
          "India"
         ],
         "xaxis": "x",
         "y": {
          "_inputArray": {
           "0": 30,
           "1": 21,
           "2": 20,
           "3": 20,
           "4": 20,
           "5": 19,
           "6": 16,
           "bdata": "HhUUFBQTEA==",
           "dtype": "i1",
           "shape": "7"
          },
          "bdata": "HhUUFBQTEA==",
          "dtype": "i1"
         },
         "yaxis": "y"
        },
        {
         "alignmentgroup": "True",
         "hovertemplate": "Favorite_Genre=Action<br>Country=%{x}<br>total=%{text}<extra></extra>",
         "legendgroup": "Action",
         "marker": {
          "color": "rgb(66,146,198)",
          "pattern": {
           "shape": ""
          }
         },
         "name": "Action",
         "offsetgroup": "Action",
         "orientation": "v",
         "showlegend": true,
         "text": {
          "_inputArray": {
           "0": 28,
           "1": 26,
           "2": 22,
           "3": 22,
           "4": 20,
           "5": 20,
           "6": 12,
           "bdata": "AAAAAAAAPEAAAAAAAAA6QAAAAAAAADZAAAAAAAAANkAAAAAAAAA0QAAAAAAAADRAAAAAAAAAKEA=",
           "dtype": "f8",
           "shape": "7"
          },
          "bdata": "AAAAAAAAPEAAAAAAAAA6QAAAAAAAADZAAAAAAAAANkAAAAAAAAA0QAAAAAAAADRAAAAAAAAAKEA=",
          "dtype": "f8"
         },
         "textposition": "outside",
         "texttemplate": "%{text:.0f}",
         "type": "bar",
         "x": [
          "Germany",
          "USA",
          "UK",
          "Australia",
          "Canada",
          "India",
          "France"
         ],
         "xaxis": "x",
         "y": {
          "_inputArray": {
           "0": 28,
           "1": 26,
           "2": 22,
           "3": 22,
           "4": 20,
           "5": 20,
           "6": 12,
           "bdata": "HBoWFhQUDA==",
           "dtype": "i1",
           "shape": "7"
          },
          "bdata": "HBoWFhQUDA==",
          "dtype": "i1"
         },
         "yaxis": "y"
        },
        {
         "alignmentgroup": "True",
         "hovertemplate": "Favorite_Genre=Romance<br>Country=%{x}<br>total=%{text}<extra></extra>",
         "legendgroup": "Romance",
         "marker": {
          "color": "rgb(107,174,214)",
          "pattern": {
           "shape": ""
          }
         },
         "name": "Romance",
         "offsetgroup": "Romance",
         "orientation": "v",
         "showlegend": true,
         "text": {
          "_inputArray": {
           "0": 26,
           "1": 24,
           "2": 21,
           "3": 20,
           "4": 19,
           "5": 19,
           "6": 17,
           "bdata": "AAAAAAAAOkAAAAAAAAA4QAAAAAAAADVAAAAAAAAANEAAAAAAAAAzQAAAAAAAADNAAAAAAAAAMUA=",
           "dtype": "f8",
           "shape": "7"
          },
          "bdata": "AAAAAAAAOkAAAAAAAAA4QAAAAAAAADVAAAAAAAAANEAAAAAAAAAzQAAAAAAAADNAAAAAAAAAMUA=",
          "dtype": "f8"
         },
         "textposition": "outside",
         "texttemplate": "%{text:.0f}",
         "type": "bar",
         "x": [
          "France",
          "Canada",
          "Germany",
          "India",
          "Australia",
          "USA",
          "UK"
         ],
         "xaxis": "x",
         "y": {
          "_inputArray": {
           "0": 26,
           "1": 24,
           "2": 21,
           "3": 20,
           "4": 19,
           "5": 19,
           "6": 17,
           "bdata": "GhgVFBMTEQ==",
           "dtype": "i1",
           "shape": "7"
          },
          "bdata": "GhgVFBMTEQ==",
          "dtype": "i1"
         },
         "yaxis": "y"
        },
        {
         "alignmentgroup": "True",
         "hovertemplate": "Favorite_Genre=Documentary<br>Country=%{x}<br>total=%{text}<extra></extra>",
         "legendgroup": "Documentary",
         "marker": {
          "color": "rgb(158,202,225)",
          "pattern": {
           "shape": ""
          }
         },
         "name": "Documentary",
         "offsetgroup": "Documentary",
         "orientation": "v",
         "showlegend": true,
         "text": {
          "_inputArray": {
           "0": 24,
           "1": 21,
           "2": 19,
           "3": 19,
           "4": 18,
           "5": 15,
           "6": 14,
           "bdata": "AAAAAAAAOEAAAAAAAAA1QAAAAAAAADNAAAAAAAAAM0AAAAAAAAAyQAAAAAAAAC5AAAAAAAAALEA=",
           "dtype": "f8",
           "shape": "7"
          },
          "bdata": "AAAAAAAAOEAAAAAAAAA1QAAAAAAAADNAAAAAAAAAM0AAAAAAAAAyQAAAAAAAAC5AAAAAAAAALEA=",
          "dtype": "f8"
         },
         "textposition": "outside",
         "texttemplate": "%{text:.0f}",
         "type": "bar",
         "x": [
          "France",
          "USA",
          "Australia",
          "UK",
          "Germany",
          "India",
          "Canada"
         ],
         "xaxis": "x",
         "y": {
          "_inputArray": {
           "0": 24,
           "1": 21,
           "2": 19,
           "3": 19,
           "4": 18,
           "5": 15,
           "6": 14,
           "bdata": "GBUTExIPDg==",
           "dtype": "i1",
           "shape": "7"
          },
          "bdata": "GBUTExIPDg==",
          "dtype": "i1"
         },
         "yaxis": "y"
        },
        {
         "alignmentgroup": "True",
         "hovertemplate": "Favorite_Genre=Sci-Fi<br>Country=%{x}<br>total=%{text}<extra></extra>",
         "legendgroup": "Sci-Fi",
         "marker": {
          "color": "rgb(198,219,239)",
          "pattern": {
           "shape": ""
          }
         },
         "name": "Sci-Fi",
         "offsetgroup": "Sci-Fi",
         "orientation": "v",
         "showlegend": true,
         "text": {
          "_inputArray": {
           "0": 24,
           "1": 23,
           "2": 19,
           "3": 18,
           "4": 17,
           "5": 14,
           "6": 14,
           "bdata": "AAAAAAAAOEAAAAAAAAA3QAAAAAAAADNAAAAAAAAAMkAAAAAAAAAxQAAAAAAAACxAAAAAAAAALEA=",
           "dtype": "f8",
           "shape": "7"
          },
          "bdata": "AAAAAAAAOEAAAAAAAAA3QAAAAAAAADNAAAAAAAAAMkAAAAAAAAAxQAAAAAAAACxAAAAAAAAALEA=",
          "dtype": "f8"
         },
         "textposition": "outside",
         "texttemplate": "%{text:.0f}",
         "type": "bar",
         "x": [
          "Canada",
          "France",
          "UK",
          "USA",
          "Australia",
          "India",
          "Germany"
         ],
         "xaxis": "x",
         "y": {
          "_inputArray": {
           "0": 24,
           "1": 23,
           "2": 19,
           "3": 18,
           "4": 17,
           "5": 14,
           "6": 14,
           "bdata": "GBcTEhEODg==",
           "dtype": "i1",
           "shape": "7"
          },
          "bdata": "GBcTEhEODg==",
          "dtype": "i1"
         },
         "yaxis": "y"
        }
       ],
       "layout": {
        "barmode": "group",
        "height": 650,
        "legend": {
         "title": {
          "text": "Favorite Genre"
         },
         "tracegroupgap": 0
        },
        "margin": {
         "b": 180,
         "l": 100,
         "r": 50,
         "t": 100
        },
        "paper_bgcolor": "rgba(0, 0, 0, 0)",
        "plot_bgcolor": "rgba(0, 0, 0, 0)",
        "template": {
         "data": {
          "pie": [
           {
            "automargin": true,
            "type": "pie"
           }
          ],
          "scatter": [
           {
            "line": {
             "width": 3
            },
            "marker": {
             "size": 9
            },
            "type": "scatter"
           }
          ],
          "scatter3d": [
           {
            "line": {
             "width": 3
            },
            "marker": {
             "size": 9
            },
            "type": "scatter3d"
           }
          ],
          "scattergeo": [
           {
            "line": {
             "width": 3
            },
            "marker": {
             "size": 9
            },
            "type": "scattergeo"
           }
          ],
          "scattergl": [
           {
            "line": {
             "width": 3
            },
            "marker": {
             "size": 9
            },
            "type": "scattergl"
           }
          ],
          "scatterpolar": [
           {
            "line": {
             "width": 3
            },
            "marker": {
             "size": 9
            },
            "type": "scatterpolar"
           }
          ],
          "scatterpolargl": [
           {
            "line": {
             "width": 3
            },
            "marker": {
             "size": 9
            },
            "type": "scatterpolargl"
           }
          ],
          "scatterternary": [
           {
            "line": {
             "width": 3
            },
            "marker": {
             "size": 9
            },
            "type": "scatterternary"
           }
          ],
          "table": [
           {
            "cells": {
             "height": 30
            },
            "header": {
             "height": 36
            },
            "type": "table"
           }
          ]
         },
         "layout": {
          "font": {
           "size": 18
          },
          "xaxis": {
           "title": {
            "standoff": 15
           }
          },
          "yaxis": {
           "title": {
            "standoff": 15
           }
          }
         }
        },
        "title": {
         "text": "Genre Preference by Country"
        },
        "width": 1250,
        "xaxis": {
         "anchor": "y",
         "autorange": true,
         "domain": [
          0,
          1
         ],
         "range": [
          -0.5,
          6.5
         ],
         "title": {
          "text": "Country"
         },
         "type": "category"
        },
        "yaxis": {
         "anchor": "x",
         "autorange": true,
         "domain": [
          0,
          1
         ],
         "range": [
          0,
          37.89473684210526
         ],
         "title": {
          "text": "User Count"
         },
         "type": "linear"
        }
       }
      }
     },
     "metadata": {},
     "output_type": "display_data"
    }
   ],
   "source": [
    "fig = px.bar(\n",
    "    Favorite_genre_country,\n",
    "    x='Country',\n",
    "    y='total',\n",
    "    color='Favorite_Genre',\n",
    "    barmode='group',\n",
    "    title='Genre Preference by Country',\n",
    "    text='total',\n",
    "    color_discrete_sequence=px.colors.sequential.Blues_r,\n",
    "    height=650,\n",
    "    width=1250\n",
    ")\n",
    "\n",
    "fig.update_layout(\n",
    "    xaxis_title='Country',\n",
    "    yaxis_title='User Count',\n",
    "    legend_title='Favorite Genre',\n",
    "    template='presentation',\n",
    "    margin=dict(l=100, r=50, t=100, b=180),\n",
    "    paper_bgcolor=\"rgba(0,0,0,0)\",\n",
    "    plot_bgcolor=\"rgba(0,0,0,0)\",\n",
    "    #xaxis_tickangle=-30\n",
    ")\n",
    "\n",
    "fig.update_traces(\n",
    "    texttemplate='%{text:.0f}',\n",
    "    textposition='outside'\n",
    ")\n",
    "\n",
    "fig.show()\n",
    "fig.write_image(os.path.join(result_dir, 'Favorite_genre_by_country_Bar_chart.jpg'))\n",
    "fig.write_image(os.path.join(result_dir, 'Favorite_genre_by_country_Bar_chart.png'))\n",
    "fig.write_html(os.path.join(result_dir, 'Favorite_genre_by_country_Bar_chart.html'))\n"
   ]
  },
  {
   "cell_type": "markdown",
   "id": "5d42fea1-cc1c-4a57-b27b-c6750e3c56a8",
   "metadata": {},
   "source": [
    "### Summary Description\n",
    "\n",
    "The data represents the distribution of users' favorite genres across different countries. It reveals key viewing preferences such as Horror being most popular in France and Australia, Drama favored in the USA and Germany, and Comedy preferred in the UK and Canada. This summary highlights regional differences in content preferences, which can help in customizing content offerings and marketing strategies for each country.\n",
    "\n",
    "- **France** has a strong preference for **Horror** (36 users) and **Romance** (26 users).\n",
    "- **USA** users favor **Drama** (32 users), **Action** (26 users), and **Horror** (23 users).\n",
    "- **UK** shows popularity for **Comedy** (30 users) and **Drama** (23 users).\n",
    "- **Germany** users mostly enjoy **Action** (28 users) and **Drama** (23 users).\n",
    "- **Australia**, **Canada**, and **India** have diverse preferences across genres like **Action**, **Romance**, **Comedy**, **Documentary**, and **Sci-Fi**."
   ]
  },
  {
   "cell_type": "markdown",
   "id": "41416b22-dd32-465d-aa09-c2d1671766cd",
   "metadata": {},
   "source": [
    "## Payment method distribution"
   ]
  },
  {
   "cell_type": "code",
   "execution_count": 263,
   "id": "d8127b73-0a41-4730-bb45-f84397c31cb1",
   "metadata": {},
   "outputs": [
    {
     "data": {
      "text/html": [
       "<div>\n",
       "<style scoped>\n",
       "    .dataframe tbody tr th:only-of-type {\n",
       "        vertical-align: middle;\n",
       "    }\n",
       "\n",
       "    .dataframe tbody tr th {\n",
       "        vertical-align: top;\n",
       "    }\n",
       "\n",
       "    .dataframe thead th {\n",
       "        text-align: right;\n",
       "    }\n",
       "</style>\n",
       "<table border=\"1\" class=\"dataframe\">\n",
       "  <thead>\n",
       "    <tr style=\"text-align: right;\">\n",
       "      <th></th>\n",
       "      <th>Payment_Method</th>\n",
       "      <th>Monthly_Price</th>\n",
       "      <th>Loyalty_Points</th>\n",
       "      <th>Monthly_Price_percentage</th>\n",
       "      <th>Loyalty_Points_percentage</th>\n",
       "    </tr>\n",
       "  </thead>\n",
       "  <tbody>\n",
       "    <tr>\n",
       "      <th>0</th>\n",
       "      <td>Credit Card</td>\n",
       "      <td>11.95</td>\n",
       "      <td>2343.54</td>\n",
       "      <td>24.84</td>\n",
       "      <td>24.01</td>\n",
       "    </tr>\n",
       "    <tr>\n",
       "      <th>1</th>\n",
       "      <td>Cryptocurrency</td>\n",
       "      <td>12.26</td>\n",
       "      <td>2469.45</td>\n",
       "      <td>25.49</td>\n",
       "      <td>25.30</td>\n",
       "    </tr>\n",
       "    <tr>\n",
       "      <th>2</th>\n",
       "      <td>Debit Card</td>\n",
       "      <td>11.97</td>\n",
       "      <td>2425.82</td>\n",
       "      <td>24.89</td>\n",
       "      <td>24.85</td>\n",
       "    </tr>\n",
       "    <tr>\n",
       "      <th>3</th>\n",
       "      <td>PayPal</td>\n",
       "      <td>11.92</td>\n",
       "      <td>2522.76</td>\n",
       "      <td>24.78</td>\n",
       "      <td>25.84</td>\n",
       "    </tr>\n",
       "  </tbody>\n",
       "</table>\n",
       "</div>"
      ],
      "text/plain": [
       "   Payment_Method  Monthly_Price  Loyalty_Points  Monthly_Price_percentage  \\\n",
       "0     Credit Card          11.95         2343.54                     24.84   \n",
       "1  Cryptocurrency          12.26         2469.45                     25.49   \n",
       "2      Debit Card          11.97         2425.82                     24.89   \n",
       "3          PayPal          11.92         2522.76                     24.78   \n",
       "\n",
       "   Loyalty_Points_percentage  \n",
       "0                      24.01  \n",
       "1                      25.30  \n",
       "2                      24.85  \n",
       "3                      25.84  "
      ]
     },
     "execution_count": 263,
     "metadata": {},
     "output_type": "execute_result"
    }
   ],
   "source": [
    "# Step 1: Compute average monthly price and loyalty points by payment method\n",
    "pay_trends = stream_df.groupby('Payment_Method')[['Monthly_Price', 'Loyalty_Points']].mean().round(2).reset_index()\n",
    "\n",
    "# Step 2: Create percentage columns (as % of column total)\n",
    "pay_trends['Monthly_Price_percentage'] = (pay_trends['Monthly_Price'] / pay_trends['Monthly_Price'].sum() * 100).round(2)\n",
    "pay_trends['Loyalty_Points_percentage'] = (pay_trends['Loyalty_Points'] / pay_trends['Loyalty_Points'].sum() * 100).round(2)\n",
    "\n",
    "pay_trends\n"
   ]
  },
  {
   "cell_type": "code",
   "execution_count": 264,
   "id": "8955e14b-e2e0-490b-a14d-4c07e7571907",
   "metadata": {},
   "outputs": [
    {
     "data": {
      "application/vnd.plotly.v1+json": {
       "config": {
        "plotlyServerURL": "https://plot.ly"
       },
       "data": [
        {
         "alignmentgroup": "True",
         "hovertemplate": "Metric=Monthly_Price_percentage<br>Payment_Method=%{x}<br>Percentage=%{text}<extra></extra>",
         "legendgroup": "Monthly_Price_percentage",
         "marker": {
          "color": "rgb(8,48,107)",
          "line": {
           "width": 0
          },
          "pattern": {
           "shape": ""
          }
         },
         "name": "Monthly_Price_percentage",
         "offsetgroup": "Monthly_Price_percentage",
         "orientation": "v",
         "showlegend": true,
         "text": {
          "_inputArray": {
           "0": 24.84,
           "1": 25.49,
           "2": 24.89,
           "3": 24.78,
           "bdata": "16NwPQrXOEA9CtejcH05QKRwPQrX4zhASOF6FK7HOEA=",
           "dtype": "f8",
           "shape": "4"
          },
          "bdata": "16NwPQrXOEA9CtejcH05QKRwPQrX4zhASOF6FK7HOEA=",
          "dtype": "f8"
         },
         "textposition": "inside",
         "texttemplate": "%{text:.1f}%",
         "type": "bar",
         "x": [
          "Credit Card",
          "Cryptocurrency",
          "Debit Card",
          "PayPal"
         ],
         "xaxis": "x",
         "y": {
          "_inputArray": {
           "0": 24.84,
           "1": 25.49,
           "2": 24.89,
           "3": 24.78,
           "bdata": "16NwPQrXOEA9CtejcH05QKRwPQrX4zhASOF6FK7HOEA=",
           "dtype": "f8",
           "shape": "4"
          },
          "bdata": "16NwPQrXOEA9CtejcH05QKRwPQrX4zhASOF6FK7HOEA=",
          "dtype": "f8"
         },
         "yaxis": "y"
        },
        {
         "alignmentgroup": "True",
         "hovertemplate": "Metric=Loyalty_Points_percentage<br>Payment_Method=%{x}<br>Percentage=%{text}<extra></extra>",
         "legendgroup": "Loyalty_Points_percentage",
         "marker": {
          "color": "rgb(8,81,156)",
          "line": {
           "width": 0
          },
          "pattern": {
           "shape": ""
          }
         },
         "name": "Loyalty_Points_percentage",
         "offsetgroup": "Loyalty_Points_percentage",
         "orientation": "v",
         "showlegend": true,
         "text": {
          "_inputArray": {
           "0": 24.01,
           "1": 25.3,
           "2": 24.85,
           "3": 25.84,
           "bdata": "w/UoXI8COEDNzMzMzEw5QJqZmZmZ2ThA16NwPQrXOUA=",
           "dtype": "f8",
           "shape": "4"
          },
          "bdata": "w/UoXI8COEDNzMzMzEw5QJqZmZmZ2ThA16NwPQrXOUA=",
          "dtype": "f8"
         },
         "textposition": "inside",
         "texttemplate": "%{text:.1f}%",
         "type": "bar",
         "x": [
          "Credit Card",
          "Cryptocurrency",
          "Debit Card",
          "PayPal"
         ],
         "xaxis": "x",
         "y": {
          "_inputArray": {
           "0": 24.01,
           "1": 25.3,
           "2": 24.85,
           "3": 25.84,
           "bdata": "w/UoXI8COEDNzMzMzEw5QJqZmZmZ2ThA16NwPQrXOUA=",
           "dtype": "f8",
           "shape": "4"
          },
          "bdata": "w/UoXI8COEDNzMzMzEw5QJqZmZmZ2ThA16NwPQrXOUA=",
          "dtype": "f8"
         },
         "yaxis": "y"
        }
       ],
       "layout": {
        "barmode": "group",
        "height": 600,
        "legend": {
         "font": {
          "size": 12
         },
         "title": {
          "text": "Metric"
         },
         "tracegroupgap": 0
        },
        "margin": {
         "b": 160,
         "l": 100,
         "r": 60,
         "t": 100
        },
        "paper_bgcolor": "rgba(0, 0, 0, 0)",
        "plot_bgcolor": "rgba(0, 0, 0, 0)",
        "showlegend": true,
        "template": {
         "data": {
          "pie": [
           {
            "automargin": true,
            "type": "pie"
           }
          ],
          "scatter": [
           {
            "line": {
             "width": 3
            },
            "marker": {
             "size": 9
            },
            "type": "scatter"
           }
          ],
          "scatter3d": [
           {
            "line": {
             "width": 3
            },
            "marker": {
             "size": 9
            },
            "type": "scatter3d"
           }
          ],
          "scattergeo": [
           {
            "line": {
             "width": 3
            },
            "marker": {
             "size": 9
            },
            "type": "scattergeo"
           }
          ],
          "scattergl": [
           {
            "line": {
             "width": 3
            },
            "marker": {
             "size": 9
            },
            "type": "scattergl"
           }
          ],
          "scatterpolar": [
           {
            "line": {
             "width": 3
            },
            "marker": {
             "size": 9
            },
            "type": "scatterpolar"
           }
          ],
          "scatterpolargl": [
           {
            "line": {
             "width": 3
            },
            "marker": {
             "size": 9
            },
            "type": "scatterpolargl"
           }
          ],
          "scatterternary": [
           {
            "line": {
             "width": 3
            },
            "marker": {
             "size": 9
            },
            "type": "scatterternary"
           }
          ],
          "table": [
           {
            "cells": {
             "height": 30
            },
            "header": {
             "height": 36
            },
            "type": "table"
           }
          ]
         },
         "layout": {
          "font": {
           "size": 18
          },
          "xaxis": {
           "title": {
            "standoff": 15
           }
          },
          "yaxis": {
           "title": {
            "standoff": 15
           }
          }
         }
        },
        "title": {
         "text": "Payment Method Trends"
        },
        "width": 1300,
        "xaxis": {
         "anchor": "y",
         "autorange": true,
         "domain": [
          0,
          1
         ],
         "range": [
          -0.5,
          3.5
         ],
         "tickangle": 0,
         "tickfont": {
          "size": 14
         },
         "title": {
          "text": "Payment Method"
         },
         "type": "category"
        },
        "yaxis": {
         "anchor": "x",
         "autorange": true,
         "domain": [
          0,
          1
         ],
         "range": [
          0,
          27.2
         ],
         "tickfont": {
          "size": 12
         },
         "title": {
          "text": "Percentage (%)"
         },
         "type": "linear"
        }
       }
      }
     },
     "metadata": {},
     "output_type": "display_data"
    }
   ],
   "source": [
    "paypal = ['PayPal']\n",
    "others = pay_trends[pay_trends['Payment_Method'] != 'PayPal'].sort_values(\n",
    "    'Monthly_Price_percentage', ascending=False)['Payment_Method'].tolist()\n",
    "custom_order = paypal + others\n",
    "\n",
    "# Set categorical order\n",
    "pay_trends['Payment_Method'] = pd.Categorical(\n",
    "    pay_trends['Payment_Method'], categories=custom_order, ordered=True)\n",
    "\n",
    "# Melt DataFrame for grouped bar chart\n",
    "melted = pay_trends.melt(\n",
    "    id_vars='Payment_Method',\n",
    "    value_vars=['Monthly_Price_percentage', 'Loyalty_Points_percentage'],\n",
    "    var_name='Metric',\n",
    "    value_name='Percentage'\n",
    ")\n",
    "\n",
    "# Create the bar chart\n",
    "fig = px.bar(\n",
    "    melted,\n",
    "    x='Payment_Method',\n",
    "    y='Percentage',\n",
    "    color='Metric',\n",
    "    barmode='group',\n",
    "    title=\"Payment Method Trends\",\n",
    "    text='Percentage',\n",
    "    color_discrete_sequence=px.colors.sequential.Blues_r,\n",
    "    height=600,\n",
    "    width=1300\n",
    ")\n",
    "\n",
    "# Add text and styling\n",
    "fig.update_traces(\n",
    "    texttemplate='%{text:.1f}%',\n",
    "    textposition='inside',\n",
    "    marker_line_width=0\n",
    ")\n",
    "\n",
    "# Update layout\n",
    "fig.update_layout(\n",
    "    xaxis_title=\"Payment Method\",\n",
    "    yaxis_title=\"Percentage (%)\",\n",
    "    template=\"presentation\",\n",
    "    showlegend=True,\n",
    "    legend_title_text=\"Metric\",\n",
    "    margin=dict(l=100, r=60, t=100, b=160),\n",
    "    paper_bgcolor=\"rgba(0,0,0,0)\",\n",
    "    plot_bgcolor=\"rgba(0,0,0,0)\",\n",
    "    xaxis=dict(\n",
    "        tickfont=dict(size=14),\n",
    "        tickangle=0\n",
    "    ),\n",
    "    yaxis=dict(\n",
    "        tickfont=dict(size=12)\n",
    "    ),\n",
    "    legend=dict(\n",
    "        font=dict(size=12)\n",
    "    )\n",
    ")\n",
    "\n",
    "# Show the figure\n",
    "fig.show()\n",
    "\n",
    "# Save images and HTML\n",
    "fig.write_image(os.path.join(result_dir, 'Payment_Method_Trends_Bar_chart.jpg'))\n",
    "fig.write_image(os.path.join(result_dir, 'Payment_Method_Trends_Bar_chart.png'))\n",
    "fig.write_html(os.path.join(result_dir, 'Payment_Method_Trends_Bar_chart.html'))"
   ]
  },
  {
   "cell_type": "markdown",
   "id": "4ec077ce-01ed-4c69-9d44-b19a3e0621c5",
   "metadata": {},
   "source": [
    "### Payment Method Summary\n",
    "\n",
    "This table provides an overview of user subscription and loyalty statistics by payment method:\n",
    "\n",
    "- **Payment_Method:** Different modes of payment used by users, including Credit Card, Cryptocurrency, Debit Card, and PayPal.\n",
    "- **Monthly_Price:** The average monthly subscription price paid by users for each payment method.\n",
    "- **Loyalty_Points:** The average loyalty points accumulated by users in each payment group.\n",
    "- **Monthly_Price_percentage:** The percentage share of each payment method in the overall monthly price distribution.\n",
    "- **Loyalty_Points_percentage:** The percentage share of loyalty points earned by users of each payment method.\n",
    "\n",
    "The data indicates that Cryptocurrency users pay slightly higher monthly prices and earn a comparable amount of loyalty points, while PayPal users have the highest average loyalty points despite a marginally lower subscription price.\n"
   ]
  },
  {
   "cell_type": "markdown",
   "id": "aa3f5fa3-d473-4c5d-bb0a-850c65240bf1",
   "metadata": {},
   "source": [
    "### Device behavior analysis"
   ]
  },
  {
   "cell_type": "code",
   "execution_count": 267,
   "id": "549e683d-9e26-4715-acc6-6e861cf63e62",
   "metadata": {},
   "outputs": [
    {
     "data": {
      "text/html": [
       "<div>\n",
       "<style scoped>\n",
       "    .dataframe tbody tr th:only-of-type {\n",
       "        vertical-align: middle;\n",
       "    }\n",
       "\n",
       "    .dataframe tbody tr th {\n",
       "        vertical-align: top;\n",
       "    }\n",
       "\n",
       "    .dataframe thead th {\n",
       "        text-align: right;\n",
       "    }\n",
       "</style>\n",
       "<table border=\"1\" class=\"dataframe\">\n",
       "  <thead>\n",
       "    <tr style=\"text-align: right;\">\n",
       "      <th></th>\n",
       "      <th>First_Device_Used</th>\n",
       "      <th>Average_Watch_Hours</th>\n",
       "    </tr>\n",
       "  </thead>\n",
       "  <tbody>\n",
       "    <tr>\n",
       "      <th>3</th>\n",
       "      <td>Smartphone</td>\n",
       "      <td>271.84</td>\n",
       "    </tr>\n",
       "    <tr>\n",
       "      <th>0</th>\n",
       "      <td>Desktop</td>\n",
       "      <td>261.76</td>\n",
       "    </tr>\n",
       "    <tr>\n",
       "      <th>2</th>\n",
       "      <td>Smart TV</td>\n",
       "      <td>257.72</td>\n",
       "    </tr>\n",
       "    <tr>\n",
       "      <th>4</th>\n",
       "      <td>Tablet</td>\n",
       "      <td>243.98</td>\n",
       "    </tr>\n",
       "    <tr>\n",
       "      <th>1</th>\n",
       "      <td>Laptop</td>\n",
       "      <td>235.45</td>\n",
       "    </tr>\n",
       "  </tbody>\n",
       "</table>\n",
       "</div>"
      ],
      "text/plain": [
       "  First_Device_Used  Average_Watch_Hours\n",
       "3        Smartphone               271.84\n",
       "0           Desktop               261.76\n",
       "2          Smart TV               257.72\n",
       "4            Tablet               243.98\n",
       "1            Laptop               235.45"
      ]
     },
     "execution_count": 267,
     "metadata": {},
     "output_type": "execute_result"
    }
   ],
   "source": [
    "device_watch = (\n",
    "    stream_df.groupby('First_Device_Used')['Watch_Hours']\n",
    "    .mean()\n",
    "    .round(2)\n",
    "    .reset_index(name='Average_Watch_Hours')\n",
    "    .sort_values(by='Average_Watch_Hours', ascending=False)\n",
    ")\n",
    "\n",
    "device_watch\n"
   ]
  },
  {
   "cell_type": "code",
   "execution_count": 268,
   "id": "00df9ed7-4f13-457b-9687-07df36604834",
   "metadata": {},
   "outputs": [
    {
     "data": {
      "application/vnd.plotly.v1+json": {
       "config": {
        "plotlyServerURL": "https://plot.ly"
       },
       "data": [
        {
         "hovertemplate": "First_Device_Used=%{x}<br>Average_Watch_Hours=%{text}<extra></extra>",
         "legendgroup": "",
         "marker": {
          "color": "#1f77b4",
          "opacity": 0.7,
          "pattern": {
           "shape": ""
          }
         },
         "name": "",
         "orientation": "v",
         "showlegend": false,
         "text": {
          "_inputArray": {
           "0": 271.84,
           "1": 261.76,
           "2": 257.72,
           "3": 243.98,
           "4": 235.45,
           "bdata": "PQrXo3D9cEBcj8L1KFxwQOxRuB6FG3BAj8L1KFx/bkBmZmZmZm5tQA==",
           "dtype": "f8",
           "shape": "5"
          },
          "bdata": "PQrXo3D9cEBcj8L1KFxwQOxRuB6FG3BAj8L1KFx/bkBmZmZmZm5tQA==",
          "dtype": "f8"
         },
         "textfont": {
          "color": "white"
         },
         "textposition": "inside",
         "texttemplate": "%{text:.2f}",
         "type": "bar",
         "x": [
          "Smartphone",
          "Desktop",
          "Smart TV",
          "Tablet",
          "Laptop"
         ],
         "xaxis": "x",
         "y": {
          "_inputArray": {
           "0": 271.84,
           "1": 261.76,
           "2": 257.72,
           "3": 243.98,
           "4": 235.45,
           "bdata": "PQrXo3D9cEBcj8L1KFxwQOxRuB6FG3BAj8L1KFx/bkBmZmZmZm5tQA==",
           "dtype": "f8",
           "shape": "5"
          },
          "bdata": "PQrXo3D9cEBcj8L1KFxwQOxRuB6FG3BAj8L1KFx/bkBmZmZmZm5tQA==",
          "dtype": "f8"
         },
         "yaxis": "y"
        }
       ],
       "layout": {
        "autosize": true,
        "barmode": "relative",
        "legend": {
         "tracegroupgap": 0
        },
        "margin": {
         "b": 80,
         "l": 60,
         "r": 40,
         "t": 80
        },
        "paper_bgcolor": "rgba(0, 0, 0, 0)",
        "plot_bgcolor": "rgba(0, 0, 0, 0)",
        "showlegend": false,
        "template": {
         "data": {
          "pie": [
           {
            "automargin": true,
            "type": "pie"
           }
          ],
          "scatter": [
           {
            "line": {
             "width": 3
            },
            "marker": {
             "size": 9
            },
            "type": "scatter"
           }
          ],
          "scatter3d": [
           {
            "line": {
             "width": 3
            },
            "marker": {
             "size": 9
            },
            "type": "scatter3d"
           }
          ],
          "scattergeo": [
           {
            "line": {
             "width": 3
            },
            "marker": {
             "size": 9
            },
            "type": "scattergeo"
           }
          ],
          "scattergl": [
           {
            "line": {
             "width": 3
            },
            "marker": {
             "size": 9
            },
            "type": "scattergl"
           }
          ],
          "scatterpolar": [
           {
            "line": {
             "width": 3
            },
            "marker": {
             "size": 9
            },
            "type": "scatterpolar"
           }
          ],
          "scatterpolargl": [
           {
            "line": {
             "width": 3
            },
            "marker": {
             "size": 9
            },
            "type": "scatterpolargl"
           }
          ],
          "scatterternary": [
           {
            "line": {
             "width": 3
            },
            "marker": {
             "size": 9
            },
            "type": "scatterternary"
           }
          ],
          "table": [
           {
            "cells": {
             "height": 30
            },
            "header": {
             "height": 36
            },
            "type": "table"
           }
          ]
         },
         "layout": {
          "font": {
           "size": 18
          },
          "xaxis": {
           "title": {
            "standoff": 15
           }
          },
          "yaxis": {
           "title": {
            "standoff": 15
           }
          }
         }
        },
        "title": {
         "text": "Device Watching Hours"
        },
        "xaxis": {
         "anchor": "y",
         "automargin": true,
         "autorange": true,
         "domain": [
          0,
          1
         ],
         "range": [
          -0.5,
          4.5
         ],
         "tickangle": 0,
         "title": {
          "text": "Device Used"
         },
         "type": "category"
        },
        "yaxis": {
         "anchor": "x",
         "autorange": true,
         "domain": [
          0,
          1
         ],
         "range": [
          0,
          286.1473684210526
         ],
         "title": {
          "text": "Average Watch Hours"
         },
         "type": "linear"
        }
       }
      }
     },
     "metadata": {},
     "output_type": "display_data"
    }
   ],
   "source": [
    "fig = px.bar(\n",
    "    device_watch,\n",
    "    x='First_Device_Used',\n",
    "    y='Average_Watch_Hours',\n",
    "    title='Device Watching Hours',\n",
    "    text='Average_Watch_Hours',\n",
    "    color_discrete_sequence=['#1f77b4'],\n",
    "    height=500\n",
    ")\n",
    "\n",
    "fig.update_layout(\n",
    "    xaxis_title='Device Used',\n",
    "    yaxis_title='Average Watch Hours',\n",
    "    template='presentation',\n",
    "    showlegend=False,\n",
    "    margin=dict(l=60, r=40, t=80, b=80),\n",
    "    paper_bgcolor=\"rgba(0, 0, 0, 0)\",\n",
    "    plot_bgcolor=\"rgba(0, 0, 0, 0)\"\n",
    ")\n",
    "\n",
    "fig.update_traces(\n",
    "    texttemplate='%{text:.2f}',\n",
    "    textposition='inside',\n",
    "    textfont_color='white',\n",
    "    marker_opacity=0.7\n",
    ")\n",
    "\n",
    "fig.update_xaxes(tickangle=0, automargin=True)\n",
    "\n",
    "fig.show()\n",
    "\n",
    "fig.write_image(os.path.join(result_dir, 'Device_watching_Hours_Bar_chart.jpg'))\n",
    "fig.write_image(os.path.join(result_dir, 'Device_watching_Hours_Bar_chart.png'))\n",
    "fig.write_html(os.path.join(result_dir, 'Device_watching_Hours_Bar_chart.html'))\n"
   ]
  },
  {
   "cell_type": "markdown",
   "id": "60323f8f-7195-49a7-b82d-75de32c52668",
   "metadata": {},
   "source": [
    "\n",
    "\n",
    "This table shows the average watch hours based on the first device used by viewers:\n",
    "\n",
    "- **First_Device_Used:** The device users first accessed the streaming service on, including Smartphone, Desktop, Smart TV, Tablet, and Laptop.\n",
    "- **Average_Watch_Hours:** The average number of hours watched by users who started on each device.\n",
    "\n",
    "Key insights:\n",
    "- Users who first accessed via **Smartphone** have the highest average watch hours (271.84 hours).\n",
    "- Desktop and Smart TV users follow closely with averages of 261.76 and 257.72 hours, respectively.\n",
    "- Tablet and Laptop users have comparatively lower average watch hours, at 243.98 and 235.45 hours.\n"
   ]
  },
  {
   "cell_type": "markdown",
   "id": "dbf2afa4-b2ff-4310-bf36-339a4523c497",
   "metadata": {},
   "source": [
    "## Device usage disribution"
   ]
  },
  {
   "cell_type": "code",
   "execution_count": 271,
   "id": "2a0effcf-e8a1-4abb-b089-df5c8e83ad8f",
   "metadata": {},
   "outputs": [
    {
     "data": {
      "application/vnd.plotly.v1+json": {
       "config": {
        "plotlyServerURL": "https://plot.ly"
       },
       "data": [
        {
         "hovertemplate": "Device=%{x}<br>Count=%{text}<extra></extra>",
         "legendgroup": "",
         "marker": {
          "color": "#1f77b4",
          "pattern": {
           "shape": ""
          }
         },
         "name": "",
         "orientation": "v",
         "showlegend": false,
         "text": {
          "_inputArray": {
           "0": 215,
           "1": 209,
           "2": 209,
           "3": 189,
           "4": 178,
           "bdata": "AAAAAADgakAAAAAAACBqQAAAAAAAIGpAAAAAAACgZ0AAAAAAAEBmQA==",
           "dtype": "f8",
           "shape": "5"
          },
          "bdata": "AAAAAADgakAAAAAAACBqQAAAAAAAIGpAAAAAAACgZ0AAAAAAAEBmQA==",
          "dtype": "f8"
         },
         "textposition": "outside",
         "texttemplate": "%{text}",
         "type": "bar",
         "x": [
          "Tablet",
          "Smartphone",
          "Smart TV",
          "Desktop",
          "Laptop"
         ],
         "xaxis": "x",
         "y": {
          "_inputArray": {
           "0": 215,
           "1": 209,
           "2": 209,
           "3": 189,
           "4": 178,
           "bdata": "1wDRANEAvQCyAA==",
           "dtype": "i2",
           "shape": "5"
          },
          "bdata": "1wDRANEAvQCyAA==",
          "dtype": "i2"
         },
         "yaxis": "y"
        }
       ],
       "layout": {
        "barmode": "relative",
        "height": 600,
        "legend": {
         "tracegroupgap": 0
        },
        "paper_bgcolor": "rgba(0, 0, 0, 0)",
        "plot_bgcolor": "rgba(0, 0, 0, 0)",
        "showlegend": false,
        "template": {
         "data": {
          "pie": [
           {
            "automargin": true,
            "type": "pie"
           }
          ],
          "scatter": [
           {
            "line": {
             "width": 3
            },
            "marker": {
             "size": 9
            },
            "type": "scatter"
           }
          ],
          "scatter3d": [
           {
            "line": {
             "width": 3
            },
            "marker": {
             "size": 9
            },
            "type": "scatter3d"
           }
          ],
          "scattergeo": [
           {
            "line": {
             "width": 3
            },
            "marker": {
             "size": 9
            },
            "type": "scattergeo"
           }
          ],
          "scattergl": [
           {
            "line": {
             "width": 3
            },
            "marker": {
             "size": 9
            },
            "type": "scattergl"
           }
          ],
          "scatterpolar": [
           {
            "line": {
             "width": 3
            },
            "marker": {
             "size": 9
            },
            "type": "scatterpolar"
           }
          ],
          "scatterpolargl": [
           {
            "line": {
             "width": 3
            },
            "marker": {
             "size": 9
            },
            "type": "scatterpolargl"
           }
          ],
          "scatterternary": [
           {
            "line": {
             "width": 3
            },
            "marker": {
             "size": 9
            },
            "type": "scatterternary"
           }
          ],
          "table": [
           {
            "cells": {
             "height": 30
            },
            "header": {
             "height": 36
            },
            "type": "table"
           }
          ]
         },
         "layout": {
          "font": {
           "size": 18
          },
          "xaxis": {
           "title": {
            "standoff": 15
           }
          },
          "yaxis": {
           "title": {
            "standoff": 15
           }
          }
         }
        },
        "title": {
         "text": "Device Usage Distribution"
        },
        "width": 1100,
        "xaxis": {
         "anchor": "y",
         "autorange": true,
         "domain": [
          0,
          1
         ],
         "range": [
          -0.5,
          4.5
         ],
         "title": {
          "standoff": 50,
          "text": "Device Used"
         },
         "type": "category"
        },
        "yaxis": {
         "anchor": "x",
         "autorange": true,
         "domain": [
          0,
          1
         ],
         "range": [
          0,
          226.31578947368422
         ],
         "title": {
          "text": "User Count"
         },
         "type": "linear"
        }
       }
      }
     },
     "metadata": {},
     "output_type": "display_data"
    }
   ],
   "source": [
    "device_counts = stream_df[\"First_Device_Used\"].value_counts().reset_index()\n",
    "device_counts.columns = [\"Device\", \"Count\"]\n",
    "\n",
    "fig = px.bar(\n",
    "    device_counts,\n",
    "    x=\"Device\",\n",
    "    y=\"Count\",\n",
    "    title=\"Device Usage Distribution\",\n",
    "    text=\"Count\",\n",
    "    color_discrete_sequence=['#1f77b4'],\n",
    "    height=600,\n",
    "    width=1100\n",
    ")\n",
    "\n",
    "fig.update_traces(texttemplate=\"%{text}\", textposition=\"outside\")\n",
    "\n",
    "fig.update_layout(\n",
    "    template=\"presentation\",\n",
    "    xaxis_title=\"Device Used\",\n",
    "    yaxis_title=\"User Count\",\n",
    "    xaxis_title_standoff=50,\n",
    "    legend_title_text=None,\n",
    "    showlegend=False,\n",
    "    paper_bgcolor=\"rgba(0, 0, 0, 0)\",\n",
    "    plot_bgcolor=\"rgba(0, 0, 0, 0)\"\n",
    ")\n",
    "\n",
    "fig.show()\n",
    "\n",
    "fig.write_image(os.path.join(result_dir, 'Device_Usage_Distribution_Bar_chart.jpg'))\n",
    "fig.write_image(os.path.join(result_dir, 'Device_Usage_Distribution_Bar_chart.png'))\n",
    "fig.write_html(os.path.join(result_dir, 'Device_Usage_Distribution_Bar_chart.html'))\n"
   ]
  },
  {
   "cell_type": "markdown",
   "id": "3cfecd5f-5b6d-4d72-95c1-435ea60ca095",
   "metadata": {},
   "source": [
    "Most of the users or viewers like to use **Tablets** followed by **Smartphone**"
   ]
  },
  {
   "cell_type": "markdown",
   "id": "44e90f12-4695-4ec1-a91b-d67bd6c296fc",
   "metadata": {},
   "source": [
    "### Watching hours per day"
   ]
  },
  {
   "cell_type": "code",
   "execution_count": 274,
   "id": "ce5b43b3-9edc-4366-9d8e-d74e123638eb",
   "metadata": {},
   "outputs": [
    {
     "data": {
      "text/html": [
       "<div>\n",
       "<style scoped>\n",
       "    .dataframe tbody tr th:only-of-type {\n",
       "        vertical-align: middle;\n",
       "    }\n",
       "\n",
       "    .dataframe tbody tr th {\n",
       "        vertical-align: top;\n",
       "    }\n",
       "\n",
       "    .dataframe thead th {\n",
       "        text-align: right;\n",
       "    }\n",
       "</style>\n",
       "<table border=\"1\" class=\"dataframe\">\n",
       "  <thead>\n",
       "    <tr style=\"text-align: right;\">\n",
       "      <th></th>\n",
       "      <th>Primary_Watch_Time</th>\n",
       "      <th>Average_Watch_Hours</th>\n",
       "    </tr>\n",
       "  </thead>\n",
       "  <tbody>\n",
       "    <tr>\n",
       "      <th>3</th>\n",
       "      <td>Morning</td>\n",
       "      <td>272.33</td>\n",
       "    </tr>\n",
       "    <tr>\n",
       "      <th>1</th>\n",
       "      <td>Evening</td>\n",
       "      <td>255.39</td>\n",
       "    </tr>\n",
       "    <tr>\n",
       "      <th>0</th>\n",
       "      <td>Afternoon</td>\n",
       "      <td>247.08</td>\n",
       "    </tr>\n",
       "    <tr>\n",
       "      <th>2</th>\n",
       "      <td>Late Night</td>\n",
       "      <td>245.98</td>\n",
       "    </tr>\n",
       "  </tbody>\n",
       "</table>\n",
       "</div>"
      ],
      "text/plain": [
       "  Primary_Watch_Time  Average_Watch_Hours\n",
       "3            Morning               272.33\n",
       "1            Evening               255.39\n",
       "0          Afternoon               247.08\n",
       "2         Late Night               245.98"
      ]
     },
     "execution_count": 274,
     "metadata": {},
     "output_type": "execute_result"
    }
   ],
   "source": [
    "\n",
    "time_watch = (\n",
    "    stream_df.groupby('Primary_Watch_Time')['Watch_Hours']\n",
    "    .mean()\n",
    "    .round(2)\n",
    "    .reset_index(name='Average_Watch_Hours')\n",
    "    .sort_values(by='Average_Watch_Hours', ascending=False)\n",
    ")\n",
    "time_watch"
   ]
  },
  {
   "cell_type": "code",
   "execution_count": null,
   "id": "92e8e50e-fcc3-4c8e-8c99-06cbde3bcecc",
   "metadata": {},
   "outputs": [],
   "source": []
  },
  {
   "cell_type": "code",
   "execution_count": 275,
   "id": "b85c290b-8272-4ca7-b4fb-e96610df6b33",
   "metadata": {},
   "outputs": [
    {
     "data": {
      "application/vnd.plotly.v1+json": {
       "config": {
        "plotlyServerURL": "https://plot.ly"
       },
       "data": [
        {
         "hovertemplate": "Primary_Watch_Time=%{x}<br>Average_Watch_Hours=%{text}<extra></extra>",
         "legendgroup": "",
         "marker": {
          "color": "#1f77b4",
          "pattern": {
           "shape": ""
          }
         },
         "name": "",
         "orientation": "v",
         "showlegend": false,
         "text": {
          "_inputArray": {
           "0": 272.33,
           "1": 255.39,
           "2": 247.08,
           "3": 245.98,
           "bdata": "4XoUrkcFcUAUrkfheuxvQMP1KFyP4m5Aj8L1KFy/bkA=",
           "dtype": "f8",
           "shape": "4"
          },
          "bdata": "4XoUrkcFcUAUrkfheuxvQMP1KFyP4m5Aj8L1KFy/bkA=",
          "dtype": "f8"
         },
         "textposition": "outside",
         "texttemplate": "%{text}",
         "type": "bar",
         "x": [
          "Morning",
          "Evening",
          "Afternoon",
          "Late Night"
         ],
         "xaxis": "x",
         "y": {
          "_inputArray": {
           "0": 272.33,
           "1": 255.39,
           "2": 247.08,
           "3": 245.98,
           "bdata": "4XoUrkcFcUAUrkfheuxvQMP1KFyP4m5Aj8L1KFy/bkA=",
           "dtype": "f8",
           "shape": "4"
          },
          "bdata": "4XoUrkcFcUAUrkfheuxvQMP1KFyP4m5Aj8L1KFy/bkA=",
          "dtype": "f8"
         },
         "yaxis": "y"
        }
       ],
       "layout": {
        "barmode": "relative",
        "height": 600,
        "legend": {
         "tracegroupgap": 0
        },
        "paper_bgcolor": "rgba(0, 0, 0, 0)",
        "plot_bgcolor": "rgba(0, 0, 0, 0)",
        "showlegend": false,
        "template": {
         "data": {
          "pie": [
           {
            "automargin": true,
            "type": "pie"
           }
          ],
          "scatter": [
           {
            "line": {
             "width": 3
            },
            "marker": {
             "size": 9
            },
            "type": "scatter"
           }
          ],
          "scatter3d": [
           {
            "line": {
             "width": 3
            },
            "marker": {
             "size": 9
            },
            "type": "scatter3d"
           }
          ],
          "scattergeo": [
           {
            "line": {
             "width": 3
            },
            "marker": {
             "size": 9
            },
            "type": "scattergeo"
           }
          ],
          "scattergl": [
           {
            "line": {
             "width": 3
            },
            "marker": {
             "size": 9
            },
            "type": "scattergl"
           }
          ],
          "scatterpolar": [
           {
            "line": {
             "width": 3
            },
            "marker": {
             "size": 9
            },
            "type": "scatterpolar"
           }
          ],
          "scatterpolargl": [
           {
            "line": {
             "width": 3
            },
            "marker": {
             "size": 9
            },
            "type": "scatterpolargl"
           }
          ],
          "scatterternary": [
           {
            "line": {
             "width": 3
            },
            "marker": {
             "size": 9
            },
            "type": "scatterternary"
           }
          ],
          "table": [
           {
            "cells": {
             "height": 30
            },
            "header": {
             "height": 36
            },
            "type": "table"
           }
          ]
         },
         "layout": {
          "font": {
           "size": 18
          },
          "xaxis": {
           "title": {
            "standoff": 15
           }
          },
          "yaxis": {
           "title": {
            "standoff": 15
           }
          }
         }
        },
        "title": {
         "text": "Watch Hours per Day"
        },
        "width": 1100,
        "xaxis": {
         "anchor": "y",
         "autorange": true,
         "domain": [
          0,
          1
         ],
         "range": [
          -0.5,
          3.5
         ],
         "title": {
          "standoff": 50,
          "text": "Time of Day"
         },
         "type": "category"
        },
        "yaxis": {
         "anchor": "x",
         "autorange": true,
         "domain": [
          0,
          1
         ],
         "range": [
          0,
          286.6631578947368
         ],
         "title": {
          "text": "Average Watch Hours"
         },
         "type": "linear"
        }
       }
      }
     },
     "metadata": {},
     "output_type": "display_data"
    }
   ],
   "source": [
    "time_watch = (\n",
    "    stream_df.groupby('Primary_Watch_Time')['Watch_Hours']\n",
    "    .mean()\n",
    "    .round(2)\n",
    "    .reset_index(name='Average_Watch_Hours')\n",
    "    .sort_values(by='Average_Watch_Hours', ascending=False)\n",
    ")\n",
    "\n",
    "\n",
    "fig = px.bar(\n",
    "    time_watch,\n",
    "    x='Primary_Watch_Time',\n",
    "    y='Average_Watch_Hours',\n",
    "    title='Watch Hours per Day',\n",
    "    text='Average_Watch_Hours',\n",
    "    color_discrete_sequence=['#1f77b4'],\n",
    "    height=600,\n",
    "    width=1100\n",
    ")\n",
    "\n",
    "fig.update_traces(\n",
    "    texttemplate='%{text}',\n",
    "    textposition='outside'\n",
    ")\n",
    "\n",
    "fig.update_layout(\n",
    "    template=\"presentation\",\n",
    "    xaxis_title=\"Time of Day\",\n",
    "    yaxis_title=\"Average Watch Hours\",\n",
    "    xaxis_title_standoff=50,\n",
    "    legend_title_text=None,\n",
    "    showlegend=False,\n",
    "    paper_bgcolor=\"rgba(0, 0, 0, 0)\",\n",
    "    plot_bgcolor=\"rgba(0, 0, 0, 0)\"\n",
    ")\n",
    "\n",
    "\n",
    "fig.show()\n",
    "\n",
    "\n",
    "fig.write_image(os.path.join(result_dir, 'Watch_Hours_per_Day_Bar_chart.jpg'))\n",
    "fig.write_image(os.path.join(result_dir, 'Watch_Hours_per_Day_Bar_chart.png'))\n",
    "fig.write_html(os.path.join(result_dir, 'Watch_Hours_per_Day_Bar_chart.html'))\n"
   ]
  },
  {
   "cell_type": "markdown",
   "id": "b2cc8203-93f8-4530-a1d0-52d130f537ba",
   "metadata": {},
   "source": [
    "\n",
    "This table presents the average watch hours based on the primary time of day users watch content:\n",
    "\n",
    "- **Primary_Watch_Time:** The main time period when users watch content (Morning, Afternoon, Evening, Late Night).\n",
    "- **Average_Watch_Hours:** The average number of hours watched by users during each time period.\n",
    "\n",
    "Key insights:\n",
    "- Users watching primarily in the **Morning** have the highest average watch hours (272.33 hours).\n",
    "- Watching during the **Evening** follows with an average of 255.39 hours.\n",
    "- The **Afternoon** and **Late Night** watch periods have slightly lower averages of 247.08 and 245.98 hours, respectively.\n"
   ]
  },
  {
   "cell_type": "markdown",
   "id": "b5336370-5ee5-4e3c-a7ba-9e9e82a9a6c4",
   "metadata": {},
   "source": [
    "## Preffered watching time"
   ]
  },
  {
   "cell_type": "code",
   "execution_count": 278,
   "id": "96151876-c564-4ffa-9b6d-4ccf2622f916",
   "metadata": {},
   "outputs": [
    {
     "data": {
      "application/vnd.plotly.v1+json": {
       "config": {
        "plotlyServerURL": "https://plot.ly"
       },
       "data": [
        {
         "hovertemplate": "Primary_Watch_Time=%{x}<br>User_Count=%{text}<extra></extra>",
         "legendgroup": "",
         "marker": {
          "color": "#1f77b4",
          "pattern": {
           "shape": ""
          }
         },
         "name": "",
         "orientation": "v",
         "showlegend": false,
         "text": {
          "_inputArray": {
           "0": 271,
           "1": 256,
           "2": 251,
           "3": 222,
           "bdata": "AAAAAADwcEAAAAAAAABwQAAAAAAAYG9AAAAAAADAa0A=",
           "dtype": "f8",
           "shape": "4"
          },
          "bdata": "AAAAAADwcEAAAAAAAABwQAAAAAAAYG9AAAAAAADAa0A=",
          "dtype": "f8"
         },
         "textposition": "outside",
         "texttemplate": "%{text}",
         "type": "bar",
         "x": [
          "Late Night",
          "Evening",
          "Afternoon",
          "Morning"
         ],
         "xaxis": "x",
         "y": {
          "_inputArray": {
           "0": 271,
           "1": 256,
           "2": 251,
           "3": 222,
           "bdata": "DwEAAfsA3gA=",
           "dtype": "i2",
           "shape": "4"
          },
          "bdata": "DwEAAfsA3gA=",
          "dtype": "i2"
         },
         "yaxis": "y"
        }
       ],
       "layout": {
        "barmode": "relative",
        "height": 600,
        "legend": {
         "tracegroupgap": 0
        },
        "paper_bgcolor": "rgba(0, 0, 0, 0)",
        "plot_bgcolor": "rgba(0, 0, 0, 0)",
        "showlegend": false,
        "template": {
         "data": {
          "pie": [
           {
            "automargin": true,
            "type": "pie"
           }
          ],
          "scatter": [
           {
            "line": {
             "width": 3
            },
            "marker": {
             "size": 9
            },
            "type": "scatter"
           }
          ],
          "scatter3d": [
           {
            "line": {
             "width": 3
            },
            "marker": {
             "size": 9
            },
            "type": "scatter3d"
           }
          ],
          "scattergeo": [
           {
            "line": {
             "width": 3
            },
            "marker": {
             "size": 9
            },
            "type": "scattergeo"
           }
          ],
          "scattergl": [
           {
            "line": {
             "width": 3
            },
            "marker": {
             "size": 9
            },
            "type": "scattergl"
           }
          ],
          "scatterpolar": [
           {
            "line": {
             "width": 3
            },
            "marker": {
             "size": 9
            },
            "type": "scatterpolar"
           }
          ],
          "scatterpolargl": [
           {
            "line": {
             "width": 3
            },
            "marker": {
             "size": 9
            },
            "type": "scatterpolargl"
           }
          ],
          "scatterternary": [
           {
            "line": {
             "width": 3
            },
            "marker": {
             "size": 9
            },
            "type": "scatterternary"
           }
          ],
          "table": [
           {
            "cells": {
             "height": 30
            },
            "header": {
             "height": 36
            },
            "type": "table"
           }
          ]
         },
         "layout": {
          "font": {
           "size": 18
          },
          "xaxis": {
           "title": {
            "standoff": 15
           }
          },
          "yaxis": {
           "title": {
            "standoff": 15
           }
          }
         }
        },
        "title": {
         "text": "Preferred Watching Time"
        },
        "width": 1100,
        "xaxis": {
         "anchor": "y",
         "autorange": true,
         "domain": [
          0,
          1
         ],
         "range": [
          -0.5,
          3.5
         ],
         "title": {
          "standoff": 50,
          "text": "Watching Time"
         },
         "type": "category"
        },
        "yaxis": {
         "anchor": "x",
         "autorange": true,
         "domain": [
          0,
          1
         ],
         "range": [
          0,
          285.2631578947368
         ],
         "title": {
          "text": "Number of Users"
         },
         "type": "linear"
        }
       }
      }
     },
     "metadata": {},
     "output_type": "display_data"
    }
   ],
   "source": [
    "watch_time = stream_df[\"Primary_Watch_Time\"].value_counts().reset_index()\n",
    "watch_time.columns = [\"Primary_Watch_Time\", \"User_Count\"]\n",
    "\n",
    "fig = px.bar(\n",
    "    watch_time,\n",
    "    x=\"Primary_Watch_Time\",\n",
    "    y=\"User_Count\",\n",
    "    title=\"Preferred Watching Time\",\n",
    "    text=\"User_Count\",\n",
    "    color_discrete_sequence=['#1f77b4'],  # Changed to blue\n",
    "    height=600,\n",
    "    width=1100\n",
    ")\n",
    "\n",
    "fig.update_traces(texttemplate=\"%{text}\", textposition=\"outside\")\n",
    "\n",
    "fig.update_layout(\n",
    "    template=\"presentation\",\n",
    "    xaxis_title=\"Watching Time\",\n",
    "    yaxis_title=\"Number of Users\",\n",
    "    xaxis_title_standoff=50,\n",
    "    legend_title_text=None,\n",
    "    showlegend=False,\n",
    "    paper_bgcolor=\"rgba(0, 0, 0, 0)\",\n",
    "    plot_bgcolor=\"rgba(0, 0, 0, 0)\"\n",
    ")\n",
    "\n",
    "fig.show()\n",
    "\n",
    "\n",
    "fig.write_image(os.path.join(result_dir, 'Preferred_Watching_Time_Bar_chart.jpg'))\n",
    "fig.write_image(os.path.join(result_dir, 'Preferred_Watching_Time_Bar_chart.png'))\n",
    "fig.write_html(os.path.join(result_dir, 'Preferred_Watching_Time_Bar_chart.html'))\n"
   ]
  },
  {
   "cell_type": "markdown",
   "id": "16097c05-bd9b-4629-8e72-be69d9082cbf",
   "metadata": {},
   "source": [
    "This table presents the data based on the primary time of day users watch content:\n",
    "\n",
    "- **Primary_Watch_Time:** The main time period when users watch content (Morning, Afternoon, Evening, Late Night).\n",
    "Key insights:\n",
    "- Many Users watch primarily in the **late night** with 271 viewers\n",
    "- Watching during the **Evening** follows with 256\n",
    "- The **Afternoon** and **morning** watch periods have slightly low number of viewers respectively."
   ]
  },
  {
   "cell_type": "markdown",
   "id": "7375586b-d9bc-4045-9522-dbbc07e0b0f5",
   "metadata": {},
   "source": [
    "## Genre ratings"
   ]
  },
  {
   "cell_type": "code",
   "execution_count": 281,
   "id": "21980514-966c-4965-8358-0f2de7c7435f",
   "metadata": {},
   "outputs": [
    {
     "data": {
      "text/html": [
       "<div>\n",
       "<style scoped>\n",
       "    .dataframe tbody tr th:only-of-type {\n",
       "        vertical-align: middle;\n",
       "    }\n",
       "\n",
       "    .dataframe tbody tr th {\n",
       "        vertical-align: top;\n",
       "    }\n",
       "\n",
       "    .dataframe thead th {\n",
       "        text-align: right;\n",
       "    }\n",
       "</style>\n",
       "<table border=\"1\" class=\"dataframe\">\n",
       "  <thead>\n",
       "    <tr style=\"text-align: right;\">\n",
       "      <th></th>\n",
       "      <th>index</th>\n",
       "      <th>Favorite_Genre</th>\n",
       "      <th>total rating</th>\n",
       "    </tr>\n",
       "  </thead>\n",
       "  <tbody>\n",
       "    <tr>\n",
       "      <th>0</th>\n",
       "      <td>4</td>\n",
       "      <td>Horror</td>\n",
       "      <td>624.5</td>\n",
       "    </tr>\n",
       "    <tr>\n",
       "      <th>1</th>\n",
       "      <td>0</td>\n",
       "      <td>Action</td>\n",
       "      <td>599.9</td>\n",
       "    </tr>\n",
       "    <tr>\n",
       "      <th>2</th>\n",
       "      <td>1</td>\n",
       "      <td>Comedy</td>\n",
       "      <td>586.5</td>\n",
       "    </tr>\n",
       "    <tr>\n",
       "      <th>3</th>\n",
       "      <td>5</td>\n",
       "      <td>Romance</td>\n",
       "      <td>584.5</td>\n",
       "    </tr>\n",
       "    <tr>\n",
       "      <th>4</th>\n",
       "      <td>3</td>\n",
       "      <td>Drama</td>\n",
       "      <td>572.0</td>\n",
       "    </tr>\n",
       "    <tr>\n",
       "      <th>5</th>\n",
       "      <td>2</td>\n",
       "      <td>Documentary</td>\n",
       "      <td>522.4</td>\n",
       "    </tr>\n",
       "    <tr>\n",
       "      <th>6</th>\n",
       "      <td>6</td>\n",
       "      <td>Sci-Fi</td>\n",
       "      <td>520.5</td>\n",
       "    </tr>\n",
       "  </tbody>\n",
       "</table>\n",
       "</div>"
      ],
      "text/plain": [
       "   index Favorite_Genre  total rating\n",
       "0      4         Horror         624.5\n",
       "1      0         Action         599.9\n",
       "2      1         Comedy         586.5\n",
       "3      5        Romance         584.5\n",
       "4      3          Drama         572.0\n",
       "5      2    Documentary         522.4\n",
       "6      6         Sci-Fi         520.5"
      ]
     },
     "execution_count": 281,
     "metadata": {},
     "output_type": "execute_result"
    }
   ],
   "source": [
    "genre_ratings = stream_df.groupby('Favorite_Genre')['Average_Rating_Given'].sum().round(2).reset_index(name='total rating').sort_values(by='total rating',ascending=False).reset_index()\n",
    "genre_ratings"
   ]
  },
  {
   "cell_type": "code",
   "execution_count": 282,
   "id": "273f2c8f-e068-4027-9667-7ddbe22fd8ad",
   "metadata": {},
   "outputs": [
    {
     "data": {
      "application/vnd.plotly.v1+json": {
       "config": {
        "plotlyServerURL": "https://plot.ly"
       },
       "data": [
        {
         "hovertemplate": "Average_Rating=%{marker.color}<br>Genre=%{y}<br>Rating_Count=%{marker.size}<extra></extra>",
         "legendgroup": "",
         "marker": {
          "color": {
           "_inputArray": {
            "0": 3.999333333333333,
            "1": 4.017123287671233,
            "2": 4.018461538461538,
            "3": 4.028169014084507,
            "4": 3.977707006369427,
            "5": 4.0034246575342465,
            "6": 4.034883720930233,
            "bdata": "McGDeaL+D0AZMWLEiBEQQGG035TnEhBAmwOJVtgcEED9aQsNWNIPQDhw4MCBAxBAiTvijrgjEEA=",
            "dtype": "f8",
            "shape": "7"
           },
           "bdata": "McGDeaL+D0AZMWLEiBEQQGG035TnEhBAmwOJVtgcEED9aQsNWNIPQDhw4MCBAxBAiTvijrgjEEA=",
           "dtype": "f8"
          },
          "coloraxis": "coloraxis",
          "opacity": 0.7,
          "size": {
           "_inputArray": {
            "0": 150,
            "1": 146,
            "2": 130,
            "3": 142,
            "4": 157,
            "5": 146,
            "6": 129,
            "bdata": "lgCSAIIAjgCdAJIAgQA=",
            "dtype": "i2",
            "shape": "7"
           },
           "bdata": "lgCSAIIAjgCdAJIAgQA=",
           "dtype": "i2"
          },
          "sizemode": "area",
          "sizeref": 0.3925,
          "symbol": "circle"
         },
         "mode": "markers",
         "name": "",
         "orientation": "h",
         "showlegend": false,
         "type": "scatter",
         "x": {
          "_inputArray": {
           "0": 3.999333333333333,
           "1": 4.017123287671233,
           "2": 4.018461538461538,
           "3": 4.028169014084507,
           "4": 3.977707006369427,
           "5": 4.0034246575342465,
           "6": 4.034883720930233,
           "bdata": "McGDeaL+D0AZMWLEiBEQQGG035TnEhBAmwOJVtgcEED9aQsNWNIPQDhw4MCBAxBAiTvijrgjEEA=",
           "dtype": "f8",
           "shape": "7"
          },
          "bdata": "McGDeaL+D0AZMWLEiBEQQGG035TnEhBAmwOJVtgcEED9aQsNWNIPQDhw4MCBAxBAiTvijrgjEEA=",
          "dtype": "f8"
         },
         "xaxis": "x",
         "y": [
          "Action",
          "Comedy",
          "Documentary",
          "Drama",
          "Horror",
          "Romance",
          "Sci-Fi"
         ],
         "yaxis": "y"
        }
       ],
       "layout": {
        "coloraxis": {
         "colorbar": {
          "title": {
           "text": "Average_Rating"
          }
         },
         "colorscale": [
          [
           0,
           "rgb(247,251,255)"
          ],
          [
           0.125,
           "rgb(222,235,247)"
          ],
          [
           0.25,
           "rgb(198,219,239)"
          ],
          [
           0.375,
           "rgb(158,202,225)"
          ],
          [
           0.5,
           "rgb(107,174,214)"
          ],
          [
           0.625,
           "rgb(66,146,198)"
          ],
          [
           0.75,
           "rgb(33,113,181)"
          ],
          [
           0.875,
           "rgb(8,81,156)"
          ],
          [
           1,
           "rgb(8,48,107)"
          ]
         ]
        },
        "height": 600,
        "legend": {
         "itemsizing": "constant",
         "tracegroupgap": 0
        },
        "margin": {
         "b": 50,
         "l": 150,
         "r": 50,
         "t": 100
        },
        "paper_bgcolor": "rgba(0, 0, 0, 0)",
        "plot_bgcolor": "rgba(0, 0, 0, 0)",
        "template": {
         "data": {
          "pie": [
           {
            "automargin": true,
            "type": "pie"
           }
          ],
          "scatter": [
           {
            "line": {
             "width": 3
            },
            "marker": {
             "size": 9
            },
            "type": "scatter"
           }
          ],
          "scatter3d": [
           {
            "line": {
             "width": 3
            },
            "marker": {
             "size": 9
            },
            "type": "scatter3d"
           }
          ],
          "scattergeo": [
           {
            "line": {
             "width": 3
            },
            "marker": {
             "size": 9
            },
            "type": "scattergeo"
           }
          ],
          "scattergl": [
           {
            "line": {
             "width": 3
            },
            "marker": {
             "size": 9
            },
            "type": "scattergl"
           }
          ],
          "scatterpolar": [
           {
            "line": {
             "width": 3
            },
            "marker": {
             "size": 9
            },
            "type": "scatterpolar"
           }
          ],
          "scatterpolargl": [
           {
            "line": {
             "width": 3
            },
            "marker": {
             "size": 9
            },
            "type": "scatterpolargl"
           }
          ],
          "scatterternary": [
           {
            "line": {
             "width": 3
            },
            "marker": {
             "size": 9
            },
            "type": "scatterternary"
           }
          ],
          "table": [
           {
            "cells": {
             "height": 30
            },
            "header": {
             "height": 36
            },
            "type": "table"
           }
          ]
         },
         "layout": {
          "font": {
           "size": 18
          },
          "xaxis": {
           "title": {
            "standoff": 15
           }
          },
          "yaxis": {
           "title": {
            "standoff": 15
           }
          }
         }
        },
        "title": {
         "text": "Average Rating by Genre with Rating Volume"
        },
        "width": 1000,
        "xaxis": {
         "anchor": "y",
         "autorange": true,
         "domain": [
          0,
          1
         ],
         "range": [
          3.972623451167632,
          4.039805959959135
         ],
         "title": {
          "text": "Average Rating"
         },
         "type": "linear"
        },
        "yaxis": {
         "anchor": "x",
         "automargin": true,
         "autorange": true,
         "domain": [
          0,
          1
         ],
         "range": [
          -0.6069336940243705,
          6.588982053579547
         ],
         "tickangle": 0,
         "title": {
          "text": "Genre"
         },
         "type": "category"
        }
       }
      }
     },
     "metadata": {},
     "output_type": "display_data"
    }
   ],
   "source": [
    "rating_counts = stream_df.groupby(\"Favorite_Genre\")[\"Average_Rating_Given\"].count().reset_index()\n",
    "rating_counts.columns = [\"Genre\", \"Rating_Count\"]\n",
    "\n",
    "avg_rating_genre = stream_df.groupby(\"Favorite_Genre\")[\"Average_Rating_Given\"].mean().reset_index()\n",
    "avg_rating_genre.columns = [\"Genre\", \"Average_Rating\"]\n",
    "\n",
    "combined = avg_rating_genre.merge(rating_counts, on=\"Genre\")\n",
    "\n",
    "fig = px.scatter(\n",
    "    combined,\n",
    "    x=\"Average_Rating\",\n",
    "    y=\"Genre\",\n",
    "    size=\"Rating_Count\",\n",
    "    color=\"Average_Rating\",\n",
    "    color_continuous_scale=\"Blues\", \n",
    "    title=\"Average Rating by Genre with Rating Volume\",\n",
    "    height=600,\n",
    "    width=1000,\n",
    "    opacity=0.7  \n",
    ")\n",
    "\n",
    "fig.update_layout(\n",
    "    xaxis_title=\"Average Rating\",\n",
    "    yaxis_title=\"Genre\",\n",
    "    template=\"presentation\",\n",
    "    margin=dict(l=150, r=50, t=100, b=50),  \n",
    "    paper_bgcolor=\"rgba(0,0,0,0)\",\n",
    "    plot_bgcolor=\"rgba(0,0,0,0)\"\n",
    ")\n",
    "\n",
    "fig.update_yaxes(tickangle=0, automargin=True)\n",
    "\n",
    "fig.show()\n",
    "\n",
    "\n",
    "fig.write_image(os.path.join(result_dir, 'Average_Rating_by_Genre_Bubble_Chart.jpg'))\n",
    "fig.write_image(os.path.join(result_dir, 'Average_Rating_by_Genre_Bubble_Chart.png'))\n",
    "fig.write_html(os.path.join(result_dir, 'Average_Rating_by_Genre_Bubble_Chart.html'))\n"
   ]
  },
  {
   "cell_type": "markdown",
   "id": "e7fc0d4e-c7ee-4e1f-8106-59f2233f2569",
   "metadata": {},
   "source": [
    "**Summary:**  \n",
    "- **Sci-Fi** leads with the highest rating of 4.03, indicating strong viewer engagement.  \n",
    "- **Romance**, **Horror**, and **Drama** also have high ratings, showing their popularity.  \n",
    "- **Documentary**, **Comedy**, and **Action** follow with relatively lower ratings."
   ]
  },
  {
   "cell_type": "markdown",
   "id": "95679a19-6bbe-4477-8c1a-ab600a69dc9c",
   "metadata": {},
   "source": [
    "## Favorite genres"
   ]
  },
  {
   "cell_type": "code",
   "execution_count": 285,
   "id": "b7b29f84-890c-4932-b381-1f3124eb73e5",
   "metadata": {},
   "outputs": [
    {
     "data": {
      "application/vnd.plotly.v1+json": {
       "config": {
        "plotlyServerURL": "https://plot.ly"
       },
       "data": [
        {
         "hovertemplate": "Count=%{text}<br>Genre=%{y}<extra></extra>",
         "legendgroup": "",
         "marker": {
          "color": "#1f77b4",
          "pattern": {
           "shape": ""
          }
         },
         "name": "",
         "orientation": "h",
         "showlegend": false,
         "text": {
          "_inputArray": {
           "0": 129,
           "1": 130,
           "2": 142,
           "3": 146,
           "4": 146,
           "5": 150,
           "6": 157,
           "bdata": "AAAAAAAgYEAAAAAAAEBgQAAAAAAAwGFAAAAAAABAYkAAAAAAAEBiQAAAAAAAwGJAAAAAAACgY0A=",
           "dtype": "f8",
           "shape": "7"
          },
          "bdata": "AAAAAAAgYEAAAAAAAEBgQAAAAAAAwGFAAAAAAABAYkAAAAAAAEBiQAAAAAAAwGJAAAAAAACgY0A=",
          "dtype": "f8"
         },
         "textposition": "outside",
         "texttemplate": "%{text}",
         "type": "bar",
         "x": {
          "_inputArray": {
           "0": 129,
           "1": 130,
           "2": 142,
           "3": 146,
           "4": 146,
           "5": 150,
           "6": 157,
           "bdata": "gQCCAI4AkgCSAJYAnQA=",
           "dtype": "i2",
           "shape": "7"
          },
          "bdata": "gQCCAI4AkgCSAJYAnQA=",
          "dtype": "i2"
         },
         "xaxis": "x",
         "y": [
          "Sci-Fi",
          "Documentary",
          "Drama",
          "Comedy",
          "Romance",
          "Action",
          "Horror"
         ],
         "yaxis": "y"
        }
       ],
       "layout": {
        "barmode": "relative",
        "height": 600,
        "legend": {
         "tracegroupgap": 0
        },
        "margin": {
         "b": 50,
         "l": 200,
         "r": 50,
         "t": 100
        },
        "paper_bgcolor": "rgba(0, 0, 0, 0)",
        "plot_bgcolor": "rgba(0, 0, 0, 0)",
        "showlegend": false,
        "template": {
         "data": {
          "pie": [
           {
            "automargin": true,
            "type": "pie"
           }
          ],
          "scatter": [
           {
            "line": {
             "width": 3
            },
            "marker": {
             "size": 9
            },
            "type": "scatter"
           }
          ],
          "scatter3d": [
           {
            "line": {
             "width": 3
            },
            "marker": {
             "size": 9
            },
            "type": "scatter3d"
           }
          ],
          "scattergeo": [
           {
            "line": {
             "width": 3
            },
            "marker": {
             "size": 9
            },
            "type": "scattergeo"
           }
          ],
          "scattergl": [
           {
            "line": {
             "width": 3
            },
            "marker": {
             "size": 9
            },
            "type": "scattergl"
           }
          ],
          "scatterpolar": [
           {
            "line": {
             "width": 3
            },
            "marker": {
             "size": 9
            },
            "type": "scatterpolar"
           }
          ],
          "scatterpolargl": [
           {
            "line": {
             "width": 3
            },
            "marker": {
             "size": 9
            },
            "type": "scatterpolargl"
           }
          ],
          "scatterternary": [
           {
            "line": {
             "width": 3
            },
            "marker": {
             "size": 9
            },
            "type": "scatterternary"
           }
          ],
          "table": [
           {
            "cells": {
             "height": 30
            },
            "header": {
             "height": 36
            },
            "type": "table"
           }
          ]
         },
         "layout": {
          "font": {
           "size": 18
          },
          "xaxis": {
           "title": {
            "standoff": 15
           }
          },
          "yaxis": {
           "title": {
            "standoff": 15
           }
          }
         }
        },
        "title": {
         "text": "Favorite Genre Distribution"
        },
        "width": 1100,
        "xaxis": {
         "anchor": "y",
         "autorange": true,
         "domain": [
          0,
          1
         ],
         "range": [
          0,
          165.26315789473685
         ],
         "title": {
          "standoff": 50,
          "text": "Number of Users"
         },
         "type": "linear"
        },
        "yaxis": {
         "anchor": "x",
         "autorange": true,
         "domain": [
          0,
          1
         ],
         "range": [
          -0.5,
          6.5
         ],
         "tickmode": "linear",
         "title": {
          "text": "Genre"
         },
         "type": "category"
        }
       }
      }
     },
     "metadata": {},
     "output_type": "display_data"
    }
   ],
   "source": [
    "fav_genre = stream_df[\"Favorite_Genre\"].value_counts().reset_index()\n",
    "fav_genre.columns = [\"Genre\", \"Count\"]\n",
    "fav_genre = fav_genre.sort_values(by=\"Count\", ascending=True)  \n",
    "\n",
    "fig = px.bar(\n",
    "    fav_genre,\n",
    "    y=\"Genre\",\n",
    "    x=\"Count\",\n",
    "    orientation=\"h\",\n",
    "    title=\"Favorite Genre Distribution\",\n",
    "    text=\"Count\",\n",
    "    color_discrete_sequence=['#1f77b4'], \n",
    "    height=600,\n",
    "    width=1100\n",
    ")\n",
    "\n",
    "fig.update_traces(texttemplate=\"%{text}\", textposition=\"outside\")\n",
    "\n",
    "fig.update_layout(\n",
    "    template=\"presentation\",\n",
    "    xaxis_title=\"Number of Users\",\n",
    "    yaxis_title=\"Genre\",\n",
    "    xaxis_title_standoff=50,\n",
    "    legend_title_text=None,\n",
    "    showlegend=False,\n",
    "    margin=dict(l=200, r=50, t=100, b=50),\n",
    "    yaxis=dict(tickmode='linear'),\n",
    "    paper_bgcolor=\"rgba(0, 0, 0, 0)\",\n",
    "    plot_bgcolor=\"rgba(0, 0, 0, 0)\"\n",
    ")\n",
    "\n",
    "fig.show()\n",
    "\n",
    "fig.write_image(os.path.join(result_dir, 'Total_Rating_by_Favorite_Genre_Bar_chart_horizontal.jpg'))\n",
    "fig.write_image(os.path.join(result_dir, 'Total_Rating_by_Favorite_Genre_Bar_chart_horizontal.png'))\n",
    "fig.write_html(os.path.join(result_dir, 'Total_Rating_by_Favorite_Genre_Bar_chart_horizontal.html'))\n"
   ]
  },
  {
   "cell_type": "markdown",
   "id": "e02c8a32-d68e-43d5-ac26-c257cddbc37c",
   "metadata": {},
   "source": [
    "\n",
    "**Summary:**  \n",
    "- **Horror** leads with about 157 counts, indicating strong viewer engagement.  \n",
    "- **Action**, **Comedy**, and **Romance** also have high number of viewers, showing their popularity.  \n",
    "- **Drama**, **Documentary**, and **Sci-Fi** follow with relatively low number of viewers.\n"
   ]
  },
  {
   "cell_type": "markdown",
   "id": "b0653a98-2c70-455a-94b0-303234f98086",
   "metadata": {},
   "source": [
    "### Language preference by country"
   ]
  },
  {
   "cell_type": "code",
   "execution_count": 288,
   "id": "c6f913a8-da69-49e8-a7f8-f937d80e8972",
   "metadata": {},
   "outputs": [
    {
     "data": {
      "text/html": [
       "<div>\n",
       "<style scoped>\n",
       "    .dataframe tbody tr th:only-of-type {\n",
       "        vertical-align: middle;\n",
       "    }\n",
       "\n",
       "    .dataframe tbody tr th {\n",
       "        vertical-align: top;\n",
       "    }\n",
       "\n",
       "    .dataframe thead th {\n",
       "        text-align: right;\n",
       "    }\n",
       "</style>\n",
       "<table border=\"1\" class=\"dataframe\">\n",
       "  <thead>\n",
       "    <tr style=\"text-align: right;\">\n",
       "      <th></th>\n",
       "      <th>Country</th>\n",
       "      <th>Language_Preference</th>\n",
       "      <th>Count</th>\n",
       "    </tr>\n",
       "  </thead>\n",
       "  <tbody>\n",
       "    <tr>\n",
       "      <th>0</th>\n",
       "      <td>Australia</td>\n",
       "      <td>English</td>\n",
       "      <td>28</td>\n",
       "    </tr>\n",
       "    <tr>\n",
       "      <th>1</th>\n",
       "      <td>Australia</td>\n",
       "      <td>French</td>\n",
       "      <td>27</td>\n",
       "    </tr>\n",
       "    <tr>\n",
       "      <th>2</th>\n",
       "      <td>Australia</td>\n",
       "      <td>German</td>\n",
       "      <td>18</td>\n",
       "    </tr>\n",
       "    <tr>\n",
       "      <th>3</th>\n",
       "      <td>Australia</td>\n",
       "      <td>Hindi</td>\n",
       "      <td>15</td>\n",
       "    </tr>\n",
       "    <tr>\n",
       "      <th>4</th>\n",
       "      <td>Australia</td>\n",
       "      <td>Mandarin</td>\n",
       "      <td>30</td>\n",
       "    </tr>\n",
       "    <tr>\n",
       "      <th>5</th>\n",
       "      <td>Australia</td>\n",
       "      <td>Spanish</td>\n",
       "      <td>22</td>\n",
       "    </tr>\n",
       "    <tr>\n",
       "      <th>6</th>\n",
       "      <td>Canada</td>\n",
       "      <td>English</td>\n",
       "      <td>22</td>\n",
       "    </tr>\n",
       "    <tr>\n",
       "      <th>7</th>\n",
       "      <td>Canada</td>\n",
       "      <td>French</td>\n",
       "      <td>24</td>\n",
       "    </tr>\n",
       "    <tr>\n",
       "      <th>8</th>\n",
       "      <td>Canada</td>\n",
       "      <td>German</td>\n",
       "      <td>25</td>\n",
       "    </tr>\n",
       "    <tr>\n",
       "      <th>9</th>\n",
       "      <td>Canada</td>\n",
       "      <td>Hindi</td>\n",
       "      <td>26</td>\n",
       "    </tr>\n",
       "    <tr>\n",
       "      <th>10</th>\n",
       "      <td>Canada</td>\n",
       "      <td>Mandarin</td>\n",
       "      <td>28</td>\n",
       "    </tr>\n",
       "    <tr>\n",
       "      <th>11</th>\n",
       "      <td>Canada</td>\n",
       "      <td>Spanish</td>\n",
       "      <td>14</td>\n",
       "    </tr>\n",
       "    <tr>\n",
       "      <th>12</th>\n",
       "      <td>France</td>\n",
       "      <td>English</td>\n",
       "      <td>30</td>\n",
       "    </tr>\n",
       "    <tr>\n",
       "      <th>13</th>\n",
       "      <td>France</td>\n",
       "      <td>French</td>\n",
       "      <td>29</td>\n",
       "    </tr>\n",
       "    <tr>\n",
       "      <th>14</th>\n",
       "      <td>France</td>\n",
       "      <td>German</td>\n",
       "      <td>25</td>\n",
       "    </tr>\n",
       "    <tr>\n",
       "      <th>15</th>\n",
       "      <td>France</td>\n",
       "      <td>Hindi</td>\n",
       "      <td>24</td>\n",
       "    </tr>\n",
       "    <tr>\n",
       "      <th>16</th>\n",
       "      <td>France</td>\n",
       "      <td>Mandarin</td>\n",
       "      <td>21</td>\n",
       "    </tr>\n",
       "    <tr>\n",
       "      <th>17</th>\n",
       "      <td>France</td>\n",
       "      <td>Spanish</td>\n",
       "      <td>22</td>\n",
       "    </tr>\n",
       "    <tr>\n",
       "      <th>18</th>\n",
       "      <td>Germany</td>\n",
       "      <td>English</td>\n",
       "      <td>21</td>\n",
       "    </tr>\n",
       "    <tr>\n",
       "      <th>19</th>\n",
       "      <td>Germany</td>\n",
       "      <td>French</td>\n",
       "      <td>23</td>\n",
       "    </tr>\n",
       "    <tr>\n",
       "      <th>20</th>\n",
       "      <td>Germany</td>\n",
       "      <td>German</td>\n",
       "      <td>24</td>\n",
       "    </tr>\n",
       "    <tr>\n",
       "      <th>21</th>\n",
       "      <td>Germany</td>\n",
       "      <td>Hindi</td>\n",
       "      <td>25</td>\n",
       "    </tr>\n",
       "    <tr>\n",
       "      <th>22</th>\n",
       "      <td>Germany</td>\n",
       "      <td>Mandarin</td>\n",
       "      <td>24</td>\n",
       "    </tr>\n",
       "    <tr>\n",
       "      <th>23</th>\n",
       "      <td>Germany</td>\n",
       "      <td>Spanish</td>\n",
       "      <td>29</td>\n",
       "    </tr>\n",
       "    <tr>\n",
       "      <th>24</th>\n",
       "      <td>India</td>\n",
       "      <td>English</td>\n",
       "      <td>21</td>\n",
       "    </tr>\n",
       "    <tr>\n",
       "      <th>25</th>\n",
       "      <td>India</td>\n",
       "      <td>French</td>\n",
       "      <td>16</td>\n",
       "    </tr>\n",
       "    <tr>\n",
       "      <th>26</th>\n",
       "      <td>India</td>\n",
       "      <td>German</td>\n",
       "      <td>20</td>\n",
       "    </tr>\n",
       "    <tr>\n",
       "      <th>27</th>\n",
       "      <td>India</td>\n",
       "      <td>Hindi</td>\n",
       "      <td>18</td>\n",
       "    </tr>\n",
       "    <tr>\n",
       "      <th>28</th>\n",
       "      <td>India</td>\n",
       "      <td>Mandarin</td>\n",
       "      <td>21</td>\n",
       "    </tr>\n",
       "    <tr>\n",
       "      <th>29</th>\n",
       "      <td>India</td>\n",
       "      <td>Spanish</td>\n",
       "      <td>20</td>\n",
       "    </tr>\n",
       "    <tr>\n",
       "      <th>30</th>\n",
       "      <td>UK</td>\n",
       "      <td>English</td>\n",
       "      <td>22</td>\n",
       "    </tr>\n",
       "    <tr>\n",
       "      <th>31</th>\n",
       "      <td>UK</td>\n",
       "      <td>French</td>\n",
       "      <td>22</td>\n",
       "    </tr>\n",
       "    <tr>\n",
       "      <th>32</th>\n",
       "      <td>UK</td>\n",
       "      <td>German</td>\n",
       "      <td>26</td>\n",
       "    </tr>\n",
       "    <tr>\n",
       "      <th>33</th>\n",
       "      <td>UK</td>\n",
       "      <td>Hindi</td>\n",
       "      <td>27</td>\n",
       "    </tr>\n",
       "    <tr>\n",
       "      <th>34</th>\n",
       "      <td>UK</td>\n",
       "      <td>Mandarin</td>\n",
       "      <td>25</td>\n",
       "    </tr>\n",
       "    <tr>\n",
       "      <th>35</th>\n",
       "      <td>UK</td>\n",
       "      <td>Spanish</td>\n",
       "      <td>28</td>\n",
       "    </tr>\n",
       "    <tr>\n",
       "      <th>36</th>\n",
       "      <td>USA</td>\n",
       "      <td>English</td>\n",
       "      <td>24</td>\n",
       "    </tr>\n",
       "    <tr>\n",
       "      <th>37</th>\n",
       "      <td>USA</td>\n",
       "      <td>French</td>\n",
       "      <td>30</td>\n",
       "    </tr>\n",
       "    <tr>\n",
       "      <th>38</th>\n",
       "      <td>USA</td>\n",
       "      <td>German</td>\n",
       "      <td>29</td>\n",
       "    </tr>\n",
       "    <tr>\n",
       "      <th>39</th>\n",
       "      <td>USA</td>\n",
       "      <td>Hindi</td>\n",
       "      <td>27</td>\n",
       "    </tr>\n",
       "    <tr>\n",
       "      <th>40</th>\n",
       "      <td>USA</td>\n",
       "      <td>Mandarin</td>\n",
       "      <td>30</td>\n",
       "    </tr>\n",
       "    <tr>\n",
       "      <th>41</th>\n",
       "      <td>USA</td>\n",
       "      <td>Spanish</td>\n",
       "      <td>18</td>\n",
       "    </tr>\n",
       "  </tbody>\n",
       "</table>\n",
       "</div>"
      ],
      "text/plain": [
       "      Country Language_Preference  Count\n",
       "0   Australia             English     28\n",
       "1   Australia              French     27\n",
       "2   Australia              German     18\n",
       "3   Australia               Hindi     15\n",
       "4   Australia            Mandarin     30\n",
       "5   Australia             Spanish     22\n",
       "6      Canada             English     22\n",
       "7      Canada              French     24\n",
       "8      Canada              German     25\n",
       "9      Canada               Hindi     26\n",
       "10     Canada            Mandarin     28\n",
       "11     Canada             Spanish     14\n",
       "12     France             English     30\n",
       "13     France              French     29\n",
       "14     France              German     25\n",
       "15     France               Hindi     24\n",
       "16     France            Mandarin     21\n",
       "17     France             Spanish     22\n",
       "18    Germany             English     21\n",
       "19    Germany              French     23\n",
       "20    Germany              German     24\n",
       "21    Germany               Hindi     25\n",
       "22    Germany            Mandarin     24\n",
       "23    Germany             Spanish     29\n",
       "24      India             English     21\n",
       "25      India              French     16\n",
       "26      India              German     20\n",
       "27      India               Hindi     18\n",
       "28      India            Mandarin     21\n",
       "29      India             Spanish     20\n",
       "30         UK             English     22\n",
       "31         UK              French     22\n",
       "32         UK              German     26\n",
       "33         UK               Hindi     27\n",
       "34         UK            Mandarin     25\n",
       "35         UK             Spanish     28\n",
       "36        USA             English     24\n",
       "37        USA              French     30\n",
       "38        USA              German     29\n",
       "39        USA               Hindi     27\n",
       "40        USA            Mandarin     30\n",
       "41        USA             Spanish     18"
      ]
     },
     "execution_count": 288,
     "metadata": {},
     "output_type": "execute_result"
    }
   ],
   "source": [
    "lang_country = stream_df.groupby(['Country', 'Language_Preference']).size().reset_index(name='Count')\n",
    "\n",
    "lang_country\n"
   ]
  },
  {
   "cell_type": "code",
   "execution_count": 289,
   "id": "a4e167f4-4d96-4304-a2e5-30db942dea41",
   "metadata": {},
   "outputs": [
    {
     "data": {
      "application/vnd.plotly.v1+json": {
       "config": {
        "plotlyServerURL": "https://plot.ly"
       },
       "data": [
        {
         "branchvalues": "total",
         "customdata": {
          "_inputArray": [
           {
            "0": 28
           },
           {
            "0": 27
           },
           {
            "0": 18
           },
           {
            "0": 15
           },
           {
            "0": 30
           },
           {
            "0": 22
           },
           {
            "0": 22
           },
           {
            "0": 24
           },
           {
            "0": 25
           },
           {
            "0": 26
           },
           {
            "0": 28
           },
           {
            "0": 14
           },
           {
            "0": 30
           },
           {
            "0": 29
           },
           {
            "0": 25
           },
           {
            "0": 24
           },
           {
            "0": 21
           },
           {
            "0": 22
           },
           {
            "0": 21
           },
           {
            "0": 23
           },
           {
            "0": 24
           },
           {
            "0": 25
           },
           {
            "0": 24
           },
           {
            "0": 29
           },
           {
            "0": 21
           },
           {
            "0": 16
           },
           {
            "0": 20
           },
           {
            "0": 18
           },
           {
            "0": 21
           },
           {
            "0": 20
           },
           {
            "0": 22
           },
           {
            "0": 22
           },
           {
            "0": 26
           },
           {
            "0": 27
           },
           {
            "0": 25
           },
           {
            "0": 28
           },
           {
            "0": 24
           },
           {
            "0": 30
           },
           {
            "0": 29
           },
           {
            "0": 27
           },
           {
            "0": 30
           },
           {
            "0": 18
           },
           {
            "0": 24.614285714285714
           },
           {
            "0": 24.035971223021583
           },
           {
            "0": 25.60927152317881
           },
           {
            "0": 24.575342465753426
           },
           {
            "0": 19.5
           },
           {
            "0": 25.213333333333335
           },
           {
            "0": 27.025316455696203
           }
          ],
          "bdata": "AAAAAAAAPEAAAAAAAAA7QAAAAAAAADJAAAAAAAAALkAAAAAAAAA+QAAAAAAAADZAAAAAAAAANkAAAAAAAAA4QAAAAAAAADlAAAAAAAAAOkAAAAAAAAA8QAAAAAAAACxAAAAAAAAAPkAAAAAAAAA9QAAAAAAAADlAAAAAAAAAOEAAAAAAAAA1QAAAAAAAADZAAAAAAAAANUAAAAAAAAA3QAAAAAAAADhAAAAAAAAAOUAAAAAAAAA4QAAAAAAAAD1AAAAAAAAANUAAAAAAAAAwQAAAAAAAADRAAAAAAAAAMkAAAAAAAAA1QAAAAAAAADRAAAAAAAAANkAAAAAAAAA2QAAAAAAAADpAAAAAAAAAO0AAAAAAAAA5QAAAAAAAADxAAAAAAAAAOEAAAAAAAAA+QAAAAAAAAD1AAAAAAAAAO0AAAAAAAAA+QAAAAAAAADJA1EEd1EGdOECOefpoNQk4QOVv8jf5mzlANWnSpEmTOEAAAAAAAIAzQDfQaQOdNjlADUSlI3sGO0A=",
          "dtype": "f8",
          "shape": "49, 1"
         },
         "domain": {
          "x": [
           0,
           1
          ],
          "y": [
           0,
           1
          ]
         },
         "hovertemplate": "labels=%{label}<br>Count_sum=%{value}<br>parent=%{parent}<br>id=%{id}<br>Count=%{color}<extra></extra>",
         "ids": [
          "Australia/English",
          "Australia/French",
          "Australia/German",
          "Australia/Hindi",
          "Australia/Mandarin",
          "Australia/Spanish",
          "Canada/English",
          "Canada/French",
          "Canada/German",
          "Canada/Hindi",
          "Canada/Mandarin",
          "Canada/Spanish",
          "France/English",
          "France/French",
          "France/German",
          "France/Hindi",
          "France/Mandarin",
          "France/Spanish",
          "Germany/English",
          "Germany/French",
          "Germany/German",
          "Germany/Hindi",
          "Germany/Mandarin",
          "Germany/Spanish",
          "India/English",
          "India/French",
          "India/German",
          "India/Hindi",
          "India/Mandarin",
          "India/Spanish",
          "UK/English",
          "UK/French",
          "UK/German",
          "UK/Hindi",
          "UK/Mandarin",
          "UK/Spanish",
          "USA/English",
          "USA/French",
          "USA/German",
          "USA/Hindi",
          "USA/Mandarin",
          "USA/Spanish",
          "Australia",
          "Canada",
          "France",
          "Germany",
          "India",
          "UK",
          "USA"
         ],
         "labels": [
          "English",
          "French",
          "German",
          "Hindi",
          "Mandarin",
          "Spanish",
          "English",
          "French",
          "German",
          "Hindi",
          "Mandarin",
          "Spanish",
          "English",
          "French",
          "German",
          "Hindi",
          "Mandarin",
          "Spanish",
          "English",
          "French",
          "German",
          "Hindi",
          "Mandarin",
          "Spanish",
          "English",
          "French",
          "German",
          "Hindi",
          "Mandarin",
          "Spanish",
          "English",
          "French",
          "German",
          "Hindi",
          "Mandarin",
          "Spanish",
          "English",
          "French",
          "German",
          "Hindi",
          "Mandarin",
          "Spanish",
          "Australia",
          "Canada",
          "France",
          "Germany",
          "India",
          "UK",
          "USA"
         ],
         "marker": {
          "coloraxis": "coloraxis",
          "colors": {
           "_inputArray": {
            "0": 28,
            "1": 27,
            "10": 28,
            "11": 14,
            "12": 30,
            "13": 29,
            "14": 25,
            "15": 24,
            "16": 21,
            "17": 22,
            "18": 21,
            "19": 23,
            "2": 18,
            "20": 24,
            "21": 25,
            "22": 24,
            "23": 29,
            "24": 21,
            "25": 16,
            "26": 20,
            "27": 18,
            "28": 21,
            "29": 20,
            "3": 15,
            "30": 22,
            "31": 22,
            "32": 26,
            "33": 27,
            "34": 25,
            "35": 28,
            "36": 24,
            "37": 30,
            "38": 29,
            "39": 27,
            "4": 30,
            "40": 30,
            "41": 18,
            "42": 24.614285714285714,
            "43": 24.035971223021583,
            "44": 25.60927152317881,
            "45": 24.575342465753426,
            "46": 19.5,
            "47": 25.213333333333335,
            "48": 27.025316455696203,
            "5": 22,
            "6": 22,
            "7": 24,
            "8": 25,
            "9": 26,
            "bdata": "AAAAAAAAPEAAAAAAAAA7QAAAAAAAADJAAAAAAAAALkAAAAAAAAA+QAAAAAAAADZAAAAAAAAANkAAAAAAAAA4QAAAAAAAADlAAAAAAAAAOkAAAAAAAAA8QAAAAAAAACxAAAAAAAAAPkAAAAAAAAA9QAAAAAAAADlAAAAAAAAAOEAAAAAAAAA1QAAAAAAAADZAAAAAAAAANUAAAAAAAAA3QAAAAAAAADhAAAAAAAAAOUAAAAAAAAA4QAAAAAAAAD1AAAAAAAAANUAAAAAAAAAwQAAAAAAAADRAAAAAAAAAMkAAAAAAAAA1QAAAAAAAADRAAAAAAAAANkAAAAAAAAA2QAAAAAAAADpAAAAAAAAAO0AAAAAAAAA5QAAAAAAAADxAAAAAAAAAOEAAAAAAAAA+QAAAAAAAAD1AAAAAAAAAO0AAAAAAAAA+QAAAAAAAADJA1EEd1EGdOECOefpoNQk4QOVv8jf5mzlANWnSpEmTOEAAAAAAAIAzQDfQaQOdNjlADUSlI3sGO0A=",
            "dtype": "f8",
            "shape": "49"
           },
           "bdata": "AAAAAAAAPEAAAAAAAAA7QAAAAAAAADJAAAAAAAAALkAAAAAAAAA+QAAAAAAAADZAAAAAAAAANkAAAAAAAAA4QAAAAAAAADlAAAAAAAAAOkAAAAAAAAA8QAAAAAAAACxAAAAAAAAAPkAAAAAAAAA9QAAAAAAAADlAAAAAAAAAOEAAAAAAAAA1QAAAAAAAADZAAAAAAAAANUAAAAAAAAA3QAAAAAAAADhAAAAAAAAAOUAAAAAAAAA4QAAAAAAAAD1AAAAAAAAANUAAAAAAAAAwQAAAAAAAADRAAAAAAAAAMkAAAAAAAAA1QAAAAAAAADRAAAAAAAAANkAAAAAAAAA2QAAAAAAAADpAAAAAAAAAO0AAAAAAAAA5QAAAAAAAADxAAAAAAAAAOEAAAAAAAAA+QAAAAAAAAD1AAAAAAAAAO0AAAAAAAAA+QAAAAAAAADJA1EEd1EGdOECOefpoNQk4QOVv8jf5mzlANWnSpEmTOEAAAAAAAIAzQDfQaQOdNjlADUSlI3sGO0A=",
           "dtype": "f8"
          }
         },
         "name": "",
         "parents": [
          "Australia",
          "Australia",
          "Australia",
          "Australia",
          "Australia",
          "Australia",
          "Canada",
          "Canada",
          "Canada",
          "Canada",
          "Canada",
          "Canada",
          "France",
          "France",
          "France",
          "France",
          "France",
          "France",
          "Germany",
          "Germany",
          "Germany",
          "Germany",
          "Germany",
          "Germany",
          "India",
          "India",
          "India",
          "India",
          "India",
          "India",
          "UK",
          "UK",
          "UK",
          "UK",
          "UK",
          "UK",
          "USA",
          "USA",
          "USA",
          "USA",
          "USA",
          "USA",
          "",
          "",
          "",
          "",
          "",
          "",
          ""
         ],
         "type": "treemap",
         "values": {
          "_inputArray": {
           "0": 28,
           "1": 27,
           "10": 28,
           "11": 14,
           "12": 30,
           "13": 29,
           "14": 25,
           "15": 24,
           "16": 21,
           "17": 22,
           "18": 21,
           "19": 23,
           "2": 18,
           "20": 24,
           "21": 25,
           "22": 24,
           "23": 29,
           "24": 21,
           "25": 16,
           "26": 20,
           "27": 18,
           "28": 21,
           "29": 20,
           "3": 15,
           "30": 22,
           "31": 22,
           "32": 26,
           "33": 27,
           "34": 25,
           "35": 28,
           "36": 24,
           "37": 30,
           "38": 29,
           "39": 27,
           "4": 30,
           "40": 30,
           "41": 18,
           "42": 140,
           "43": 139,
           "44": 151,
           "45": 146,
           "46": 116,
           "47": 150,
           "48": 158,
           "5": 22,
           "6": 22,
           "7": 24,
           "8": 25,
           "9": 26,
           "bdata": "AAAAAAAAPEAAAAAAAAA7QAAAAAAAADJAAAAAAAAALkAAAAAAAAA+QAAAAAAAADZAAAAAAAAANkAAAAAAAAA4QAAAAAAAADlAAAAAAAAAOkAAAAAAAAA8QAAAAAAAACxAAAAAAAAAPkAAAAAAAAA9QAAAAAAAADlAAAAAAAAAOEAAAAAAAAA1QAAAAAAAADZAAAAAAAAANUAAAAAAAAA3QAAAAAAAADhAAAAAAAAAOUAAAAAAAAA4QAAAAAAAAD1AAAAAAAAANUAAAAAAAAAwQAAAAAAAADRAAAAAAAAAMkAAAAAAAAA1QAAAAAAAADRAAAAAAAAANkAAAAAAAAA2QAAAAAAAADpAAAAAAAAAO0AAAAAAAAA5QAAAAAAAADxAAAAAAAAAOEAAAAAAAAA+QAAAAAAAAD1AAAAAAAAAO0AAAAAAAAA+QAAAAAAAADJAAAAAAACAYUAAAAAAAGBhQAAAAAAA4GJAAAAAAABAYkAAAAAAAABdQAAAAAAAwGJAAAAAAADAY0A=",
           "dtype": "f8",
           "shape": "49"
          },
          "bdata": "AAAAAAAAPEAAAAAAAAA7QAAAAAAAADJAAAAAAAAALkAAAAAAAAA+QAAAAAAAADZAAAAAAAAANkAAAAAAAAA4QAAAAAAAADlAAAAAAAAAOkAAAAAAAAA8QAAAAAAAACxAAAAAAAAAPkAAAAAAAAA9QAAAAAAAADlAAAAAAAAAOEAAAAAAAAA1QAAAAAAAADZAAAAAAAAANUAAAAAAAAA3QAAAAAAAADhAAAAAAAAAOUAAAAAAAAA4QAAAAAAAAD1AAAAAAAAANUAAAAAAAAAwQAAAAAAAADRAAAAAAAAAMkAAAAAAAAA1QAAAAAAAADRAAAAAAAAANkAAAAAAAAA2QAAAAAAAADpAAAAAAAAAO0AAAAAAAAA5QAAAAAAAADxAAAAAAAAAOEAAAAAAAAA+QAAAAAAAAD1AAAAAAAAAO0AAAAAAAAA+QAAAAAAAADJAAAAAAACAYUAAAAAAAGBhQAAAAAAA4GJAAAAAAABAYkAAAAAAAABdQAAAAAAAwGJAAAAAAADAY0A=",
          "dtype": "f8"
         }
        }
       ],
       "layout": {
        "autosize": true,
        "coloraxis": {
         "colorbar": {
          "len": 0.5,
          "thickness": 15,
          "title": {
           "text": "Count"
          },
          "x": 1.02,
          "y": 0.5,
          "yanchor": "middle"
         },
         "colorscale": [
          [
           0,
           "#440154"
          ],
          [
           0.1111111111111111,
           "#482878"
          ],
          [
           0.2222222222222222,
           "#3e4989"
          ],
          [
           0.3333333333333333,
           "#31688e"
          ],
          [
           0.4444444444444444,
           "#26828e"
          ],
          [
           0.5555555555555556,
           "#1f9e89"
          ],
          [
           0.6666666666666666,
           "#35b779"
          ],
          [
           0.7777777777777778,
           "#6ece58"
          ],
          [
           0.8888888888888888,
           "#b5de2b"
          ],
          [
           1,
           "#fde725"
          ]
         ]
        },
        "legend": {
         "tracegroupgap": 0
        },
        "margin": {
         "b": 50,
         "l": 50,
         "r": 50,
         "t": 100
        },
        "paper_bgcolor": "rgba(0, 0, 0, 0)",
        "plot_bgcolor": "rgba(0, 0, 0, 0)",
        "template": {
         "data": {
          "bar": [
           {
            "error_x": {
             "color": "#2a3f5f"
            },
            "error_y": {
             "color": "#2a3f5f"
            },
            "marker": {
             "line": {
              "color": "#E5ECF6",
              "width": 0.5
             },
             "pattern": {
              "fillmode": "overlay",
              "size": 10,
              "solidity": 0.2
             }
            },
            "type": "bar"
           }
          ],
          "barpolar": [
           {
            "marker": {
             "line": {
              "color": "#E5ECF6",
              "width": 0.5
             },
             "pattern": {
              "fillmode": "overlay",
              "size": 10,
              "solidity": 0.2
             }
            },
            "type": "barpolar"
           }
          ],
          "carpet": [
           {
            "aaxis": {
             "endlinecolor": "#2a3f5f",
             "gridcolor": "white",
             "linecolor": "white",
             "minorgridcolor": "white",
             "startlinecolor": "#2a3f5f"
            },
            "baxis": {
             "endlinecolor": "#2a3f5f",
             "gridcolor": "white",
             "linecolor": "white",
             "minorgridcolor": "white",
             "startlinecolor": "#2a3f5f"
            },
            "type": "carpet"
           }
          ],
          "choropleth": [
           {
            "colorbar": {
             "outlinewidth": 0,
             "ticks": ""
            },
            "type": "choropleth"
           }
          ],
          "contour": [
           {
            "colorbar": {
             "outlinewidth": 0,
             "ticks": ""
            },
            "colorscale": [
             [
              0,
              "#0d0887"
             ],
             [
              0.1111111111111111,
              "#46039f"
             ],
             [
              0.2222222222222222,
              "#7201a8"
             ],
             [
              0.3333333333333333,
              "#9c179e"
             ],
             [
              0.4444444444444444,
              "#bd3786"
             ],
             [
              0.5555555555555556,
              "#d8576b"
             ],
             [
              0.6666666666666666,
              "#ed7953"
             ],
             [
              0.7777777777777778,
              "#fb9f3a"
             ],
             [
              0.8888888888888888,
              "#fdca26"
             ],
             [
              1,
              "#f0f921"
             ]
            ],
            "type": "contour"
           }
          ],
          "contourcarpet": [
           {
            "colorbar": {
             "outlinewidth": 0,
             "ticks": ""
            },
            "type": "contourcarpet"
           }
          ],
          "heatmap": [
           {
            "colorbar": {
             "outlinewidth": 0,
             "ticks": ""
            },
            "colorscale": [
             [
              0,
              "#0d0887"
             ],
             [
              0.1111111111111111,
              "#46039f"
             ],
             [
              0.2222222222222222,
              "#7201a8"
             ],
             [
              0.3333333333333333,
              "#9c179e"
             ],
             [
              0.4444444444444444,
              "#bd3786"
             ],
             [
              0.5555555555555556,
              "#d8576b"
             ],
             [
              0.6666666666666666,
              "#ed7953"
             ],
             [
              0.7777777777777778,
              "#fb9f3a"
             ],
             [
              0.8888888888888888,
              "#fdca26"
             ],
             [
              1,
              "#f0f921"
             ]
            ],
            "type": "heatmap"
           }
          ],
          "histogram": [
           {
            "marker": {
             "pattern": {
              "fillmode": "overlay",
              "size": 10,
              "solidity": 0.2
             }
            },
            "type": "histogram"
           }
          ],
          "histogram2d": [
           {
            "colorbar": {
             "outlinewidth": 0,
             "ticks": ""
            },
            "colorscale": [
             [
              0,
              "#0d0887"
             ],
             [
              0.1111111111111111,
              "#46039f"
             ],
             [
              0.2222222222222222,
              "#7201a8"
             ],
             [
              0.3333333333333333,
              "#9c179e"
             ],
             [
              0.4444444444444444,
              "#bd3786"
             ],
             [
              0.5555555555555556,
              "#d8576b"
             ],
             [
              0.6666666666666666,
              "#ed7953"
             ],
             [
              0.7777777777777778,
              "#fb9f3a"
             ],
             [
              0.8888888888888888,
              "#fdca26"
             ],
             [
              1,
              "#f0f921"
             ]
            ],
            "type": "histogram2d"
           }
          ],
          "histogram2dcontour": [
           {
            "colorbar": {
             "outlinewidth": 0,
             "ticks": ""
            },
            "colorscale": [
             [
              0,
              "#0d0887"
             ],
             [
              0.1111111111111111,
              "#46039f"
             ],
             [
              0.2222222222222222,
              "#7201a8"
             ],
             [
              0.3333333333333333,
              "#9c179e"
             ],
             [
              0.4444444444444444,
              "#bd3786"
             ],
             [
              0.5555555555555556,
              "#d8576b"
             ],
             [
              0.6666666666666666,
              "#ed7953"
             ],
             [
              0.7777777777777778,
              "#fb9f3a"
             ],
             [
              0.8888888888888888,
              "#fdca26"
             ],
             [
              1,
              "#f0f921"
             ]
            ],
            "type": "histogram2dcontour"
           }
          ],
          "mesh3d": [
           {
            "colorbar": {
             "outlinewidth": 0,
             "ticks": ""
            },
            "type": "mesh3d"
           }
          ],
          "parcoords": [
           {
            "line": {
             "colorbar": {
              "outlinewidth": 0,
              "ticks": ""
             }
            },
            "type": "parcoords"
           }
          ],
          "pie": [
           {
            "automargin": true,
            "type": "pie"
           }
          ],
          "scatter": [
           {
            "fillpattern": {
             "fillmode": "overlay",
             "size": 10,
             "solidity": 0.2
            },
            "type": "scatter"
           }
          ],
          "scatter3d": [
           {
            "line": {
             "colorbar": {
              "outlinewidth": 0,
              "ticks": ""
             }
            },
            "marker": {
             "colorbar": {
              "outlinewidth": 0,
              "ticks": ""
             }
            },
            "type": "scatter3d"
           }
          ],
          "scattercarpet": [
           {
            "marker": {
             "colorbar": {
              "outlinewidth": 0,
              "ticks": ""
             }
            },
            "type": "scattercarpet"
           }
          ],
          "scattergeo": [
           {
            "marker": {
             "colorbar": {
              "outlinewidth": 0,
              "ticks": ""
             }
            },
            "type": "scattergeo"
           }
          ],
          "scattergl": [
           {
            "marker": {
             "colorbar": {
              "outlinewidth": 0,
              "ticks": ""
             }
            },
            "type": "scattergl"
           }
          ],
          "scattermap": [
           {
            "marker": {
             "colorbar": {
              "outlinewidth": 0,
              "ticks": ""
             }
            },
            "type": "scattermap"
           }
          ],
          "scattermapbox": [
           {
            "marker": {
             "colorbar": {
              "outlinewidth": 0,
              "ticks": ""
             }
            },
            "type": "scattermapbox"
           }
          ],
          "scatterpolar": [
           {
            "marker": {
             "colorbar": {
              "outlinewidth": 0,
              "ticks": ""
             }
            },
            "type": "scatterpolar"
           }
          ],
          "scatterpolargl": [
           {
            "marker": {
             "colorbar": {
              "outlinewidth": 0,
              "ticks": ""
             }
            },
            "type": "scatterpolargl"
           }
          ],
          "scatterternary": [
           {
            "marker": {
             "colorbar": {
              "outlinewidth": 0,
              "ticks": ""
             }
            },
            "type": "scatterternary"
           }
          ],
          "surface": [
           {
            "colorbar": {
             "outlinewidth": 0,
             "ticks": ""
            },
            "colorscale": [
             [
              0,
              "#0d0887"
             ],
             [
              0.1111111111111111,
              "#46039f"
             ],
             [
              0.2222222222222222,
              "#7201a8"
             ],
             [
              0.3333333333333333,
              "#9c179e"
             ],
             [
              0.4444444444444444,
              "#bd3786"
             ],
             [
              0.5555555555555556,
              "#d8576b"
             ],
             [
              0.6666666666666666,
              "#ed7953"
             ],
             [
              0.7777777777777778,
              "#fb9f3a"
             ],
             [
              0.8888888888888888,
              "#fdca26"
             ],
             [
              1,
              "#f0f921"
             ]
            ],
            "type": "surface"
           }
          ],
          "table": [
           {
            "cells": {
             "fill": {
              "color": "#EBF0F8"
             },
             "line": {
              "color": "white"
             }
            },
            "header": {
             "fill": {
              "color": "#C8D4E3"
             },
             "line": {
              "color": "white"
             }
            },
            "type": "table"
           }
          ]
         },
         "layout": {
          "annotationdefaults": {
           "arrowcolor": "#2a3f5f",
           "arrowhead": 0,
           "arrowwidth": 1
          },
          "autotypenumbers": "strict",
          "coloraxis": {
           "colorbar": {
            "outlinewidth": 0,
            "ticks": ""
           }
          },
          "colorscale": {
           "diverging": [
            [
             0,
             "#8e0152"
            ],
            [
             0.1,
             "#c51b7d"
            ],
            [
             0.2,
             "#de77ae"
            ],
            [
             0.3,
             "#f1b6da"
            ],
            [
             0.4,
             "#fde0ef"
            ],
            [
             0.5,
             "#f7f7f7"
            ],
            [
             0.6,
             "#e6f5d0"
            ],
            [
             0.7,
             "#b8e186"
            ],
            [
             0.8,
             "#7fbc41"
            ],
            [
             0.9,
             "#4d9221"
            ],
            [
             1,
             "#276419"
            ]
           ],
           "sequential": [
            [
             0,
             "#0d0887"
            ],
            [
             0.1111111111111111,
             "#46039f"
            ],
            [
             0.2222222222222222,
             "#7201a8"
            ],
            [
             0.3333333333333333,
             "#9c179e"
            ],
            [
             0.4444444444444444,
             "#bd3786"
            ],
            [
             0.5555555555555556,
             "#d8576b"
            ],
            [
             0.6666666666666666,
             "#ed7953"
            ],
            [
             0.7777777777777778,
             "#fb9f3a"
            ],
            [
             0.8888888888888888,
             "#fdca26"
            ],
            [
             1,
             "#f0f921"
            ]
           ],
           "sequentialminus": [
            [
             0,
             "#0d0887"
            ],
            [
             0.1111111111111111,
             "#46039f"
            ],
            [
             0.2222222222222222,
             "#7201a8"
            ],
            [
             0.3333333333333333,
             "#9c179e"
            ],
            [
             0.4444444444444444,
             "#bd3786"
            ],
            [
             0.5555555555555556,
             "#d8576b"
            ],
            [
             0.6666666666666666,
             "#ed7953"
            ],
            [
             0.7777777777777778,
             "#fb9f3a"
            ],
            [
             0.8888888888888888,
             "#fdca26"
            ],
            [
             1,
             "#f0f921"
            ]
           ]
          },
          "colorway": [
           "#636efa",
           "#EF553B",
           "#00cc96",
           "#ab63fa",
           "#FFA15A",
           "#19d3f3",
           "#FF6692",
           "#B6E880",
           "#FF97FF",
           "#FECB52"
          ],
          "font": {
           "color": "#2a3f5f"
          },
          "geo": {
           "bgcolor": "white",
           "lakecolor": "white",
           "landcolor": "#E5ECF6",
           "showlakes": true,
           "showland": true,
           "subunitcolor": "white"
          },
          "hoverlabel": {
           "align": "left"
          },
          "hovermode": "closest",
          "mapbox": {
           "style": "light"
          },
          "paper_bgcolor": "white",
          "plot_bgcolor": "#E5ECF6",
          "polar": {
           "angularaxis": {
            "gridcolor": "white",
            "linecolor": "white",
            "ticks": ""
           },
           "bgcolor": "#E5ECF6",
           "radialaxis": {
            "gridcolor": "white",
            "linecolor": "white",
            "ticks": ""
           }
          },
          "scene": {
           "xaxis": {
            "backgroundcolor": "#E5ECF6",
            "gridcolor": "white",
            "gridwidth": 2,
            "linecolor": "white",
            "showbackground": true,
            "ticks": "",
            "zerolinecolor": "white"
           },
           "yaxis": {
            "backgroundcolor": "#E5ECF6",
            "gridcolor": "white",
            "gridwidth": 2,
            "linecolor": "white",
            "showbackground": true,
            "ticks": "",
            "zerolinecolor": "white"
           },
           "zaxis": {
            "backgroundcolor": "#E5ECF6",
            "gridcolor": "white",
            "gridwidth": 2,
            "linecolor": "white",
            "showbackground": true,
            "ticks": "",
            "zerolinecolor": "white"
           }
          },
          "shapedefaults": {
           "line": {
            "color": "#2a3f5f"
           }
          },
          "ternary": {
           "aaxis": {
            "gridcolor": "white",
            "linecolor": "white",
            "ticks": ""
           },
           "baxis": {
            "gridcolor": "white",
            "linecolor": "white",
            "ticks": ""
           },
           "bgcolor": "#E5ECF6",
           "caxis": {
            "gridcolor": "white",
            "linecolor": "white",
            "ticks": ""
           }
          },
          "title": {
           "x": 0.05
          },
          "xaxis": {
           "automargin": true,
           "gridcolor": "white",
           "linecolor": "white",
           "ticks": "",
           "title": {
            "standoff": 15
           },
           "zerolinecolor": "white",
           "zerolinewidth": 2
          },
          "yaxis": {
           "automargin": true,
           "gridcolor": "white",
           "linecolor": "white",
           "ticks": "",
           "title": {
            "standoff": 15
           },
           "zerolinecolor": "white",
           "zerolinewidth": 2
          }
         }
        },
        "title": {
         "text": "Language Preference by Country"
        }
       }
      }
     },
     "metadata": {},
     "output_type": "display_data"
    }
   ],
   "source": [
    "fig = px.treemap(\n",
    "    lang_country,\n",
    "    path=['Country', 'Language_Preference'],\n",
    "    values='Count',\n",
    "    title='Language Preference by Country',\n",
    "    color='Count',\n",
    "    color_continuous_scale='Viridis',\n",
    "    height=700,\n",
    ")\n",
    "\n",
    "\n",
    "fig.update_layout(\n",
    "    margin=dict(l=50, r=50, t=100, b=50),\n",
    "    coloraxis_colorbar=dict(\n",
    "        title='Count',\n",
    "        thickness=15,\n",
    "        len=0.5,\n",
    "        yanchor='middle',\n",
    "        y=0.5\n",
    "    ),\n",
    "    paper_bgcolor=\"rgba(0, 0, 0, 0)\",\n",
    "    plot_bgcolor=\"rgba(0, 0, 0, 0)\"\n",
    ")\n",
    "\n",
    "fig.show()\n",
    "\n",
    "\n",
    "fig.write_image(os.path.join(result_dir, 'Language_Preference_by_Country.jpg'))\n",
    "fig.write_image(os.path.join(result_dir, 'Language_Preference_by_Country.png'))\n",
    "fig.write_html(os.path.join(result_dir, 'Language_Preference_by_Country.html'))\n"
   ]
  },
  {
   "cell_type": "code",
   "execution_count": null,
   "id": "de3e6078-db15-4f7c-91f3-d051c0b953c9",
   "metadata": {},
   "outputs": [],
   "source": []
  },
  {
   "cell_type": "markdown",
   "id": "954ada35-ba94-420e-ba97-aeaa664a272b",
   "metadata": {},
   "source": [
    "- **English** and **Mandarin** are among the most popular language preferences across most countries.\n",
    "- The **USA** and **Australia** have the highest counts for Mandarin speakers (30 users each).\n",
    "- Language preference distributions are quite diverse within countries, with multiple languages represented.\n",
    "- French, German, Hindi, and Spanish also show significant representation across all countries."
   ]
  },
  {
   "cell_type": "markdown",
   "id": "c4a11bab-7196-4588-80aa-6dff99f0fd13",
   "metadata": {},
   "source": [
    "## Monthly Revenue Comparison (2022 vs 2023 vs 2024)\n",
    "This chart displays the total monthly revenue ($) generated over the years 2022, 2023, and 2024, helping to visualize revenue trends, seasonal patterns, and year-over-year performance."
   ]
  },
  {
   "cell_type": "code",
   "execution_count": 292,
   "id": "1877a3a8-2892-44de-b1c2-5492c2fe32b2",
   "metadata": {},
   "outputs": [],
   "source": [
    "# Convert Join_Date to datetime\n",
    "stream_df['Join_Date'] = pd.to_datetime(stream_df['Join_Date'])\n",
    "\n",
    "# Create Year-Month column for grouping\n",
    "stream_df['YearMonth'] = stream_df['Join_Date'].dt.to_period('M').astype(str)\n"
   ]
  },
  {
   "cell_type": "code",
   "execution_count": 293,
   "id": "28e88cde-6165-4ce7-a090-79114ebaabcb",
   "metadata": {},
   "outputs": [],
   "source": [
    "monthly_revenue = (\n",
    "    stream_df.groupby('YearMonth')['Monthly_Price']\n",
    "    .sum()\n",
    "    .reset_index()\n",
    "    .rename(columns={'Monthly_Price': 'Total_Revenue'})\n",
    ")\n"
   ]
  },
  {
   "cell_type": "code",
   "execution_count": 294,
   "id": "db79dc8f-5beb-4e9b-8c94-f2565f0e2399",
   "metadata": {},
   "outputs": [],
   "source": [
    "# Ensure datetime format\n",
    "stream_df['Join_Date'] = pd.to_datetime(stream_df['Join_Date'])\n",
    "\n",
    "# Extract Year and Month\n",
    "stream_df['Year'] = stream_df['Join_Date'].dt.year\n",
    "stream_df['Month'] = stream_df['Join_Date'].dt.strftime('%b')  # e.g. 'Jan', 'Feb'\n",
    "\n",
    "# Order the months\n",
    "month_order = ['Jan', 'Feb', 'Mar', 'Apr', 'May', 'Jun',\n",
    "               'Jul', 'Aug', 'Sep', 'Oct', 'Nov', 'Dec']\n",
    "\n",
    "# Group by Year and Month, and sum revenue\n",
    "monthly_revenue = stream_df.groupby(['Year', 'Month'])['Monthly_Price'].sum().reset_index()\n",
    "monthly_revenue.rename(columns={'Monthly_Price': 'Total_Revenue'}, inplace=True)\n",
    "\n",
    "# Make sure months are in correct order\n",
    "monthly_revenue['Month'] = pd.Categorical(monthly_revenue['Month'], categories=month_order, ordered=True)\n",
    "monthly_revenue = monthly_revenue.sort_values(['Year', 'Month'])\n"
   ]
  },
  {
   "cell_type": "code",
   "execution_count": 295,
   "id": "38f69dc6-f5b4-4550-a120-83a76789ecfc",
   "metadata": {},
   "outputs": [
    {
     "data": {
      "application/vnd.plotly.v1+json": {
       "config": {
        "plotlyServerURL": "https://plot.ly"
       },
       "data": [
        {
         "hovertemplate": "Year=2022<br>Month=%{x}<br>Total_Revenue=%{y}<extra></extra>",
         "legendgroup": "2022",
         "line": {
          "color": "#1F77B4",
          "dash": "solid",
          "shape": "linear"
         },
         "marker": {
          "symbol": "circle"
         },
         "mode": "lines+markers",
         "name": "2022",
         "orientation": "v",
         "showlegend": true,
         "type": "scatter",
         "x": [
          "Dec"
         ],
         "xaxis": "x",
         "y": {
          "_inputArray": {
           "0": 223.82,
           "bdata": "CtejcD36a0A=",
           "dtype": "f8",
           "shape": "1"
          },
          "bdata": "CtejcD36a0A=",
          "dtype": "f8"
         },
         "yaxis": "y"
        },
        {
         "hovertemplate": "Year=2023<br>Month=%{x}<br>Total_Revenue=%{y}<extra></extra>",
         "legendgroup": "2023",
         "line": {
          "color": "#FF7F0E",
          "dash": "solid",
          "shape": "linear"
         },
         "marker": {
          "symbol": "circle"
         },
         "mode": "lines+markers",
         "name": "2023",
         "orientation": "v",
         "showlegend": true,
         "type": "scatter",
         "x": [
          "Jan",
          "Feb",
          "Mar",
          "Apr",
          "May",
          "Jun",
          "Jul",
          "Aug",
          "Sep",
          "Oct",
          "Nov",
          "Dec"
         ],
         "xaxis": "x",
         "y": {
          "_inputArray": {
           "0": 575.5600000000001,
           "1": 547.54,
           "10": 527.59,
           "11": 635.48,
           "2": 435.62,
           "3": 499.54,
           "4": 515.55,
           "5": 519.5600000000001,
           "6": 423.64,
           "7": 383.68,
           "8": 595.53,
           "9": 467.6,
           "bdata": "Fa5H4Xr8gUC4HoXrURyBQFK4HoXrOXtAcT0K16M4f0BmZmZmZhyAQBWuR+F6PIBACtejcD16ekB7FK5H4fp3QArXo3A9nIJAmpmZmZk5fUAfhetRuHyAQKRwPQrX24NA",
           "dtype": "f8",
           "shape": "12"
          },
          "bdata": "Fa5H4Xr8gUC4HoXrURyBQFK4HoXrOXtAcT0K16M4f0BmZmZmZhyAQBWuR+F6PIBACtejcD16ekB7FK5H4fp3QArXo3A9nIJAmpmZmZk5fUAfhetRuHyAQKRwPQrX24NA",
          "dtype": "f8"
         },
         "yaxis": "y"
        },
        {
         "hovertemplate": "Year=2024<br>Month=%{x}<br>Total_Revenue=%{y}<extra></extra>",
         "legendgroup": "2024",
         "line": {
          "color": "#2CA02C",
          "dash": "solid",
          "shape": "linear"
         },
         "marker": {
          "symbol": "circle"
         },
         "mode": "lines+markers",
         "name": "2024",
         "orientation": "v",
         "showlegend": true,
         "type": "scatter",
         "x": [
          "Jan",
          "Feb",
          "Mar",
          "Apr",
          "May",
          "Jun",
          "Jul",
          "Aug",
          "Sep",
          "Oct",
          "Nov",
          "Dec"
         ],
         "xaxis": "x",
         "y": {
          "_inputArray": {
           "0": 487.59000000000003,
           "1": 515.58,
           "10": 343.71,
           "11": 347.73,
           "2": 423.65000000000003,
           "3": 479.6,
           "4": 535.5600000000001,
           "5": 603.52,
           "6": 487.6,
           "7": 403.67,
           "8": 531.54,
           "9": 515.54,
           "bdata": "PgrXo3B5fkBxPQrXoxyAQGdmZmZmenpAmpmZmZn5fUAVrkfheryAQFyPwvUo3IJAmpmZmZl5fkAfhetRuDp5QLgehetRnIBAuB6F61EcgECPwvUoXHt1QEjhehSuu3VA",
           "dtype": "f8",
           "shape": "12"
          },
          "bdata": "PgrXo3B5fkBxPQrXoxyAQGdmZmZmenpAmpmZmZn5fUAVrkfheryAQFyPwvUo3IJAmpmZmZl5fkAfhetRuDp5QLgehetRnIBAuB6F61EcgECPwvUoXHt1QEjhehSuu3VA",
          "dtype": "f8"
         },
         "yaxis": "y"
        }
       ],
       "layout": {
        "height": 550,
        "legend": {
         "title": {
          "text": "Year"
         },
         "tracegroupgap": 0
        },
        "margin": {
         "b": 80,
         "l": 60,
         "r": 40,
         "t": 80
        },
        "paper_bgcolor": "rgba(0, 0, 0, 0)",
        "plot_bgcolor": "rgba(0, 0, 0, 0)",
        "template": {
         "data": {
          "pie": [
           {
            "automargin": true,
            "type": "pie"
           }
          ],
          "scatter": [
           {
            "line": {
             "width": 3
            },
            "marker": {
             "size": 9
            },
            "type": "scatter"
           }
          ],
          "scatter3d": [
           {
            "line": {
             "width": 3
            },
            "marker": {
             "size": 9
            },
            "type": "scatter3d"
           }
          ],
          "scattergeo": [
           {
            "line": {
             "width": 3
            },
            "marker": {
             "size": 9
            },
            "type": "scattergeo"
           }
          ],
          "scattergl": [
           {
            "line": {
             "width": 3
            },
            "marker": {
             "size": 9
            },
            "type": "scattergl"
           }
          ],
          "scatterpolar": [
           {
            "line": {
             "width": 3
            },
            "marker": {
             "size": 9
            },
            "type": "scatterpolar"
           }
          ],
          "scatterpolargl": [
           {
            "line": {
             "width": 3
            },
            "marker": {
             "size": 9
            },
            "type": "scatterpolargl"
           }
          ],
          "scatterternary": [
           {
            "line": {
             "width": 3
            },
            "marker": {
             "size": 9
            },
            "type": "scatterternary"
           }
          ],
          "table": [
           {
            "cells": {
             "height": 30
            },
            "header": {
             "height": 36
            },
            "type": "table"
           }
          ]
         },
         "layout": {
          "font": {
           "size": 18
          },
          "xaxis": {
           "title": {
            "standoff": 15
           }
          },
          "yaxis": {
           "title": {
            "standoff": 15
           }
          }
         }
        },
        "title": {
         "text": "Monthly Revenue Comparison: 2022 vs 2023 vs 2024"
        },
        "width": 1000,
        "xaxis": {
         "anchor": "y",
         "autorange": true,
         "categoryarray": [
          "Jan",
          "Feb",
          "Mar",
          "Apr",
          "May",
          "Jun",
          "Jul",
          "Aug",
          "Sep",
          "Oct",
          "Nov",
          "Dec"
         ],
         "categoryorder": "array",
         "domain": [
          0,
          1
         ],
         "range": [
          -0.7055933484504913,
          11.705593348450492
         ],
         "title": {
          "text": "Month"
         },
         "type": "category"
        },
        "yaxis": {
         "anchor": "x",
         "autorange": true,
         "domain": [
          0,
          1
         ],
         "range": [
          193.37715231788079,
          665.9228476821193
         ],
         "title": {
          "text": "Total Revenue ($)"
         },
         "type": "linear"
        }
       }
      }
     },
     "metadata": {},
     "output_type": "display_data"
    }
   ],
   "source": [
    "fig = px.line(\n",
    "    monthly_revenue,\n",
    "    x='Month',\n",
    "    y='Total_Revenue',\n",
    "    color='Year',\n",
    "    markers=True,\n",
    "    title='Monthly Revenue Comparison: 2022 vs 2023 vs 2024',\n",
    "    category_orders={'Month': month_order},  \n",
    "    template='presentation',\n",
    "    line_shape='linear'\n",
    ")\n",
    "\n",
    "fig.update_layout(\n",
    "    xaxis_title='Month',\n",
    "    yaxis_title='Total Revenue ($)',\n",
    "    legend_title_text='Year',\n",
    "    height=550,\n",
    "    width=1000,\n",
    "    paper_bgcolor='rgba(0,0,0,0)',\n",
    "    plot_bgcolor='rgba(0,0,0,0)',\n",
    "    margin=dict(l=60, r=40, t=80, b=80)\n",
    ")\n",
    "\n",
    "fig.show()\n",
    "\n",
    "fig.write_image(os.path.join(result_dir, 'Monthly_Revenue_Comparison_Line_Chart.jpg'))\n",
    "fig.write_image(os.path.join(result_dir, 'Monthly_Revenue_Comparison_Line_Chart.png'))\n",
    "fig.write_html(os.path.join(result_dir, 'Monthly_Revenue_Comparison_Line_Chart.html'))\n"
   ]
  },
  {
   "cell_type": "code",
   "execution_count": null,
   "id": "639685c9-ace9-45f7-adb7-cde542f224a7",
   "metadata": {},
   "outputs": [],
   "source": []
  }
 ],
 "metadata": {
  "kernelspec": {
   "display_name": "Python [conda env:base] *",
   "language": "python",
   "name": "conda-base-py"
  },
  "language_info": {
   "codemirror_mode": {
    "name": "ipython",
    "version": 3
   },
   "file_extension": ".py",
   "mimetype": "text/x-python",
   "name": "python",
   "nbconvert_exporter": "python",
   "pygments_lexer": "ipython3",
   "version": "3.12.7"
  }
 },
 "nbformat": 4,
 "nbformat_minor": 5
}
