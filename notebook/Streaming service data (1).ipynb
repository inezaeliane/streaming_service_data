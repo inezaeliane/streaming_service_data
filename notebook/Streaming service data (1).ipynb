{
 "cells": [
  {
   "cell_type": "markdown",
   "id": "7b95e0cc-6790-414a-a73c-a6f1b44d4450",
   "metadata": {},
   "source": [
    "## Streaming Service User Analysis"
   ]
  },
  {
   "cell_type": "markdown",
   "id": "6f9c4548-b137-4f5f-b44c-a3d2976a0d6e",
   "metadata": {},
   "source": [
    "### import libraries"
   ]
  },
  {
   "cell_type": "code",
   "execution_count": 3,
   "id": "9eb8f77f-ee88-42bd-ac3c-d89b06a92205",
   "metadata": {},
   "outputs": [],
   "source": [
    "import pandas as pd\n",
    "import numpy as np"
   ]
  },
  {
   "cell_type": "markdown",
   "id": "9643dc74-3bd9-46c3-9d24-d90de3708d59",
   "metadata": {},
   "source": [
    "### Reading csv file"
   ]
  },
  {
   "cell_type": "code",
   "execution_count": 5,
   "id": "88f81d50-e83f-42b8-9d77-78cc91f5054e",
   "metadata": {},
   "outputs": [
    {
     "data": {
      "text/html": [
       "<div>\n",
       "<style scoped>\n",
       "    .dataframe tbody tr th:only-of-type {\n",
       "        vertical-align: middle;\n",
       "    }\n",
       "\n",
       "    .dataframe tbody tr th {\n",
       "        vertical-align: top;\n",
       "    }\n",
       "\n",
       "    .dataframe thead th {\n",
       "        text-align: right;\n",
       "    }\n",
       "</style>\n",
       "<table border=\"1\" class=\"dataframe\">\n",
       "  <thead>\n",
       "    <tr style=\"text-align: right;\">\n",
       "      <th></th>\n",
       "      <th>User_ID</th>\n",
       "      <th>User_Name</th>\n",
       "      <th>Join_Date</th>\n",
       "      <th>Last_Login</th>\n",
       "      <th>Monthly_Price</th>\n",
       "      <th>Watch_Hours</th>\n",
       "      <th>Favorite_Genre</th>\n",
       "      <th>Active_Devices</th>\n",
       "      <th>Profile_Count</th>\n",
       "      <th>Parental_Controls</th>\n",
       "      <th>...</th>\n",
       "      <th>Payment_Method</th>\n",
       "      <th>Language_Preference</th>\n",
       "      <th>Recommended_Content_Count</th>\n",
       "      <th>Average_Rating_Given</th>\n",
       "      <th>Has_Downloaded_Content</th>\n",
       "      <th>Membership_Status</th>\n",
       "      <th>Loyalty_Points</th>\n",
       "      <th>First_Device_Used</th>\n",
       "      <th>Age_Group</th>\n",
       "      <th>Primary_Watch_Time</th>\n",
       "    </tr>\n",
       "  </thead>\n",
       "  <tbody>\n",
       "    <tr>\n",
       "      <th>0</th>\n",
       "      <td>2518</td>\n",
       "      <td>Amber</td>\n",
       "      <td>5/15/2023</td>\n",
       "      <td>12/13/2024</td>\n",
       "      <td>7.99</td>\n",
       "      <td>49</td>\n",
       "      <td>Action</td>\n",
       "      <td>3</td>\n",
       "      <td>6</td>\n",
       "      <td>True</td>\n",
       "      <td>...</td>\n",
       "      <td>PayPal</td>\n",
       "      <td>Hindi</td>\n",
       "      <td>84</td>\n",
       "      <td>3.3</td>\n",
       "      <td>False</td>\n",
       "      <td>Active</td>\n",
       "      <td>2878</td>\n",
       "      <td>Smartphone</td>\n",
       "      <td>35-44</td>\n",
       "      <td>Late Night</td>\n",
       "    </tr>\n",
       "    <tr>\n",
       "      <th>1</th>\n",
       "      <td>6430</td>\n",
       "      <td>Patrick</td>\n",
       "      <td>4/3/2023</td>\n",
       "      <td>12/15/2024</td>\n",
       "      <td>7.99</td>\n",
       "      <td>161</td>\n",
       "      <td>Drama</td>\n",
       "      <td>1</td>\n",
       "      <td>2</td>\n",
       "      <td>True</td>\n",
       "      <td>...</td>\n",
       "      <td>PayPal</td>\n",
       "      <td>German</td>\n",
       "      <td>69</td>\n",
       "      <td>4.0</td>\n",
       "      <td>False</td>\n",
       "      <td>Active</td>\n",
       "      <td>2291</td>\n",
       "      <td>Desktop</td>\n",
       "      <td>25-34</td>\n",
       "      <td>Evening</td>\n",
       "    </tr>\n",
       "    <tr>\n",
       "      <th>2</th>\n",
       "      <td>1798</td>\n",
       "      <td>Robert</td>\n",
       "      <td>8/2/2023</td>\n",
       "      <td>12/14/2024</td>\n",
       "      <td>11.99</td>\n",
       "      <td>87</td>\n",
       "      <td>Action</td>\n",
       "      <td>2</td>\n",
       "      <td>5</td>\n",
       "      <td>False</td>\n",
       "      <td>...</td>\n",
       "      <td>Debit Card</td>\n",
       "      <td>Mandarin</td>\n",
       "      <td>56</td>\n",
       "      <td>3.1</td>\n",
       "      <td>False</td>\n",
       "      <td>Active</td>\n",
       "      <td>1692</td>\n",
       "      <td>Desktop</td>\n",
       "      <td>35-44</td>\n",
       "      <td>Late Night</td>\n",
       "    </tr>\n",
       "    <tr>\n",
       "      <th>3</th>\n",
       "      <td>5255</td>\n",
       "      <td>Cole</td>\n",
       "      <td>1/31/2023</td>\n",
       "      <td>12/2/2024</td>\n",
       "      <td>15.99</td>\n",
       "      <td>321</td>\n",
       "      <td>Sci-Fi</td>\n",
       "      <td>1</td>\n",
       "      <td>5</td>\n",
       "      <td>False</td>\n",
       "      <td>...</td>\n",
       "      <td>Debit Card</td>\n",
       "      <td>Mandarin</td>\n",
       "      <td>47</td>\n",
       "      <td>4.6</td>\n",
       "      <td>False</td>\n",
       "      <td>Active</td>\n",
       "      <td>952</td>\n",
       "      <td>Desktop</td>\n",
       "      <td>25-34</td>\n",
       "      <td>Evening</td>\n",
       "    </tr>\n",
       "    <tr>\n",
       "      <th>4</th>\n",
       "      <td>2854</td>\n",
       "      <td>Jamie</td>\n",
       "      <td>6/6/2023</td>\n",
       "      <td>12/15/2024</td>\n",
       "      <td>11.99</td>\n",
       "      <td>386</td>\n",
       "      <td>Documentary</td>\n",
       "      <td>1</td>\n",
       "      <td>4</td>\n",
       "      <td>True</td>\n",
       "      <td>...</td>\n",
       "      <td>PayPal</td>\n",
       "      <td>Mandarin</td>\n",
       "      <td>39</td>\n",
       "      <td>3.7</td>\n",
       "      <td>False</td>\n",
       "      <td>Active</td>\n",
       "      <td>1823</td>\n",
       "      <td>Desktop</td>\n",
       "      <td>25-34</td>\n",
       "      <td>Late Night</td>\n",
       "    </tr>\n",
       "  </tbody>\n",
       "</table>\n",
       "<p>5 rows × 23 columns</p>\n",
       "</div>"
      ],
      "text/plain": [
       "   User_ID User_Name  Join_Date  Last_Login  Monthly_Price  Watch_Hours  \\\n",
       "0     2518     Amber  5/15/2023  12/13/2024           7.99           49   \n",
       "1     6430   Patrick   4/3/2023  12/15/2024           7.99          161   \n",
       "2     1798    Robert   8/2/2023  12/14/2024          11.99           87   \n",
       "3     5255      Cole  1/31/2023   12/2/2024          15.99          321   \n",
       "4     2854     Jamie   6/6/2023  12/15/2024          11.99          386   \n",
       "\n",
       "  Favorite_Genre  Active_Devices  Profile_Count  Parental_Controls  ...  \\\n",
       "0         Action               3              6               True  ...   \n",
       "1          Drama               1              2               True  ...   \n",
       "2         Action               2              5              False  ...   \n",
       "3         Sci-Fi               1              5              False  ...   \n",
       "4    Documentary               1              4               True  ...   \n",
       "\n",
       "   Payment_Method  Language_Preference Recommended_Content_Count  \\\n",
       "0          PayPal                Hindi                        84   \n",
       "1          PayPal               German                        69   \n",
       "2      Debit Card             Mandarin                        56   \n",
       "3      Debit Card             Mandarin                        47   \n",
       "4          PayPal             Mandarin                        39   \n",
       "\n",
       "  Average_Rating_Given Has_Downloaded_Content  Membership_Status  \\\n",
       "0                  3.3                  False             Active   \n",
       "1                  4.0                  False             Active   \n",
       "2                  3.1                  False             Active   \n",
       "3                  4.6                  False             Active   \n",
       "4                  3.7                  False             Active   \n",
       "\n",
       "   Loyalty_Points  First_Device_Used Age_Group  Primary_Watch_Time  \n",
       "0            2878         Smartphone     35-44          Late Night  \n",
       "1            2291            Desktop     25-34             Evening  \n",
       "2            1692            Desktop     35-44          Late Night  \n",
       "3             952            Desktop     25-34             Evening  \n",
       "4            1823            Desktop     25-34          Late Night  \n",
       "\n",
       "[5 rows x 23 columns]"
      ]
     },
     "execution_count": 5,
     "metadata": {},
     "output_type": "execute_result"
    }
   ],
   "source": [
    "stream_Data=pd.read_csv(\"streaming_service_data.csv\")\n",
    "stream_Data.head()"
   ]
  },
  {
   "cell_type": "code",
   "execution_count": 6,
   "id": "083852b3-fefe-462a-a836-1c53c7e9dc80",
   "metadata": {},
   "outputs": [
    {
     "data": {
      "text/plain": [
       "(1000, 23)"
      ]
     },
     "execution_count": 6,
     "metadata": {},
     "output_type": "execute_result"
    }
   ],
   "source": [
    "stream_Data.shape"
   ]
  },
  {
   "cell_type": "code",
   "execution_count": 7,
   "id": "b3d79537-fd50-4898-b1d3-52a45496ee5a",
   "metadata": {},
   "outputs": [
    {
     "name": "stdout",
     "output_type": "stream",
     "text": [
      "<class 'pandas.core.frame.DataFrame'>\n",
      "RangeIndex: 1000 entries, 0 to 999\n",
      "Data columns (total 23 columns):\n",
      " #   Column                     Non-Null Count  Dtype  \n",
      "---  ------                     --------------  -----  \n",
      " 0   User_ID                    1000 non-null   int64  \n",
      " 1   User_Name                  1000 non-null   object \n",
      " 2   Join_Date                  1000 non-null   object \n",
      " 3   Last_Login                 1000 non-null   object \n",
      " 4   Monthly_Price              1000 non-null   float64\n",
      " 5   Watch_Hours                1000 non-null   int64  \n",
      " 6   Favorite_Genre             1000 non-null   object \n",
      " 7   Active_Devices             1000 non-null   int64  \n",
      " 8   Profile_Count              1000 non-null   int64  \n",
      " 9   Parental_Controls          1000 non-null   bool   \n",
      " 10  Total_Movies_Watched       1000 non-null   int64  \n",
      " 11  Total_Series_Watched       1000 non-null   int64  \n",
      " 12  Country                    1000 non-null   object \n",
      " 13  Payment_Method             1000 non-null   object \n",
      " 14  Language_Preference        1000 non-null   object \n",
      " 15  Recommended_Content_Count  1000 non-null   int64  \n",
      " 16  Average_Rating_Given       1000 non-null   float64\n",
      " 17  Has_Downloaded_Content     1000 non-null   bool   \n",
      " 18  Membership_Status          1000 non-null   object \n",
      " 19  Loyalty_Points             1000 non-null   int64  \n",
      " 20  First_Device_Used          1000 non-null   object \n",
      " 21  Age_Group                  1000 non-null   object \n",
      " 22  Primary_Watch_Time         1000 non-null   object \n",
      "dtypes: bool(2), float64(2), int64(8), object(11)\n",
      "memory usage: 166.1+ KB\n"
     ]
    }
   ],
   "source": [
    "stream_Data.info()"
   ]
  },
  {
   "cell_type": "markdown",
   "id": "b3c4e7ba-720f-4ae1-92a7-d2cde8887a2f",
   "metadata": {},
   "source": [
    "### Data cleaning"
   ]
  },
  {
   "cell_type": "markdown",
   "id": "25c7c647-a11c-4f11-b85b-7ae53a15066c",
   "metadata": {},
   "source": [
    "#### understanding data set"
   ]
  },
  {
   "cell_type": "code",
   "execution_count": 10,
   "id": "4eaa6950-b1e7-48e0-b24f-86dd7b22a9eb",
   "metadata": {},
   "outputs": [
    {
     "data": {
      "text/plain": [
       "Index(['User_ID', 'User_Name', 'Join_Date', 'Last_Login', 'Monthly_Price',\n",
       "       'Watch_Hours', 'Favorite_Genre', 'Active_Devices', 'Profile_Count',\n",
       "       'Parental_Controls', 'Total_Movies_Watched', 'Total_Series_Watched',\n",
       "       'Country', 'Payment_Method', 'Language_Preference',\n",
       "       'Recommended_Content_Count', 'Average_Rating_Given',\n",
       "       'Has_Downloaded_Content', 'Membership_Status', 'Loyalty_Points',\n",
       "       'First_Device_Used', 'Age_Group', 'Primary_Watch_Time'],\n",
       "      dtype='object')"
      ]
     },
     "execution_count": 10,
     "metadata": {},
     "output_type": "execute_result"
    }
   ],
   "source": [
    "stream_Data.columns"
   ]
  },
  {
   "cell_type": "markdown",
   "id": "11915e51-4ca3-4d20-b166-6f24aa509908",
   "metadata": {},
   "source": [
    "## 📄 Dataset Description\n",
    "\n",
    "This dataset contains user information from a streaming service. Below is a description of each column:\n",
    "\n",
    "| Column Name | Description |\n",
    "|-------------|-------------|\n",
    "| **User_ID** | Unique identifier for each user. |\n",
    "| **User_Name** | The name or username of the user. |\n",
    "| **Join_Date** | The date when the user created their account. |\n",
    "| **Last_Login** | The most recent date the user logged into the platform. |\n",
    "| **Monthly_Price** | The monthly subscription price paid by the user. |\n",
    "| **Watch_Hours** | Total number of hours the user has spent watching content. |\n",
    "| **Favorite_Genre** | The genre most frequently watched by the user such as Action, Comedy, Documentary, Drama, Horror, Romance,Sci-Fi. |\n",
    "| **Active_Devices** | Number of devices currently linked to the user account. |\n",
    "| **Profile_Count** | Number of user profiles under one account. |\n",
    "| **Parental_Controls** | Whether parental control settings are enabled such as False,  True. |\n",
    "| **Total_Movies_Watched** | Total number of movies watched by the user. |\n",
    "| **Total_Series_Watched** | Total number of series watched by the user. |\n",
    "| **Country** | The country of residence of the user are Australia, Canada, France, Germany, India,                UK, USA. |\n",
    "| **Payment_Method** | The payment method used (e.g., Credit Card, Cryptocurrency, Debit Card,                              PayPal). |\n",
    "| **Language_Preference** | The preferred language of content/interface i have is English, French,                                German, Hindi, Mandarin, Spanish. |\n",
    "| **Recommended_Content_Count** | Number of recommended contents the user has received. |\n",
    "| **Average_Rating_Given** | Average rating the user has given to content. |\n",
    "| **Has_Downloaded_Content** | Whether the user has downloaded content false and true. |\n",
    "| **Membership_Status** | Indicates if the user has an active or inactive membership. |\n",
    "| **Loyalty_Points** | Loyalty points accumulated by the user. |\n",
    "| **First_Device_Used** | The first device used to access the platform used are Desktop, Laptop, Smart TV, Smartphone, Tablet. |\n",
    "| **Age_Group** | The age group the user falls into (e.g., Teen, Adult, Senior). |\n",
    "| **Primary_Watch_Time** | The time of day the user most frequently watches content used was                                   Afternoon', Evening, Late Night, Morning. |\n"
   ]
  },
  {
   "cell_type": "code",
   "execution_count": 12,
   "id": "57407411-2fe6-466d-9174-c43bf2d18b2e",
   "metadata": {},
   "outputs": [
    {
     "data": {
      "text/plain": [
       "array([ 7.99, 11.99, 15.99])"
      ]
     },
     "execution_count": 12,
     "metadata": {},
     "output_type": "execute_result"
    }
   ],
   "source": [
    "np.unique(stream_Data.Monthly_Price.to_list())"
   ]
  },
  {
   "cell_type": "code",
   "execution_count": 13,
   "id": "c578d9e4-96ae-4c00-baeb-5940656fc490",
   "metadata": {},
   "outputs": [
    {
     "data": {
      "text/plain": [
       "array([ 10,  11,  12,  13,  14,  15,  16,  17,  18,  19,  20,  21,  22,\n",
       "        23,  24,  25,  26,  27,  28,  29,  30,  32,  33,  34,  35,  36,\n",
       "        37,  38,  39,  40,  42,  43,  44,  45,  46,  47,  48,  49,  50,\n",
       "        52,  53,  54,  55,  56,  57,  58,  59,  61,  62,  63,  64,  65,\n",
       "        68,  69,  70,  71,  73,  74,  75,  76,  77,  78,  81,  82,  83,\n",
       "        84,  85,  87,  88,  89,  90,  91,  92,  93,  96,  97,  98,  99,\n",
       "       100, 101, 102, 103, 104, 105, 106, 108, 109, 110, 112, 113, 114,\n",
       "       115, 116, 118, 119, 120, 121, 122, 123, 124, 125, 127, 128, 129,\n",
       "       130, 131, 132, 133, 134, 135, 136, 137, 138, 139, 140, 141, 144,\n",
       "       145, 146, 147, 148, 150, 152, 153, 154, 155, 157, 158, 159, 160,\n",
       "       161, 162, 163, 164, 165, 166, 167, 168, 169, 170, 171, 172, 173,\n",
       "       174, 175, 176, 177, 178, 179, 180, 181, 182, 183, 184, 185, 186,\n",
       "       187, 188, 190, 191, 192, 193, 195, 196, 197, 198, 200, 201, 202,\n",
       "       203, 204, 205, 206, 207, 208, 209, 210, 211, 212, 214, 215, 216,\n",
       "       217, 219, 220, 221, 222, 223, 224, 225, 227, 231, 233, 234, 235,\n",
       "       236, 237, 238, 239, 240, 241, 242, 243, 245, 246, 247, 248, 249,\n",
       "       250, 251, 252, 253, 254, 256, 257, 258, 259, 262, 263, 264, 266,\n",
       "       267, 268, 270, 272, 273, 274, 275, 276, 277, 278, 279, 280, 281,\n",
       "       282, 283, 285, 286, 287, 289, 290, 291, 292, 293, 294, 295, 296,\n",
       "       297, 298, 299, 300, 301, 302, 303, 304, 305, 306, 307, 308, 309,\n",
       "       311, 312, 313, 315, 316, 317, 318, 319, 321, 322, 325, 326, 327,\n",
       "       328, 329, 330, 331, 332, 335, 336, 337, 338, 339, 341, 342, 343,\n",
       "       344, 345, 346, 347, 348, 349, 350, 351, 352, 353, 354, 355, 356,\n",
       "       357, 358, 359, 360, 361, 362, 364, 365, 366, 367, 368, 369, 370,\n",
       "       371, 373, 374, 375, 376, 378, 379, 380, 381, 382, 383, 384, 385,\n",
       "       386, 388, 389, 390, 391, 392, 393, 394, 395, 396, 397, 399, 401,\n",
       "       404, 405, 406, 408, 409, 410, 411, 412, 413, 414, 415, 416, 417,\n",
       "       418, 419, 420, 421, 422, 423, 424, 425, 426, 427, 429, 432, 433,\n",
       "       435, 436, 437, 438, 439, 440, 441, 442, 443, 444, 445, 446, 447,\n",
       "       448, 449, 450, 451, 452, 453, 454, 455, 456, 457, 459, 460, 461,\n",
       "       462, 463, 464, 465, 466, 467, 468, 469, 470, 471, 472, 473, 474,\n",
       "       475, 477, 478, 479, 480, 482, 483, 484, 485, 486, 487, 490, 491,\n",
       "       492, 493, 494, 495, 496, 498, 499, 500])"
      ]
     },
     "execution_count": 13,
     "metadata": {},
     "output_type": "execute_result"
    }
   ],
   "source": [
    "np.unique(stream_Data.Watch_Hours.to_list())"
   ]
  },
  {
   "cell_type": "code",
   "execution_count": 14,
   "id": "117d5359-d7cd-4b00-8a3a-bd1675e71bf1",
   "metadata": {},
   "outputs": [
    {
     "data": {
      "text/plain": [
       "array(['Action', 'Comedy', 'Documentary', 'Drama', 'Horror', 'Romance',\n",
       "       'Sci-Fi'], dtype='<U11')"
      ]
     },
     "execution_count": 14,
     "metadata": {},
     "output_type": "execute_result"
    }
   ],
   "source": [
    "np.unique(stream_Data.Favorite_Genre.to_list())"
   ]
  },
  {
   "cell_type": "code",
   "execution_count": 15,
   "id": "4b0d2b88-b987-42ff-8b43-254e73a151a6",
   "metadata": {},
   "outputs": [
    {
     "data": {
      "text/plain": [
       "array([1, 2, 3, 4, 5])"
      ]
     },
     "execution_count": 15,
     "metadata": {},
     "output_type": "execute_result"
    }
   ],
   "source": [
    "np.unique(stream_Data.Active_Devices.to_list())"
   ]
  },
  {
   "cell_type": "code",
   "execution_count": 16,
   "id": "5db5d750-912f-47fc-be27-c3237351b4a1",
   "metadata": {},
   "outputs": [
    {
     "data": {
      "text/plain": [
       "array([1, 2, 3, 4, 5, 6])"
      ]
     },
     "execution_count": 16,
     "metadata": {},
     "output_type": "execute_result"
    }
   ],
   "source": [
    "np.unique(stream_Data.Profile_Count.to_list())"
   ]
  },
  {
   "cell_type": "code",
   "execution_count": 17,
   "id": "2daf3524-ef45-41fc-9bdc-e6749e039a1c",
   "metadata": {},
   "outputs": [
    {
     "data": {
      "text/plain": [
       "array([False,  True])"
      ]
     },
     "execution_count": 17,
     "metadata": {},
     "output_type": "execute_result"
    }
   ],
   "source": [
    "np.unique(stream_Data.Parental_Controls.to_list())"
   ]
  },
  {
   "cell_type": "code",
   "execution_count": 18,
   "id": "3409c66c-9574-4a22-ad21-0eeae87f99cb",
   "metadata": {},
   "outputs": [
    {
     "data": {
      "text/plain": [
       "array([  12,   13,   15,   17,   18,   20,   22,   25,   26,   27,   28,\n",
       "         29,   30,   31,   33,   38,   39,   40,   42,   44,   49,   50,\n",
       "         51,   52,   53,   56,   57,   59,   60,   61,   62,   63,   65,\n",
       "         67,   69,   70,   73,   75,   76,   77,   79,   80,   84,   85,\n",
       "         89,   90,   91,   92,   93,   95,   96,   97,  102,  103,  104,\n",
       "        105,  107,  108,  109,  112,  113,  115,  118,  120,  123,  127,\n",
       "        131,  132,  133,  135,  138,  139,  141,  142,  144,  146,  148,\n",
       "        150,  151,  154,  155,  156,  158,  159,  160,  161,  162,  163,\n",
       "        168,  170,  174,  175,  177,  178,  179,  180,  181,  182,  183,\n",
       "        184,  185,  186,  187,  188,  190,  191,  192,  194,  196,  198,\n",
       "        201,  202,  203,  205,  206,  207,  208,  209,  213,  214,  216,\n",
       "        217,  218,  221,  222,  225,  226,  228,  229,  230,  231,  232,\n",
       "        233,  235,  236,  237,  238,  239,  240,  242,  244,  245,  246,\n",
       "        247,  253,  255,  256,  257,  260,  263,  264,  265,  266,  267,\n",
       "        268,  271,  273,  274,  276,  277,  280,  284,  285,  286,  287,\n",
       "        291,  292,  295,  297,  302,  304,  305,  308,  309,  310,  312,\n",
       "        313,  314,  315,  316,  317,  318,  319,  321,  322,  323,  324,\n",
       "        326,  327,  328,  330,  331,  334,  336,  338,  340,  341,  343,\n",
       "        344,  346,  347,  348,  349,  350,  352,  354,  355,  356,  357,\n",
       "        358,  359,  361,  362,  364,  366,  367,  369,  370,  374,  376,\n",
       "        377,  378,  379,  380,  381,  382,  385,  386,  387,  389,  390,\n",
       "        391,  392,  393,  394,  396,  399,  400,  404,  406,  407,  409,\n",
       "        410,  411,  412,  413,  415,  416,  417,  418,  420,  421,  423,\n",
       "        424,  426,  428,  429,  430,  431,  432,  434,  435,  439,  442,\n",
       "        445,  446,  450,  451,  453,  455,  456,  458,  459,  461,  463,\n",
       "        464,  465,  466,  467,  468,  469,  471,  472,  474,  475,  476,\n",
       "        477,  479,  481,  482,  483,  484,  485,  487,  488,  489,  490,\n",
       "        491,  492,  493,  494,  498,  499,  501,  502,  503,  505,  506,\n",
       "        507,  509,  510,  512,  513,  514,  515,  517,  518,  520,  521,\n",
       "        522,  523,  524,  525,  526,  527,  528,  532,  535,  536,  537,\n",
       "        539,  541,  542,  543,  544,  546,  549,  551,  552,  557,  559,\n",
       "        560,  561,  562,  563,  564,  568,  569,  570,  571,  573,  577,\n",
       "        578,  579,  580,  581,  582,  583,  585,  586,  587,  588,  589,\n",
       "        590,  591,  592,  593,  594,  597,  600,  601,  603,  604,  605,\n",
       "        606,  607,  608,  609,  611,  614,  615,  616,  617,  619,  623,\n",
       "        624,  625,  626,  631,  632,  633,  634,  636,  637,  641,  645,\n",
       "        646,  647,  648,  651,  653,  655,  657,  659,  660,  664,  665,\n",
       "        666,  667,  668,  669,  670,  672,  676,  679,  680,  682,  683,\n",
       "        684,  685,  687,  688,  693,  694,  695,  696,  697,  698,  699,\n",
       "        700,  701,  702,  704,  706,  707,  708,  709,  710,  711,  713,\n",
       "        714,  717,  718,  720,  722,  724,  725,  726,  727,  730,  732,\n",
       "        734,  735,  737,  738,  741,  742,  743,  744,  746,  748,  749,\n",
       "        750,  751,  752,  753,  754,  755,  757,  758,  759,  760,  763,\n",
       "        765,  767,  769,  770,  773,  774,  775,  776,  778,  779,  780,\n",
       "        781,  782,  783,  784,  785,  786,  788,  791,  792,  793,  796,\n",
       "        797,  799,  800,  801,  802,  803,  804,  805,  807,  808,  811,\n",
       "        813,  817,  818,  819,  820,  821,  824,  826,  827,  829,  830,\n",
       "        831,  832,  833,  836,  837,  838,  841,  842,  843,  844,  848,\n",
       "        849,  851,  853,  855,  857,  858,  860,  861,  862,  865,  866,\n",
       "        869,  871,  872,  874,  875,  879,  881,  882,  883,  885,  886,\n",
       "        887,  889,  890,  891,  895,  896,  897,  899,  900,  902,  903,\n",
       "        905,  906,  907,  908,  909,  914,  918,  919,  920,  922,  923,\n",
       "        925,  928,  929,  932,  936,  938,  939,  940,  942,  943,  944,\n",
       "        945,  946,  950,  951,  952,  958,  959,  961,  962,  964,  968,\n",
       "        969,  970,  973,  975,  976,  977,  981,  983,  985,  987,  988,\n",
       "        989,  990,  994,  995,  996,  997,  998,  999, 1000])"
      ]
     },
     "execution_count": 18,
     "metadata": {},
     "output_type": "execute_result"
    }
   ],
   "source": [
    "np.unique(stream_Data.Total_Movies_Watched.to_list())"
   ]
  },
  {
   "cell_type": "code",
   "execution_count": 19,
   "id": "a5e1d576-b72e-45fb-ab9a-60c318a8fae0",
   "metadata": {},
   "outputs": [
    {
     "data": {
      "text/plain": [
       "array([  1,   2,   3,   4,   5,   6,   7,   8,   9,  10,  11,  12,  13,\n",
       "        14,  15,  16,  17,  18,  19,  20,  21,  22,  23,  24,  25,  26,\n",
       "        27,  28,  29,  30,  31,  32,  33,  34,  35,  36,  37,  38,  39,\n",
       "        40,  41,  42,  43,  44,  45,  46,  47,  48,  49,  50,  51,  52,\n",
       "        53,  54,  55,  56,  57,  58,  59,  60,  61,  62,  63,  64,  65,\n",
       "        66,  67,  68,  69,  70,  71,  72,  73,  74,  75,  76,  77,  78,\n",
       "        79,  80,  81,  82,  83,  84,  85,  86,  87,  88,  89,  90,  91,\n",
       "        92,  93,  94,  95,  96,  97,  98,  99, 100, 101, 102, 103, 104,\n",
       "       105, 106, 107, 108, 109, 110, 111, 112, 113, 114, 115, 116, 117,\n",
       "       118, 119, 120, 121, 122, 123, 124, 125, 126, 127, 128, 129, 130,\n",
       "       131, 132, 133, 134, 135, 136, 137, 138, 139, 140, 141, 142, 143,\n",
       "       144, 145, 146, 147, 148, 149, 150, 151, 152, 153, 154, 155, 156,\n",
       "       157, 158, 159, 160, 161, 162, 163, 164, 165, 166, 168, 169, 170,\n",
       "       171, 172, 173, 174, 175, 176, 177, 178, 179, 180, 181, 182, 183,\n",
       "       184, 185, 186, 187, 188, 189, 190, 191, 192, 193, 194, 195, 196,\n",
       "       197, 198, 199, 200])"
      ]
     },
     "execution_count": 19,
     "metadata": {},
     "output_type": "execute_result"
    }
   ],
   "source": [
    "np.unique(stream_Data.Total_Series_Watched.to_list())"
   ]
  },
  {
   "cell_type": "code",
   "execution_count": 20,
   "id": "65e79caf-5ea8-4f23-b8e3-43365fbcffb8",
   "metadata": {},
   "outputs": [
    {
     "data": {
      "text/plain": [
       "array(['Australia', 'Canada', 'France', 'Germany', 'India', 'UK', 'USA'],\n",
       "      dtype='<U9')"
      ]
     },
     "execution_count": 20,
     "metadata": {},
     "output_type": "execute_result"
    }
   ],
   "source": [
    "np.unique(stream_Data.Country.to_list())"
   ]
  },
  {
   "cell_type": "code",
   "execution_count": 21,
   "id": "cdc03843-01ca-4af2-b3b5-21f7556bed07",
   "metadata": {},
   "outputs": [
    {
     "data": {
      "text/plain": [
       "array(['Credit Card', 'Cryptocurrency', 'Debit Card', 'PayPal'],\n",
       "      dtype='<U14')"
      ]
     },
     "execution_count": 21,
     "metadata": {},
     "output_type": "execute_result"
    }
   ],
   "source": [
    "np.unique(stream_Data.Payment_Method.to_list())"
   ]
  },
  {
   "cell_type": "code",
   "execution_count": 22,
   "id": "892662e8-b0e4-44bc-b5a9-5d3cba8ec5e3",
   "metadata": {},
   "outputs": [
    {
     "data": {
      "text/plain": [
       "array(['English', 'French', 'German', 'Hindi', 'Mandarin', 'Spanish'],\n",
       "      dtype='<U8')"
      ]
     },
     "execution_count": 22,
     "metadata": {},
     "output_type": "execute_result"
    }
   ],
   "source": [
    "np.unique(stream_Data.Language_Preference.to_list())"
   ]
  },
  {
   "cell_type": "code",
   "execution_count": 23,
   "id": "c4c9aee7-1ba3-4b31-a8ed-ebd69899258a",
   "metadata": {},
   "outputs": [
    {
     "data": {
      "text/plain": [
       "array([  0,   1,   2,   3,   4,   5,   6,   7,   8,   9,  10,  11,  12,\n",
       "        13,  14,  15,  16,  17,  18,  19,  20,  21,  22,  23,  24,  25,\n",
       "        26,  27,  28,  29,  30,  31,  32,  33,  34,  35,  36,  37,  38,\n",
       "        39,  40,  41,  42,  43,  44,  45,  46,  47,  48,  49,  50,  51,\n",
       "        52,  53,  54,  55,  56,  57,  58,  59,  60,  61,  62,  63,  64,\n",
       "        65,  66,  67,  68,  69,  70,  71,  72,  73,  74,  75,  76,  77,\n",
       "        78,  79,  80,  81,  82,  83,  84,  85,  86,  87,  88,  89,  90,\n",
       "        91,  92,  93,  94,  95,  96,  97,  98,  99, 100])"
      ]
     },
     "execution_count": 23,
     "metadata": {},
     "output_type": "execute_result"
    }
   ],
   "source": [
    "np.unique(stream_Data.Recommended_Content_Count.to_list())"
   ]
  },
  {
   "cell_type": "code",
   "execution_count": 24,
   "id": "c73535eb-64c3-446f-ada0-5c0d19f01e72",
   "metadata": {},
   "outputs": [
    {
     "data": {
      "text/plain": [
       "array([3. , 3.1, 3.2, 3.3, 3.4, 3.5, 3.6, 3.7, 3.8, 3.9, 4. , 4.1, 4.2,\n",
       "       4.3, 4.4, 4.5, 4.6, 4.7, 4.8, 4.9, 5. ])"
      ]
     },
     "execution_count": 24,
     "metadata": {},
     "output_type": "execute_result"
    }
   ],
   "source": [
    "np.unique(stream_Data.Average_Rating_Given.to_list())"
   ]
  },
  {
   "cell_type": "code",
   "execution_count": 25,
   "id": "9f6a2e9a-0e22-4d4c-b26e-63356d6a481f",
   "metadata": {},
   "outputs": [
    {
     "data": {
      "text/plain": [
       "array([False,  True])"
      ]
     },
     "execution_count": 25,
     "metadata": {},
     "output_type": "execute_result"
    }
   ],
   "source": [
    "np.unique(stream_Data.Has_Downloaded_Content.to_list())"
   ]
  },
  {
   "cell_type": "code",
   "execution_count": 26,
   "id": "f297cb4b-9625-4c21-a345-c09de9a7c07d",
   "metadata": {},
   "outputs": [
    {
     "data": {
      "text/plain": [
       "array([3. , 3.1, 3.2, 3.3, 3.4, 3.5, 3.6, 3.7, 3.8, 3.9, 4. , 4.1, 4.2,\n",
       "       4.3, 4.4, 4.5, 4.6, 4.7, 4.8, 4.9, 5. ])"
      ]
     },
     "execution_count": 26,
     "metadata": {},
     "output_type": "execute_result"
    }
   ],
   "source": [
    "np.unique(stream_Data.Average_Rating_Given.to_list())"
   ]
  },
  {
   "cell_type": "code",
   "execution_count": 27,
   "id": "f036974b-1bc5-449b-a068-811fc81feaed",
   "metadata": {},
   "outputs": [
    {
     "data": {
      "text/plain": [
       "array(['Active'], dtype='<U6')"
      ]
     },
     "execution_count": 27,
     "metadata": {},
     "output_type": "execute_result"
    }
   ],
   "source": [
    "np.unique(stream_Data.Membership_Status.to_list())"
   ]
  },
  {
   "cell_type": "code",
   "execution_count": 28,
   "id": "d1f3aafe-274b-494c-97df-d8ada4695042",
   "metadata": {},
   "outputs": [
    {
     "data": {
      "text/plain": [
       "array([   3,    4,   15,   17,   28,   30,   33,   47,   48,   53,   55,\n",
       "         60,   62,   68,   72,   73,   74,   77,   92,   96,   97,   99,\n",
       "        105,  106,  110,  111,  119,  125,  130,  136,  144,  147,  150,\n",
       "        164,  165,  167,  168,  172,  173,  185,  188,  212,  213,  214,\n",
       "        215,  218,  223,  225,  228,  234,  237,  239,  242,  244,  245,\n",
       "        249,  255,  256,  260,  274,  290,  292,  296,  314,  318,  333,\n",
       "        336,  340,  342,  344,  353,  354,  368,  371,  373,  380,  388,\n",
       "        396,  398,  402,  412,  414,  416,  421,  423,  424,  428,  433,\n",
       "        444,  447,  448,  450,  459,  460,  473,  476,  484,  486,  494,\n",
       "        496,  510,  513,  525,  527,  540,  544,  546,  547,  548,  561,\n",
       "        564,  571,  581,  583,  585,  595,  599,  608,  613,  615,  628,\n",
       "        631,  633,  639,  647,  650,  658,  668,  670,  674,  681,  708,\n",
       "        710,  711,  718,  727,  728,  732,  745,  746,  747,  749,  754,\n",
       "        755,  756,  771,  772,  773,  775,  782,  783,  784,  786,  790,\n",
       "        804,  808,  809,  827,  833,  836,  837,  851,  860,  863,  868,\n",
       "        874,  876,  877,  882,  888,  905,  906,  913,  933,  935,  941,\n",
       "        944,  945,  947,  948,  952,  954,  957,  959,  965,  967,  987,\n",
       "        993,  995,  996, 1000, 1005, 1013, 1016, 1017, 1025, 1037, 1040,\n",
       "       1042, 1050, 1051, 1058, 1065, 1068, 1072, 1080, 1094, 1095, 1099,\n",
       "       1108, 1110, 1121, 1127, 1129, 1135, 1150, 1153, 1155, 1159, 1172,\n",
       "       1176, 1180, 1185, 1201, 1206, 1216, 1228, 1231, 1238, 1243, 1250,\n",
       "       1252, 1254, 1256, 1258, 1261, 1271, 1275, 1281, 1285, 1289, 1290,\n",
       "       1293, 1294, 1298, 1299, 1303, 1309, 1311, 1312, 1317, 1325, 1327,\n",
       "       1330, 1340, 1341, 1348, 1351, 1357, 1360, 1363, 1364, 1365, 1367,\n",
       "       1368, 1375, 1382, 1392, 1394, 1404, 1408, 1411, 1413, 1416, 1422,\n",
       "       1423, 1426, 1428, 1429, 1431, 1436, 1442, 1454, 1456, 1457, 1461,\n",
       "       1485, 1486, 1500, 1504, 1506, 1508, 1510, 1512, 1518, 1520, 1522,\n",
       "       1525, 1526, 1529, 1531, 1535, 1536, 1538, 1539, 1542, 1544, 1546,\n",
       "       1547, 1556, 1559, 1563, 1572, 1577, 1580, 1581, 1584, 1587, 1594,\n",
       "       1610, 1626, 1628, 1634, 1638, 1651, 1652, 1656, 1657, 1665, 1672,\n",
       "       1674, 1683, 1690, 1692, 1697, 1702, 1704, 1708, 1713, 1721, 1734,\n",
       "       1744, 1752, 1756, 1758, 1764, 1765, 1782, 1784, 1785, 1786, 1790,\n",
       "       1792, 1808, 1813, 1821, 1823, 1824, 1828, 1835, 1836, 1849, 1850,\n",
       "       1856, 1858, 1870, 1872, 1876, 1882, 1901, 1906, 1910, 1911, 1912,\n",
       "       1917, 1925, 1926, 1934, 1938, 1946, 1952, 1955, 1960, 1961, 1965,\n",
       "       1972, 1976, 1982, 1984, 1986, 1989, 1991, 2002, 2015, 2022, 2023,\n",
       "       2029, 2039, 2043, 2050, 2067, 2070, 2083, 2084, 2086, 2088, 2089,\n",
       "       2097, 2098, 2102, 2113, 2124, 2130, 2131, 2132, 2138, 2141, 2156,\n",
       "       2159, 2163, 2164, 2175, 2193, 2209, 2213, 2218, 2229, 2234, 2238,\n",
       "       2242, 2259, 2261, 2284, 2288, 2291, 2299, 2318, 2323, 2327, 2328,\n",
       "       2330, 2331, 2336, 2341, 2344, 2346, 2356, 2370, 2377, 2381, 2384,\n",
       "       2385, 2387, 2388, 2390, 2394, 2395, 2397, 2400, 2406, 2407, 2409,\n",
       "       2416, 2418, 2428, 2432, 2440, 2444, 2448, 2460, 2461, 2465, 2488,\n",
       "       2508, 2517, 2521, 2523, 2534, 2535, 2536, 2538, 2542, 2547, 2554,\n",
       "       2557, 2559, 2560, 2561, 2562, 2568, 2571, 2572, 2575, 2576, 2580,\n",
       "       2583, 2596, 2597, 2600, 2610, 2615, 2620, 2624, 2634, 2636, 2643,\n",
       "       2644, 2647, 2652, 2657, 2666, 2670, 2676, 2678, 2695, 2706, 2714,\n",
       "       2725, 2727, 2728, 2731, 2741, 2749, 2757, 2759, 2760, 2761, 2779,\n",
       "       2780, 2785, 2790, 2798, 2805, 2812, 2821, 2824, 2830, 2835, 2841,\n",
       "       2845, 2853, 2856, 2858, 2864, 2866, 2867, 2871, 2872, 2878, 2886,\n",
       "       2891, 2897, 2901, 2910, 2914, 2919, 2922, 2925, 2927, 2928, 2932,\n",
       "       2933, 2936, 2938, 2941, 2953, 2964, 2965, 2969, 2978, 2984, 2989,\n",
       "       3003, 3007, 3009, 3015, 3020, 3027, 3028, 3037, 3039, 3040, 3053,\n",
       "       3059, 3062, 3069, 3078, 3079, 3081, 3083, 3085, 3091, 3100, 3113,\n",
       "       3118, 3124, 3130, 3138, 3151, 3152, 3157, 3161, 3165, 3173, 3178,\n",
       "       3179, 3182, 3183, 3197, 3199, 3201, 3206, 3211, 3213, 3221, 3247,\n",
       "       3254, 3264, 3276, 3277, 3278, 3281, 3282, 3288, 3289, 3290, 3307,\n",
       "       3308, 3313, 3314, 3325, 3332, 3334, 3349, 3354, 3356, 3366, 3379,\n",
       "       3398, 3408, 3411, 3421, 3424, 3425, 3426, 3428, 3432, 3433, 3437,\n",
       "       3441, 3445, 3448, 3452, 3455, 3462, 3463, 3468, 3476, 3488, 3496,\n",
       "       3499, 3505, 3508, 3510, 3515, 3516, 3517, 3520, 3542, 3552, 3556,\n",
       "       3566, 3568, 3574, 3578, 3589, 3596, 3599, 3604, 3607, 3610, 3616,\n",
       "       3617, 3626, 3630, 3633, 3641, 3645, 3648, 3655, 3659, 3663, 3674,\n",
       "       3679, 3689, 3696, 3697, 3698, 3702, 3708, 3711, 3712, 3714, 3726,\n",
       "       3730, 3741, 3751, 3758, 3761, 3763, 3773, 3775, 3787, 3788, 3791,\n",
       "       3807, 3815, 3817, 3823, 3828, 3834, 3836, 3840, 3842, 3843, 3847,\n",
       "       3848, 3849, 3859, 3865, 3898, 3910, 3913, 3918, 3923, 3925, 3928,\n",
       "       3930, 3935, 3941, 3942, 3953, 3966, 3975, 3980, 3983, 4004, 4008,\n",
       "       4012, 4015, 4020, 4031, 4037, 4048, 4056, 4062, 4068, 4070, 4072,\n",
       "       4076, 4083, 4085, 4108, 4111, 4114, 4116, 4117, 4125, 4127, 4130,\n",
       "       4131, 4133, 4134, 4147, 4155, 4159, 4162, 4164, 4170, 4176, 4177,\n",
       "       4185, 4193, 4194, 4200, 4201, 4204, 4216, 4219, 4221, 4235, 4236,\n",
       "       4243, 4245, 4260, 4264, 4269, 4273, 4291, 4293, 4307, 4308, 4311,\n",
       "       4317, 4322, 4327, 4329, 4332, 4333, 4337, 4338, 4348, 4356, 4358,\n",
       "       4361, 4377, 4378, 4380, 4397, 4400, 4409, 4414, 4421, 4422, 4426,\n",
       "       4435, 4438, 4445, 4450, 4456, 4465, 4477, 4486, 4497, 4501, 4503,\n",
       "       4504, 4505, 4509, 4510, 4511, 4513, 4517, 4518, 4528, 4531, 4537,\n",
       "       4542, 4552, 4555, 4556, 4565, 4566, 4569, 4570, 4575, 4586, 4588,\n",
       "       4589, 4599, 4602, 4626, 4632, 4633, 4635, 4641, 4644, 4646, 4647,\n",
       "       4650, 4651, 4655, 4659, 4662, 4672, 4673, 4674, 4685, 4691, 4702,\n",
       "       4714, 4719, 4726, 4729, 4732, 4742, 4763, 4777, 4783, 4789, 4792,\n",
       "       4798, 4799, 4800, 4808, 4815, 4817, 4820, 4835, 4851, 4867, 4868,\n",
       "       4873, 4879, 4883, 4884, 4889, 4905, 4906, 4919, 4920, 4922, 4927,\n",
       "       4928, 4934, 4935, 4938, 4942, 4963, 4971, 4972, 4976, 4980, 4990])"
      ]
     },
     "execution_count": 28,
     "metadata": {},
     "output_type": "execute_result"
    }
   ],
   "source": [
    "np.unique(stream_Data.Loyalty_Points.to_list())"
   ]
  },
  {
   "cell_type": "code",
   "execution_count": 29,
   "id": "2dc0a6fd-e283-4070-b402-071f3b6cf5d3",
   "metadata": {},
   "outputs": [
    {
     "name": "stdout",
     "output_type": "stream",
     "text": [
      "Watch_Hour_Group\n",
      "0–50         93\n",
      "51–100       88\n",
      "101–200     210\n",
      "201–300     201\n",
      "301–500     408\n",
      "Name: count, dtype: int64\n"
     ]
    }
   ],
   "source": [
    "bins = [0, 50, 100, 200, 300, 500]\n",
    "labels = ['0–50 ', '51–100 ', '101–200 ', '201–300 ', '301–500 ']\n",
    "# Create a new column for hour groups\n",
    "stream_Data['Watch_Hour_Group'] = pd.cut(stream_Data['Watch_Hours'], bins=bins, labels=labels, include_lowest=True)\n",
    "\n",
    "# Count users in each group\n",
    "hrs_counts = stream_Data['Watch_Hour_Group'].value_counts().sort_index()\n",
    "\n",
    "# Display the counts\n",
    "print(hrs_counts)"
   ]
  },
  {
   "cell_type": "code",
   "execution_count": 30,
   "id": "24c9f5a2-9796-4d86-93b1-8a5a77756f58",
   "metadata": {},
   "outputs": [
    {
     "data": {
      "text/plain": [
       "Loyalty_Point_Group\n",
       "0–999         207\n",
       "1000–1999     215\n",
       "2000–2999     196\n",
       "3000–3999     191\n",
       "4000–4990     191\n",
       "Name: count, dtype: int64"
      ]
     },
     "execution_count": 30,
     "metadata": {},
     "output_type": "execute_result"
    }
   ],
   "source": [
    "loyalty_bins = [0, 1000, 2000, 3000, 4000, 4990]\n",
    "loyalty_labels = ['0–999 ', '1000–1999 ', '2000–2999 ', '3000–3999 ', '4000–4990 ']\n",
    "\n",
    "# Group Loyalty Points\n",
    "stream_Data['Loyalty_Point_Group'] = pd.cut(\n",
    "    stream_Data['Loyalty_Points'],\n",
    "    bins=loyalty_bins,\n",
    "    labels=loyalty_labels,\n",
    "    include_lowest=True\n",
    ")\n",
    "\n",
    "# Count users per group\n",
    "loyalty_counts = stream_Data['Loyalty_Point_Group'].value_counts().sort_index()\n",
    "loyalty_counts"
   ]
  },
  {
   "cell_type": "code",
   "execution_count": 31,
   "id": "cf359e81-3e67-4cd3-bdfb-6b8e96c8913b",
   "metadata": {},
   "outputs": [
    {
     "data": {
      "text/plain": [
       "Index(['User_ID', 'User_Name', 'Join_Date', 'Last_Login', 'Monthly_Price',\n",
       "       'Watch_Hours', 'Favorite_Genre', 'Active_Devices', 'Profile_Count',\n",
       "       'Parental_Controls', 'Total_Movies_Watched', 'Total_Series_Watched',\n",
       "       'Country', 'Payment_Method', 'Language_Preference',\n",
       "       'Recommended_Content_Count', 'Average_Rating_Given',\n",
       "       'Has_Downloaded_Content', 'Membership_Status', 'Loyalty_Points',\n",
       "       'First_Device_Used', 'Age_Group', 'Primary_Watch_Time',\n",
       "       'Watch_Hour_Group', 'Loyalty_Point_Group'],\n",
       "      dtype='object')"
      ]
     },
     "execution_count": 31,
     "metadata": {},
     "output_type": "execute_result"
    }
   ],
   "source": [
    "stream_Data.columns"
   ]
  },
  {
   "cell_type": "code",
   "execution_count": 32,
   "id": "cae458c1-b5f1-45b4-9a10-1d4ecdba2dbc",
   "metadata": {},
   "outputs": [
    {
     "data": {
      "text/plain": [
       "array(['Mature Streamers', 'Adult Streamers', 'Young Streamers',\n",
       "       'Older Streamers', 'Senior Streamers'], dtype=object)"
      ]
     },
     "execution_count": 32,
     "metadata": {},
     "output_type": "execute_result"
    }
   ],
   "source": [
    "age_map = {\n",
    "    '18-24': 'Young Streamers',\n",
    "    '25-34': 'Adult Streamers',\n",
    "    '35-44': 'Mature Streamers',\n",
    "    '45-54': 'Older Streamers',\n",
    "    '55+': 'Senior Streamers'\n",
    "}\n",
    "\n",
    "stream_Data['Age_Category'] = stream_Data['Age_Group'].map(age_map)\n",
    "stream_Data['Age_Category'].unique()"
   ]
  },
  {
   "cell_type": "code",
   "execution_count": 33,
   "id": "d68dc5be-d163-41bf-a59b-069fafabf574",
   "metadata": {},
   "outputs": [
    {
     "data": {
      "text/html": [
       "<div>\n",
       "<style scoped>\n",
       "    .dataframe tbody tr th:only-of-type {\n",
       "        vertical-align: middle;\n",
       "    }\n",
       "\n",
       "    .dataframe tbody tr th {\n",
       "        vertical-align: top;\n",
       "    }\n",
       "\n",
       "    .dataframe thead th {\n",
       "        text-align: right;\n",
       "    }\n",
       "</style>\n",
       "<table border=\"1\" class=\"dataframe\">\n",
       "  <thead>\n",
       "    <tr style=\"text-align: right;\">\n",
       "      <th></th>\n",
       "      <th>User_ID</th>\n",
       "      <th>User_Name</th>\n",
       "      <th>Join_Date</th>\n",
       "      <th>Last_Login</th>\n",
       "      <th>Monthly_Price</th>\n",
       "      <th>Watch_Hours</th>\n",
       "      <th>Favorite_Genre</th>\n",
       "      <th>Active_Devices</th>\n",
       "      <th>Profile_Count</th>\n",
       "      <th>Parental_Controls</th>\n",
       "      <th>...</th>\n",
       "      <th>Average_Rating_Given</th>\n",
       "      <th>Has_Downloaded_Content</th>\n",
       "      <th>Membership_Status</th>\n",
       "      <th>Loyalty_Points</th>\n",
       "      <th>First_Device_Used</th>\n",
       "      <th>Age_Group</th>\n",
       "      <th>Primary_Watch_Time</th>\n",
       "      <th>Watch_Hour_Group</th>\n",
       "      <th>Loyalty_Point_Group</th>\n",
       "      <th>Age_Category</th>\n",
       "    </tr>\n",
       "  </thead>\n",
       "  <tbody>\n",
       "    <tr>\n",
       "      <th>0</th>\n",
       "      <td>2518</td>\n",
       "      <td>Amber</td>\n",
       "      <td>5/15/2023</td>\n",
       "      <td>12/13/2024</td>\n",
       "      <td>7.99</td>\n",
       "      <td>49</td>\n",
       "      <td>Action</td>\n",
       "      <td>3</td>\n",
       "      <td>6</td>\n",
       "      <td>True</td>\n",
       "      <td>...</td>\n",
       "      <td>3.3</td>\n",
       "      <td>False</td>\n",
       "      <td>Active</td>\n",
       "      <td>2878</td>\n",
       "      <td>Smartphone</td>\n",
       "      <td>35-44</td>\n",
       "      <td>Late Night</td>\n",
       "      <td>0–50</td>\n",
       "      <td>2000–2999</td>\n",
       "      <td>Mature Streamers</td>\n",
       "    </tr>\n",
       "    <tr>\n",
       "      <th>1</th>\n",
       "      <td>6430</td>\n",
       "      <td>Patrick</td>\n",
       "      <td>4/3/2023</td>\n",
       "      <td>12/15/2024</td>\n",
       "      <td>7.99</td>\n",
       "      <td>161</td>\n",
       "      <td>Drama</td>\n",
       "      <td>1</td>\n",
       "      <td>2</td>\n",
       "      <td>True</td>\n",
       "      <td>...</td>\n",
       "      <td>4.0</td>\n",
       "      <td>False</td>\n",
       "      <td>Active</td>\n",
       "      <td>2291</td>\n",
       "      <td>Desktop</td>\n",
       "      <td>25-34</td>\n",
       "      <td>Evening</td>\n",
       "      <td>101–200</td>\n",
       "      <td>2000–2999</td>\n",
       "      <td>Adult Streamers</td>\n",
       "    </tr>\n",
       "    <tr>\n",
       "      <th>2</th>\n",
       "      <td>1798</td>\n",
       "      <td>Robert</td>\n",
       "      <td>8/2/2023</td>\n",
       "      <td>12/14/2024</td>\n",
       "      <td>11.99</td>\n",
       "      <td>87</td>\n",
       "      <td>Action</td>\n",
       "      <td>2</td>\n",
       "      <td>5</td>\n",
       "      <td>False</td>\n",
       "      <td>...</td>\n",
       "      <td>3.1</td>\n",
       "      <td>False</td>\n",
       "      <td>Active</td>\n",
       "      <td>1692</td>\n",
       "      <td>Desktop</td>\n",
       "      <td>35-44</td>\n",
       "      <td>Late Night</td>\n",
       "      <td>51–100</td>\n",
       "      <td>1000–1999</td>\n",
       "      <td>Mature Streamers</td>\n",
       "    </tr>\n",
       "    <tr>\n",
       "      <th>3</th>\n",
       "      <td>5255</td>\n",
       "      <td>Cole</td>\n",
       "      <td>1/31/2023</td>\n",
       "      <td>12/2/2024</td>\n",
       "      <td>15.99</td>\n",
       "      <td>321</td>\n",
       "      <td>Sci-Fi</td>\n",
       "      <td>1</td>\n",
       "      <td>5</td>\n",
       "      <td>False</td>\n",
       "      <td>...</td>\n",
       "      <td>4.6</td>\n",
       "      <td>False</td>\n",
       "      <td>Active</td>\n",
       "      <td>952</td>\n",
       "      <td>Desktop</td>\n",
       "      <td>25-34</td>\n",
       "      <td>Evening</td>\n",
       "      <td>301–500</td>\n",
       "      <td>0–999</td>\n",
       "      <td>Adult Streamers</td>\n",
       "    </tr>\n",
       "    <tr>\n",
       "      <th>4</th>\n",
       "      <td>2854</td>\n",
       "      <td>Jamie</td>\n",
       "      <td>6/6/2023</td>\n",
       "      <td>12/15/2024</td>\n",
       "      <td>11.99</td>\n",
       "      <td>386</td>\n",
       "      <td>Documentary</td>\n",
       "      <td>1</td>\n",
       "      <td>4</td>\n",
       "      <td>True</td>\n",
       "      <td>...</td>\n",
       "      <td>3.7</td>\n",
       "      <td>False</td>\n",
       "      <td>Active</td>\n",
       "      <td>1823</td>\n",
       "      <td>Desktop</td>\n",
       "      <td>25-34</td>\n",
       "      <td>Late Night</td>\n",
       "      <td>301–500</td>\n",
       "      <td>1000–1999</td>\n",
       "      <td>Adult Streamers</td>\n",
       "    </tr>\n",
       "    <tr>\n",
       "      <th>...</th>\n",
       "      <td>...</td>\n",
       "      <td>...</td>\n",
       "      <td>...</td>\n",
       "      <td>...</td>\n",
       "      <td>...</td>\n",
       "      <td>...</td>\n",
       "      <td>...</td>\n",
       "      <td>...</td>\n",
       "      <td>...</td>\n",
       "      <td>...</td>\n",
       "      <td>...</td>\n",
       "      <td>...</td>\n",
       "      <td>...</td>\n",
       "      <td>...</td>\n",
       "      <td>...</td>\n",
       "      <td>...</td>\n",
       "      <td>...</td>\n",
       "      <td>...</td>\n",
       "      <td>...</td>\n",
       "      <td>...</td>\n",
       "      <td>...</td>\n",
       "    </tr>\n",
       "    <tr>\n",
       "      <th>995</th>\n",
       "      <td>6878</td>\n",
       "      <td>Mary</td>\n",
       "      <td>4/26/2024</td>\n",
       "      <td>11/27/2024</td>\n",
       "      <td>7.99</td>\n",
       "      <td>136</td>\n",
       "      <td>Sci-Fi</td>\n",
       "      <td>5</td>\n",
       "      <td>5</td>\n",
       "      <td>True</td>\n",
       "      <td>...</td>\n",
       "      <td>4.4</td>\n",
       "      <td>True</td>\n",
       "      <td>Active</td>\n",
       "      <td>4742</td>\n",
       "      <td>Tablet</td>\n",
       "      <td>35-44</td>\n",
       "      <td>Late Night</td>\n",
       "      <td>101–200</td>\n",
       "      <td>4000–4990</td>\n",
       "      <td>Mature Streamers</td>\n",
       "    </tr>\n",
       "    <tr>\n",
       "      <th>996</th>\n",
       "      <td>5681</td>\n",
       "      <td>Ryan</td>\n",
       "      <td>5/8/2024</td>\n",
       "      <td>12/8/2024</td>\n",
       "      <td>11.99</td>\n",
       "      <td>159</td>\n",
       "      <td>Romance</td>\n",
       "      <td>4</td>\n",
       "      <td>6</td>\n",
       "      <td>True</td>\n",
       "      <td>...</td>\n",
       "      <td>3.3</td>\n",
       "      <td>False</td>\n",
       "      <td>Active</td>\n",
       "      <td>2910</td>\n",
       "      <td>Desktop</td>\n",
       "      <td>18-24</td>\n",
       "      <td>Morning</td>\n",
       "      <td>101–200</td>\n",
       "      <td>2000–2999</td>\n",
       "      <td>Young Streamers</td>\n",
       "    </tr>\n",
       "    <tr>\n",
       "      <th>997</th>\n",
       "      <td>4448</td>\n",
       "      <td>David</td>\n",
       "      <td>3/23/2024</td>\n",
       "      <td>12/16/2024</td>\n",
       "      <td>11.99</td>\n",
       "      <td>99</td>\n",
       "      <td>Sci-Fi</td>\n",
       "      <td>4</td>\n",
       "      <td>2</td>\n",
       "      <td>False</td>\n",
       "      <td>...</td>\n",
       "      <td>3.6</td>\n",
       "      <td>False</td>\n",
       "      <td>Active</td>\n",
       "      <td>1180</td>\n",
       "      <td>Tablet</td>\n",
       "      <td>35-44</td>\n",
       "      <td>Morning</td>\n",
       "      <td>51–100</td>\n",
       "      <td>1000–1999</td>\n",
       "      <td>Mature Streamers</td>\n",
       "    </tr>\n",
       "    <tr>\n",
       "      <th>998</th>\n",
       "      <td>5795</td>\n",
       "      <td>John</td>\n",
       "      <td>11/25/2023</td>\n",
       "      <td>12/13/2024</td>\n",
       "      <td>11.99</td>\n",
       "      <td>157</td>\n",
       "      <td>Action</td>\n",
       "      <td>4</td>\n",
       "      <td>2</td>\n",
       "      <td>False</td>\n",
       "      <td>...</td>\n",
       "      <td>4.4</td>\n",
       "      <td>False</td>\n",
       "      <td>Active</td>\n",
       "      <td>1965</td>\n",
       "      <td>Laptop</td>\n",
       "      <td>25-34</td>\n",
       "      <td>Morning</td>\n",
       "      <td>101–200</td>\n",
       "      <td>1000–1999</td>\n",
       "      <td>Adult Streamers</td>\n",
       "    </tr>\n",
       "    <tr>\n",
       "      <th>999</th>\n",
       "      <td>5320</td>\n",
       "      <td>Katherine</td>\n",
       "      <td>9/28/2023</td>\n",
       "      <td>12/9/2024</td>\n",
       "      <td>11.99</td>\n",
       "      <td>123</td>\n",
       "      <td>Documentary</td>\n",
       "      <td>1</td>\n",
       "      <td>6</td>\n",
       "      <td>False</td>\n",
       "      <td>...</td>\n",
       "      <td>4.4</td>\n",
       "      <td>False</td>\n",
       "      <td>Active</td>\n",
       "      <td>3179</td>\n",
       "      <td>Smart TV</td>\n",
       "      <td>25-34</td>\n",
       "      <td>Morning</td>\n",
       "      <td>101–200</td>\n",
       "      <td>3000–3999</td>\n",
       "      <td>Adult Streamers</td>\n",
       "    </tr>\n",
       "  </tbody>\n",
       "</table>\n",
       "<p>1000 rows × 26 columns</p>\n",
       "</div>"
      ],
      "text/plain": [
       "     User_ID  User_Name   Join_Date  Last_Login  Monthly_Price  Watch_Hours  \\\n",
       "0       2518      Amber   5/15/2023  12/13/2024           7.99           49   \n",
       "1       6430    Patrick    4/3/2023  12/15/2024           7.99          161   \n",
       "2       1798     Robert    8/2/2023  12/14/2024          11.99           87   \n",
       "3       5255       Cole   1/31/2023   12/2/2024          15.99          321   \n",
       "4       2854      Jamie    6/6/2023  12/15/2024          11.99          386   \n",
       "..       ...        ...         ...         ...            ...          ...   \n",
       "995     6878       Mary   4/26/2024  11/27/2024           7.99          136   \n",
       "996     5681       Ryan    5/8/2024   12/8/2024          11.99          159   \n",
       "997     4448      David   3/23/2024  12/16/2024          11.99           99   \n",
       "998     5795       John  11/25/2023  12/13/2024          11.99          157   \n",
       "999     5320  Katherine   9/28/2023   12/9/2024          11.99          123   \n",
       "\n",
       "    Favorite_Genre  Active_Devices  Profile_Count  Parental_Controls  ...  \\\n",
       "0           Action               3              6               True  ...   \n",
       "1            Drama               1              2               True  ...   \n",
       "2           Action               2              5              False  ...   \n",
       "3           Sci-Fi               1              5              False  ...   \n",
       "4      Documentary               1              4               True  ...   \n",
       "..             ...             ...            ...                ...  ...   \n",
       "995         Sci-Fi               5              5               True  ...   \n",
       "996        Romance               4              6               True  ...   \n",
       "997         Sci-Fi               4              2              False  ...   \n",
       "998         Action               4              2              False  ...   \n",
       "999    Documentary               1              6              False  ...   \n",
       "\n",
       "     Average_Rating_Given  Has_Downloaded_Content Membership_Status  \\\n",
       "0                     3.3                   False            Active   \n",
       "1                     4.0                   False            Active   \n",
       "2                     3.1                   False            Active   \n",
       "3                     4.6                   False            Active   \n",
       "4                     3.7                   False            Active   \n",
       "..                    ...                     ...               ...   \n",
       "995                   4.4                    True            Active   \n",
       "996                   3.3                   False            Active   \n",
       "997                   3.6                   False            Active   \n",
       "998                   4.4                   False            Active   \n",
       "999                   4.4                   False            Active   \n",
       "\n",
       "    Loyalty_Points First_Device_Used  Age_Group  Primary_Watch_Time  \\\n",
       "0             2878        Smartphone      35-44          Late Night   \n",
       "1             2291           Desktop      25-34             Evening   \n",
       "2             1692           Desktop      35-44          Late Night   \n",
       "3              952           Desktop      25-34             Evening   \n",
       "4             1823           Desktop      25-34          Late Night   \n",
       "..             ...               ...        ...                 ...   \n",
       "995           4742            Tablet      35-44          Late Night   \n",
       "996           2910           Desktop      18-24             Morning   \n",
       "997           1180            Tablet      35-44             Morning   \n",
       "998           1965            Laptop      25-34             Morning   \n",
       "999           3179          Smart TV      25-34             Morning   \n",
       "\n",
       "     Watch_Hour_Group Loyalty_Point_Group      Age_Category  \n",
       "0               0–50           2000–2999   Mature Streamers  \n",
       "1            101–200           2000–2999    Adult Streamers  \n",
       "2             51–100           1000–1999   Mature Streamers  \n",
       "3            301–500               0–999    Adult Streamers  \n",
       "4            301–500           1000–1999    Adult Streamers  \n",
       "..                ...                 ...               ...  \n",
       "995          101–200           4000–4990   Mature Streamers  \n",
       "996          101–200           2000–2999    Young Streamers  \n",
       "997           51–100           1000–1999   Mature Streamers  \n",
       "998          101–200           1000–1999    Adult Streamers  \n",
       "999          101–200           3000–3999    Adult Streamers  \n",
       "\n",
       "[1000 rows x 26 columns]"
      ]
     },
     "execution_count": 33,
     "metadata": {},
     "output_type": "execute_result"
    }
   ],
   "source": [
    "stream_Data"
   ]
  },
  {
   "cell_type": "code",
   "execution_count": null,
   "id": "b10de0e7-126b-4ce5-9aa8-33d653b5263e",
   "metadata": {},
   "outputs": [],
   "source": []
  },
  {
   "cell_type": "code",
   "execution_count": 70,
   "id": "3d64c204-412e-4eb8-8232-29ca6ed8c9af",
   "metadata": {},
   "outputs": [],
   "source": [
    "stream_Data['Watch_Hours'] = pd.to_numeric(stream_Data['Watch_Hours'], errors='coerce')\n",
    "stream_Data['Loyalty_Points'] = pd.to_numeric(stream_Data['Loyalty_Points'], errors='coerce')\n"
   ]
  },
  {
   "cell_type": "code",
   "execution_count": 87,
   "id": "c056c261-96c8-4f14-90fb-4f4c2784bcbb",
   "metadata": {},
   "outputs": [],
   "source": [
    "stream_Data.to_csv(\"cleaned_stream_data.csv\", index=False, encoding='utf-8')\n"
   ]
  },
  {
   "cell_type": "code",
   "execution_count": null,
   "id": "7feaf595-93be-4e83-bafe-d36971a47281",
   "metadata": {},
   "outputs": [],
   "source": []
  }
 ],
 "metadata": {
  "kernelspec": {
   "display_name": "Python [conda env:base] *",
   "language": "python",
   "name": "conda-base-py"
  },
  "language_info": {
   "codemirror_mode": {
    "name": "ipython",
    "version": 3
   },
   "file_extension": ".py",
   "mimetype": "text/x-python",
   "name": "python",
   "nbconvert_exporter": "python",
   "pygments_lexer": "ipython3",
   "version": "3.12.7"
  }
 },
 "nbformat": 4,
 "nbformat_minor": 5
}
