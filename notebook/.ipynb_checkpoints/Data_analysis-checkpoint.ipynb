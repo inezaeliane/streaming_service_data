{
 "cells": [
  {
   "cell_type": "markdown",
   "id": "6e627b15-dcbe-4899-8805-3a05ed22e5b6",
   "metadata": {},
   "source": [
    "## Streaming Service Dataset - Exploratory and Descriptive Analysis\n",
    "In this notebook, we conduct an in-depth exploratory and descriptive analysis of a streaming service dataset, which includes information on user demographics, watch habits, content preferences, download behaviors, subscription levels, and interaction history.\n",
    "\n",
    "The primary goal of this analysis is to uncover user engagement patterns, understand content consumption trends, and detect factors influencing loyalty and satisfaction. This foundational step is critical before any modeling or recommendation engine development, as it helps us identify data quality issues, understand feature distributions, and observe key relationships.\n",
    "\n",
    "Throughout the analysis, we examine how metrics like watch hours, loyalty points, download activity, and ratings vary across different age groups, countries, genres, and platform types. Visual tools are used extensively to present insights clearly and interactively.\n",
    "\n",
    "### import library\n",
    "\n",
    "**pandas**: Used for data manipulation, cleaning, and analysis in tabular form.\n",
    "\n",
    "**numpy**: Provides fast numerical computations and array operations.\n",
    "\n",
    "**os**: Manages file and directory paths for saving and loading data or outputs.\n",
    "\n",
    "**plotly.express**:Creates interactive and customizable visualizations."
   ]
  },
  {
   "cell_type": "code",
   "execution_count": null,
   "id": "b3dc1b62-5d20-4428-a3da-884eb7d280fe",
   "metadata": {},
   "outputs": [],
   "source": [
    "# import Libraries\n",
    "import pandas as pd\n",
    "import numpy as np\n",
    "import os\n",
    "import plotly.express as px"
   ]
  },
  {
   "cell_type": "markdown",
   "id": "b37e6dcf-ad83-41c9-8f4f-a86fe424659c",
   "metadata": {},
   "source": [
    "## Define and Create Directory Paths\n",
    "\n",
    "To ensure reproducibility andorganized storage, we programmatically create directories for:\n",
    "\n",
    "- **raw data**\n",
    "- **processed data**\n",
    "- **results**\n",
    "- **documentation**\n",
    "\n",
    "These directories will store intermediate and final outputs for reproducibility.\n",
    "\n"
   ]
  },
  {
   "cell_type": "code",
   "execution_count": null,
   "id": "b938b97d-2935-4842-a9ec-edc1fdbebd7b",
   "metadata": {},
   "outputs": [],
   "source": [
    "# Get working directory\n",
    "current_dir=os.getcwd()\n",
    "\n",
    "# Go one directory up to root directory\n",
    "project_root_dir=os.path.dirname(current_dir)\n",
    "\n",
    "# Define paths to the data folders\n",
    "data_dir=os.path.join(project_root_dir,'data')\n",
    "raw_dir=os.path.join(data_dir,'raw')\n",
    "processed_dir=os.path.join(data_dir,'processed')\n",
    "\n",
    "# Define paths to results folders\n",
    "result_dir=os.path.join(project_root_dir,'results')\n",
    "\n",
    "# Define paths to Docs folder\n",
    "docs_dir=os.path.join(project_root_dir,'docs')\n",
    "\n",
    "# Create a directories if they do not exists\n",
    "\n",
    "os.makedirs(raw_dir,exist_ok=True)\n",
    "os.makedirs(processed_dir,exist_ok=True)\n",
    "os.makedirs(result_dir,exist_ok=True)\n",
    "os.makedirs(docs_dir,exist_ok=True)"
   ]
  },
  {
   "cell_type": "markdown",
   "id": "fe6a8a08-732d-4239-a873-7766bbf25eff",
   "metadata": {},
   "source": [
    "## Loading a cleaned dataset \n",
    "\n",
    "this dataset is stored in **processed folder**"
   ]
  },
  {
   "cell_type": "code",
   "execution_count": null,
   "id": "90e694b3-0fa3-4268-bf31-4b44fadcc465",
   "metadata": {},
   "outputs": [],
   "source": [
    "stream_data_filename=os.path.join(processed_dir,\"cleaned_stream_data.csv\")\n",
    "stream_df=pd.read_csv(stream_data_filename)\n",
    "stream_df.head()"
   ]
  },
  {
   "cell_type": "markdown",
   "id": "e4c73c61-caab-4d82-8efa-02bbb2b38c46",
   "metadata": {},
   "source": [
    "## Understanding a Dataset\n",
    "\n",
    "Number of rows and columns we have after making cleaning"
   ]
  },
  {
   "cell_type": "code",
   "execution_count": null,
   "id": "796c1a4a-7f4a-40ae-98dd-42e058039bcf",
   "metadata": {},
   "outputs": [],
   "source": [
    "stream_df.shape"
   ]
  },
  {
   "cell_type": "markdown",
   "id": "39d357c1-c897-4af8-8d06-bd20da3d12b4",
   "metadata": {},
   "source": [
    "## 📄 Dataset Columns and Data Types\n",
    "\n",
    "| Column Name               | Data Type | Description                                                                                     |\n",
    "|---------------------------|-----------|-------------------------------------------------------------------------------------------------|\n",
    "| **User_ID**               | int64     | Unique identifier for each user.                                                               |\n",
    "| **User_Name**             | object    | The name or username of the user.                                                              |\n",
    "| **Join_Date**             | object    | The date when the user created their account (stored as string/object).                         |\n",
    "| **Last_Login**            | object    | The most recent login date for the user (stored as string/object).                             |\n",
    "| **Monthly_Price**         | float64   | Monthly subscription price paid by the user.                                                  |\n",
    "| **Watch_Hours**           | int64     | Total hours the user has spent watching content.                                              |\n",
    "| **Favorite_Genre**        | object    | The genre most frequently watched by the user (e.g., Action, Comedy, Drama).                   |\n",
    "| **Active_Devices**        | int64     | Number of devices linked to the user account.                                                 |\n",
    "| **Profile_Count**         | int64     | Number of user profiles under the account.                                                    |\n",
    "| **Parental_Controls**     | bool      | Indicates if parental control settings are enabled (True or False).                            |\n",
    "| **Total_Movies_Watched**  | int64     | Total movies watched by the user.                                                             |\n",
    "| **Total_Series_Watched**  | int64     | Total series watched by the user.                                                             |\n",
    "| **Country**               | object    | User's country of residence (e.g., USA, UK, India).                                           |\n",
    "| **Payment_Method**        | object    | Payment method used by the user (e.g., Credit Card, PayPal).                                  |\n",
    "| **Language_Preference**   | object    | Preferred content/interface language (e.g., English, Spanish).                                |\n",
    "| **Recommended_Content_Count** | int64  | Number of recommended contents the user received.                                            |\n",
    "| **Average_Rating_Given**  | float64   | Average rating given by the user to the content.                                              |\n",
    "| **Has_Downloaded_Content**| bool      | Whether the user has downloaded any content (True or False).                                  |\n",
    "| **Membership_Status**     | object    | Membership status indicating active or inactive.                                              |\n",
    "| **Loyalty_Points**       | int64     | Total loyalty points accumulated by the user.                                                |\n",
    "| **First_Device_Used**    | object    | The first device used to access the platform (e.g., Smartphone, Smart TV).                    |\n",
    "| **Age_Group**            | object    | Age group category the user belongs to (e.g., Teen, Adult, Senior).                           |\n",
    "| **Primary_Watch_Time**   | object    | Time of day the user most frequently watches content (e.g., Morning, Evening).                |\n",
    "| **Watch_Hour_Group**     | object    | Group/category based on total watch hours (e.g., Low, Medium, High).                          |\n",
    "| **Loyalty_Point_Group**  | object    | Group/category based on loyalty points accumulated.                                          |\n",
    "| **Age_Category**         | object    | Categorized age data used for grouped analysis (e.g., 18–25, 26–35).                         |\n",
    "\n",
    "---\n",
    "\n",
    "**Data Types Summary:**\n",
    "\n",
    "- **bool:** 2 columns  \n",
    "- **float64:** 2 columns  \n",
    "- **int64:** 8 columns  \n",
    "- **object (string):** 14 columns  \n"
   ]
  },
  {
   "cell_type": "code",
   "execution_count": null,
   "id": "b6b6f72a-7636-467f-a27a-94f2ba98065b",
   "metadata": {},
   "outputs": [],
   "source": [
    "stream_df.info()"
   ]
  },
  {
   "cell_type": "markdown",
   "id": "44c5232f-8d07-448c-a6ee-94bb055e3d70",
   "metadata": {},
   "source": [
    "## Summary Statistics\n",
    "### Numerical Varible"
   ]
  },
  {
   "cell_type": "code",
   "execution_count": null,
   "id": "699a96ed-543d-4e22-bda9-024a19ef8698",
   "metadata": {},
   "outputs": [],
   "source": [
    "stream_df.describe()"
   ]
  },
  {
   "cell_type": "markdown",
   "id": "0aa479d1-1429-4a9a-929d-51c6889c1707",
   "metadata": {},
   "source": [
    "### Explanation:\n",
    "\n",
    "- **Count:** Total number of non-null entries (all columns have 1000 entries, so no missing data).\n",
    "- **Mean:** Average value, indicating central tendency for each column.\n",
    "- **Std (Standard Deviation):** Measures spread or variability around the mean.\n",
    "- **Min and Max:** Minimum and maximum values showing the range.\n",
    "- **25%, 50%, 75% (Quartiles):** Represent the distribution spread, where:\n",
    "  - 25% is the first quartile (Q1),\n",
    "  - 50% is the median,\n",
    "  - 75% is the third quartile (Q3).\n",
    "\n",
    "### Insights:\n",
    "\n",
    "- The **Monthly_Price** ranges mostly between $7.99  and  $15.99, with an average price of $12.03.\n",
    "- Users typically watch between 10 and 500 hours, with a mean of 254 hours.\n",
    "- The number of **Active_Devices** per user ranges from 1 to 5, averaging around 3.\n",
    "- The average rating given by users is high (~4.01 out of 5), indicating overall positive user feedback.\n",
    "- Loyalty points vary widely, from as low as 3 to nearly 5000, showing differences in user engagement.\n",
    "\n",
    "This summary helps understand user behavior and subscription patterns in the streaming service dataset."
   ]
  },
  {
   "cell_type": "markdown",
   "id": "60f76a76-8f43-4bb6-bf40-b8b3599b3f0f",
   "metadata": {},
   "source": [
    "### categorical Variable"
   ]
  },
  {
   "cell_type": "code",
   "execution_count": null,
   "id": "3ed8c65c-70a1-48ae-829d-f586e4653877",
   "metadata": {},
   "outputs": [],
   "source": [
    "stream_df.describe(include='object')"
   ]
  },
  {
   "cell_type": "markdown",
   "id": "baff776f-6629-4d91-80de-07535699fb7c",
   "metadata": {},
   "source": [
    "### Explanation:\n",
    "\n",
    "- **Count:** Number of non-null entries (all columns have full 1000 entries, no missing values).\n",
    "- **Unique Values:** Number of distinct values in the column.\n",
    "- **Top (Most Frequent) Value:** The most common value in the column.\n",
    "- **Frequency:** Number of times the top value occurs.\n",
    "\n",
    "### Insights:\n",
    "\n",
    "- The most common user name is **Michael** (25 users).\n",
    "- Users joined most frequently on **4/17/2023**.\n",
    "- The most frequent last login date is **11/29/2024**.\n",
    "- The favorite genre among users is **Horror**.\n",
    "- The majority of users are from the **USA**.\n",
    "- **PayPal** is the most used payment method.\n",
    "- Most users prefer content in **Mandarin**.\n",
    "- All users currently have **Active** membership status.\n",
    "- The first device used to access the service is most commonly a **Tablet**.\n",
    "- The most common age group is **45-54**, labeled under **Older Streamers**.\n",
    "- Users mostly watch during **Late Night** hours.\n",
    "- The largest watch hour group is between **301-500 hours**.\n",
    "- Most users fall into the **1000-1999 loyalty points** group.\n",
    "\n",
    "This summary provides insights into user demographics, preferences, and usage patterns."
   ]
  },
  {
   "cell_type": "markdown",
   "id": "d30edb14-83d1-4574-b0ce-b87475e61ce2",
   "metadata": {},
   "source": [
    "## Understanding all Categorical "
   ]
  },
  {
   "cell_type": "code",
   "execution_count": null,
   "id": "4b442c80-3dcb-4038-bff0-9207c3a87ff0",
   "metadata": {},
   "outputs": [],
   "source": [
    "stream_df['Favorite_Genre'].value_counts()"
   ]
  },
  {
   "cell_type": "code",
   "execution_count": null,
   "id": "2bc11a30-d1cc-4295-9366-288f20c7457e",
   "metadata": {},
   "outputs": [],
   "source": [
    "stream_df['Country'].value_counts()"
   ]
  },
  {
   "cell_type": "code",
   "execution_count": null,
   "id": "855880c0-da5b-4b06-853d-928b061fea37",
   "metadata": {},
   "outputs": [],
   "source": [
    "stream_df['Payment_Method'].value_counts()"
   ]
  },
  {
   "cell_type": "code",
   "execution_count": null,
   "id": "098d0607-e2ab-4aa9-a312-deb91fc2b508",
   "metadata": {},
   "outputs": [],
   "source": [
    "stream_df['Language_Preference'].value_counts()"
   ]
  },
  {
   "cell_type": "code",
   "execution_count": null,
   "id": "26164816-3e42-4406-b885-e701bcde7ba3",
   "metadata": {},
   "outputs": [],
   "source": [
    "stream_df['First_Device_Used'].value_counts()"
   ]
  },
  {
   "cell_type": "code",
   "execution_count": null,
   "id": "f1be2782-6554-44d6-93c2-909808fbd154",
   "metadata": {},
   "outputs": [],
   "source": [
    "stream_df['Age_Group'].value_counts()"
   ]
  },
  {
   "cell_type": "code",
   "execution_count": null,
   "id": "a8b81fc4-2be9-4f90-a00e-2fe34194312d",
   "metadata": {},
   "outputs": [],
   "source": [
    "stream_df['Age_Category'].value_counts()"
   ]
  },
  {
   "cell_type": "code",
   "execution_count": null,
   "id": "5650af82-2184-4586-8b03-e798583005b3",
   "metadata": {},
   "outputs": [],
   "source": [
    "stream_df['Primary_Watch_Time'].value_counts()"
   ]
  },
  {
   "cell_type": "code",
   "execution_count": null,
   "id": "2f440195-0636-4c2e-b3de-443bfba8a1a8",
   "metadata": {},
   "outputs": [],
   "source": [
    "stream_df['Watch_Hour_Group'].value_counts()"
   ]
  },
  {
   "cell_type": "code",
   "execution_count": null,
   "id": "a95c4c0b-e74a-4cd9-9ee6-199f0b28e296",
   "metadata": {},
   "outputs": [],
   "source": [
    "stream_df['Loyalty_Point_Group'].value_counts()"
   ]
  },
  {
   "cell_type": "markdown",
   "id": "07cfbe65-d6b5-4e20-b0c4-a7db7e78e81a",
   "metadata": {},
   "source": [
    "### KPI Calculations"
   ]
  },
  {
   "cell_type": "markdown",
   "id": "0c7c37fe-a1fb-42a0-bab6-3980e15f1ca1",
   "metadata": {},
   "source": [
    "### Note: All users currently have an active membership."
   ]
  },
  {
   "cell_type": "markdown",
   "id": "c5c2a00c-b095-4704-aa52-7efa29fc950e",
   "metadata": {},
   "source": [
    "## Watch Hours by Age Category"
   ]
  },
  {
   "cell_type": "code",
   "execution_count": null,
   "id": "56484b19-9540-4897-b6ce-85b8484ac97e",
   "metadata": {},
   "outputs": [],
   "source": [
    "age_category_counts = stream_df[\"Age_Category\"].value_counts().reset_index()\n",
    "age_category_counts.columns = [\"Age_Category\", \"User_Count\"]\n",
    "age_category_counts"
   ]
  },
  {
   "cell_type": "code",
   "execution_count": null,
   "id": "95312d5b-0a2d-47c5-8169-04cc78ad5c7f",
   "metadata": {},
   "outputs": [],
   "source": [
    "age_category_counts = stream_df[\"Age_Category\"].value_counts().reset_index()\n",
    "age_category_counts.columns = [\"Age_Category\", \"User_Count\"]\n",
    "\n",
    "fig = px.pie(\n",
    "    age_category_counts,\n",
    "    names=\"Age_Category\",\n",
    "    values=\"User_Count\",\n",
    "    title=\"Viewer Age Category Distribution\",\n",
    "    hole=0.4,\n",
    "    color_discrete_sequence=px.colors.sequential.Blues_r\n",
    ")\n",
    "\n",
    "fig.update_layout(\n",
    "    template=\"presentation\",\n",
    "    height=600,\n",
    "    width=800,\n",
    "    legend_title=dict(text=\"Age Categories\"),\n",
    "    paper_bgcolor=\"rgba(0, 0, 0, 0)\"\n",
    ")\n",
    "\n",
    "fig.show()\n",
    "fig.write_image(os.path.join(result_dir,'Viewer Age Category Distribution.jpg'))\n",
    "fig.write_image(os.path.join(result_dir,'Viewer Age Category Distribution.png'))\n",
    "fig.write_html(os.path.join(result_dir,'Viewer Age Category Distribution.html'))"
   ]
  },
  {
   "cell_type": "markdown",
   "id": "82f930c5-f3e8-4192-b8bc-ac1c4645108a",
   "metadata": {},
   "source": [
    "The dataset categorizes users into five age groups with the following user counts:\n",
    "\n",
    "- **Older Streamers:** 208 users  \n",
    "- **Mature Streamers:** 207 users  \n",
    "- **Senior Streamers:** 205 users  \n",
    "- **Adult Streamers:** 200 users\n",
    "- **Young Streamers:** 180 users  \n",
    "\n",
    "A donut pie chart was created using Plotly Express to visualize this distribution, showing the proportion of users in each age category. We have to  saved as `.jpg`, `.png`, and `.html` files for reporting purposes in result folders."
   ]
  },
  {
   "cell_type": "markdown",
   "id": "affc5d7a-d3c1-4e09-88bd-a46e08d04480",
   "metadata": {},
   "source": [
    "### Favorite genre by Country"
   ]
  },
  {
   "cell_type": "code",
   "execution_count": null,
   "id": "07bfc3d2-d9ae-42df-b5f6-485700d6ed0a",
   "metadata": {},
   "outputs": [],
   "source": [
    "Favorite_genre_country = stream_df.groupby(['Country', 'Favorite_Genre']).size().reset_index(name='total').sort_values(by='total', ascending=False)\n",
    "Favorite_genre_country"
   ]
  },
  {
   "cell_type": "code",
   "execution_count": null,
   "id": "1d0e820c-e4b5-47f3-a124-41cf6605e96c",
   "metadata": {},
   "outputs": [],
   "source": [
    "fig = px.bar(\n",
    "    Favorite_genre_country,\n",
    "    x='Country',\n",
    "    y='total',\n",
    "    color='Favorite_Genre',\n",
    "    barmode='group',\n",
    "    title='Genre Preference by Country',\n",
    "    text='total',\n",
    "    color_discrete_sequence=px.colors.sequential.Blues_r,\n",
    "    height=650,\n",
    "    width=1250\n",
    ")\n",
    "\n",
    "fig.update_layout(\n",
    "    xaxis_title='Country',\n",
    "    yaxis_title='User Count',\n",
    "    legend_title='Favorite Genre',\n",
    "    template='presentation',\n",
    "    margin=dict(l=100, r=50, t=100, b=180),\n",
    "    paper_bgcolor=\"rgba(0,0,0,0)\",\n",
    "    plot_bgcolor=\"rgba(0,0,0,0)\",\n",
    "    #xaxis_tickangle=-30\n",
    ")\n",
    "\n",
    "fig.update_traces(\n",
    "    texttemplate='%{text:.0f}',\n",
    "    textposition='outside'\n",
    ")\n",
    "\n",
    "fig.show()\n",
    "fig.write_image(os.path.join(result_dir, 'Favorite_genre_by_country_Bar_chart.jpg'))\n",
    "fig.write_image(os.path.join(result_dir, 'Favorite_genre_by_country_Bar_chart.png'))\n",
    "fig.write_html(os.path.join(result_dir, 'Favorite_genre_by_country_Bar_chart.html'))\n"
   ]
  },
  {
   "cell_type": "markdown",
   "id": "5d42fea1-cc1c-4a57-b27b-c6750e3c56a8",
   "metadata": {},
   "source": [
    "### Summary Description\n",
    "\n",
    "The data represents the distribution of users' favorite genres across different countries. It reveals key viewing preferences such as Horror being most popular in France and Australia, Drama favored in the USA and Germany, and Comedy preferred in the UK and Canada. This summary highlights regional differences in content preferences, which can help in customizing content offerings and marketing strategies for each country.\n",
    "\n",
    "- **France** has a strong preference for **Horror** (36 users) and **Romance** (26 users).\n",
    "- **USA** users favor **Drama** (32 users), **Action** (26 users), and **Horror** (23 users).\n",
    "- **UK** shows popularity for **Comedy** (30 users) and **Drama** (23 users).\n",
    "- **Germany** users mostly enjoy **Action** (28 users) and **Drama** (23 users).\n",
    "- **Australia**, **Canada**, and **India** have diverse preferences across genres like **Action**, **Romance**, **Comedy**, **Documentary**, and **Sci-Fi**."
   ]
  },
  {
   "cell_type": "markdown",
   "id": "41416b22-dd32-465d-aa09-c2d1671766cd",
   "metadata": {},
   "source": [
    "## Payment method distribution"
   ]
  },
  {
   "cell_type": "code",
   "execution_count": null,
   "id": "d8127b73-0a41-4730-bb45-f84397c31cb1",
   "metadata": {},
   "outputs": [],
   "source": [
    "# Step 1: Compute average monthly price and loyalty points by payment method\n",
    "pay_trends = stream_df.groupby('Payment_Method')[['Monthly_Price', 'Loyalty_Points']].mean().round(2).reset_index()\n",
    "\n",
    "# Step 2: Create percentage columns (as % of column total)\n",
    "pay_trends['Monthly_Price_percentage'] = (pay_trends['Monthly_Price'] / pay_trends['Monthly_Price'].sum() * 100).round(2)\n",
    "pay_trends['Loyalty_Points_percentage'] = (pay_trends['Loyalty_Points'] / pay_trends['Loyalty_Points'].sum() * 100).round(2)\n",
    "\n",
    "pay_trends\n"
   ]
  },
  {
   "cell_type": "code",
   "execution_count": null,
   "id": "8955e14b-e2e0-490b-a14d-4c07e7571907",
   "metadata": {},
   "outputs": [],
   "source": [
    "paypal = ['PayPal']\n",
    "others = pay_trends[pay_trends['Payment_Method'] != 'PayPal'].sort_values(\n",
    "    'Monthly_Price_percentage', ascending=False)['Payment_Method'].tolist()\n",
    "custom_order = paypal + others\n",
    "\n",
    "# Set categorical order\n",
    "pay_trends['Payment_Method'] = pd.Categorical(\n",
    "    pay_trends['Payment_Method'], categories=custom_order, ordered=True)\n",
    "\n",
    "# Melt DataFrame for grouped bar chart\n",
    "melted = pay_trends.melt(\n",
    "    id_vars='Payment_Method',\n",
    "    value_vars=['Monthly_Price_percentage', 'Loyalty_Points_percentage'],\n",
    "    var_name='Metric',\n",
    "    value_name='Percentage'\n",
    ")\n",
    "\n",
    "# Create the bar chart\n",
    "fig = px.bar(\n",
    "    melted,\n",
    "    x='Payment_Method',\n",
    "    y='Percentage',\n",
    "    color='Metric',\n",
    "    barmode='group',\n",
    "    title=\"Payment Method Trends\",\n",
    "    text='Percentage',\n",
    "    color_discrete_sequence=px.colors.sequential.Blues_r,\n",
    "    height=600,\n",
    "    width=1300\n",
    ")\n",
    "\n",
    "# Add text and styling\n",
    "fig.update_traces(\n",
    "    texttemplate='%{text:.1f}%',\n",
    "    textposition='inside',\n",
    "    marker_line_width=0\n",
    ")\n",
    "\n",
    "# Update layout\n",
    "fig.update_layout(\n",
    "    xaxis_title=\"Payment Method\",\n",
    "    yaxis_title=\"Percentage (%)\",\n",
    "    template=\"presentation\",\n",
    "    showlegend=True,\n",
    "    legend_title_text=\"Metric\",\n",
    "    margin=dict(l=100, r=60, t=100, b=160),\n",
    "    paper_bgcolor=\"rgba(0,0,0,0)\",\n",
    "    plot_bgcolor=\"rgba(0,0,0,0)\",\n",
    "    xaxis=dict(\n",
    "        tickfont=dict(size=14),\n",
    "        tickangle=0\n",
    "    ),\n",
    "    yaxis=dict(\n",
    "        tickfont=dict(size=12)\n",
    "    ),\n",
    "    legend=dict(\n",
    "        font=dict(size=12)\n",
    "    )\n",
    ")\n",
    "\n",
    "# Show the figure\n",
    "fig.show()\n",
    "\n",
    "# Save images and HTML\n",
    "fig.write_image(os.path.join(result_dir, 'Payment_Method_Trends_Bar_chart.jpg'))\n",
    "fig.write_image(os.path.join(result_dir, 'Payment_Method_Trends_Bar_chart.png'))\n",
    "fig.write_html(os.path.join(result_dir, 'Payment_Method_Trends_Bar_chart.html'))"
   ]
  },
  {
   "cell_type": "markdown",
   "id": "4ec077ce-01ed-4c69-9d44-b19a3e0621c5",
   "metadata": {},
   "source": [
    "### Payment Method Summary\n",
    "\n",
    "This table provides an overview of user subscription and loyalty statistics by payment method:\n",
    "\n",
    "- **Payment_Method:** Different modes of payment used by users, including Credit Card, Cryptocurrency, Debit Card, and PayPal.\n",
    "- **Monthly_Price:** The average monthly subscription price paid by users for each payment method.\n",
    "- **Loyalty_Points:** The average loyalty points accumulated by users in each payment group.\n",
    "- **Monthly_Price_percentage:** The percentage share of each payment method in the overall monthly price distribution.\n",
    "- **Loyalty_Points_percentage:** The percentage share of loyalty points earned by users of each payment method.\n",
    "\n",
    "The data indicates that Cryptocurrency users pay slightly higher monthly prices and earn a comparable amount of loyalty points, while PayPal users have the highest average loyalty points despite a marginally lower subscription price.\n"
   ]
  },
  {
   "cell_type": "markdown",
   "id": "aa3f5fa3-d473-4c5d-bb0a-850c65240bf1",
   "metadata": {},
   "source": [
    "### Device behavior analysis"
   ]
  },
  {
   "cell_type": "code",
   "execution_count": null,
   "id": "549e683d-9e26-4715-acc6-6e861cf63e62",
   "metadata": {},
   "outputs": [],
   "source": [
    "device_watch = (\n",
    "    stream_df.groupby('First_Device_Used')['Watch_Hours']\n",
    "    .mean()\n",
    "    .round(2)\n",
    "    .reset_index(name='Average_Watch_Hours')\n",
    "    .sort_values(by='Average_Watch_Hours', ascending=False)\n",
    ")\n",
    "\n",
    "device_watch\n"
   ]
  },
  {
   "cell_type": "code",
   "execution_count": null,
   "id": "00df9ed7-4f13-457b-9687-07df36604834",
   "metadata": {},
   "outputs": [],
   "source": [
    "fig = px.bar(\n",
    "    device_watch,\n",
    "    x='First_Device_Used',\n",
    "    y='Average_Watch_Hours',\n",
    "    title='Device Watching Hours',\n",
    "    text='Average_Watch_Hours',\n",
    "    color_discrete_sequence=['#1f77b4'],\n",
    "    height=500\n",
    ")\n",
    "\n",
    "fig.update_layout(\n",
    "    xaxis_title='Device Used',\n",
    "    yaxis_title='Average Watch Hours',\n",
    "    template='presentation',\n",
    "    showlegend=False,\n",
    "    margin=dict(l=60, r=40, t=80, b=80),\n",
    "    paper_bgcolor=\"rgba(0, 0, 0, 0)\",\n",
    "    plot_bgcolor=\"rgba(0, 0, 0, 0)\"\n",
    ")\n",
    "\n",
    "fig.update_traces(\n",
    "    texttemplate='%{text:.2f}',\n",
    "    textposition='inside',\n",
    "    textfont_color='white',\n",
    "    marker_opacity=0.7\n",
    ")\n",
    "\n",
    "fig.update_xaxes(tickangle=0, automargin=True)\n",
    "\n",
    "fig.show()\n",
    "\n",
    "fig.write_image(os.path.join(result_dir, 'Device_watching_Hours_Bar_chart.jpg'))\n",
    "fig.write_image(os.path.join(result_dir, 'Device_watching_Hours_Bar_chart.png'))\n",
    "fig.write_html(os.path.join(result_dir, 'Device_watching_Hours_Bar_chart.html'))\n"
   ]
  },
  {
   "cell_type": "markdown",
   "id": "60323f8f-7195-49a7-b82d-75de32c52668",
   "metadata": {},
   "source": [
    "\n",
    "\n",
    "This table shows the average watch hours based on the first device used by viewers:\n",
    "\n",
    "- **First_Device_Used:** The device users first accessed the streaming service on, including Smartphone, Desktop, Smart TV, Tablet, and Laptop.\n",
    "- **Average_Watch_Hours:** The average number of hours watched by users who started on each device.\n",
    "\n",
    "Key insights:\n",
    "- Users who first accessed via **Smartphone** have the highest average watch hours (271.84 hours).\n",
    "- Desktop and Smart TV users follow closely with averages of 261.76 and 257.72 hours, respectively.\n",
    "- Tablet and Laptop users have comparatively lower average watch hours, at 243.98 and 235.45 hours.\n"
   ]
  },
  {
   "cell_type": "markdown",
   "id": "dbf2afa4-b2ff-4310-bf36-339a4523c497",
   "metadata": {},
   "source": [
    "## Device usage disribution"
   ]
  },
  {
   "cell_type": "code",
   "execution_count": null,
   "id": "2a0effcf-e8a1-4abb-b089-df5c8e83ad8f",
   "metadata": {},
   "outputs": [],
   "source": [
    "device_counts = stream_df[\"First_Device_Used\"].value_counts().reset_index()\n",
    "device_counts.columns = [\"Device\", \"Count\"]\n",
    "\n",
    "fig = px.bar(\n",
    "    device_counts,\n",
    "    x=\"Device\",\n",
    "    y=\"Count\",\n",
    "    title=\"Device Usage Distribution\",\n",
    "    text=\"Count\",\n",
    "    color_discrete_sequence=['#1f77b4'],\n",
    "    height=600,\n",
    "    width=1100\n",
    ")\n",
    "\n",
    "fig.update_traces(texttemplate=\"%{text}\", textposition=\"outside\")\n",
    "\n",
    "fig.update_layout(\n",
    "    template=\"presentation\",\n",
    "    xaxis_title=\"Device Used\",\n",
    "    yaxis_title=\"User Count\",\n",
    "    xaxis_title_standoff=50,\n",
    "    legend_title_text=None,\n",
    "    showlegend=False,\n",
    "    paper_bgcolor=\"rgba(0, 0, 0, 0)\",\n",
    "    plot_bgcolor=\"rgba(0, 0, 0, 0)\"\n",
    ")\n",
    "\n",
    "fig.show()\n",
    "\n",
    "fig.write_image(os.path.join(result_dir, 'Device_Usage_Distribution_Bar_chart.jpg'))\n",
    "fig.write_image(os.path.join(result_dir, 'Device_Usage_Distribution_Bar_chart.png'))\n",
    "fig.write_html(os.path.join(result_dir, 'Device_Usage_Distribution_Bar_chart.html'))\n"
   ]
  },
  {
   "cell_type": "markdown",
   "id": "3cfecd5f-5b6d-4d72-95c1-435ea60ca095",
   "metadata": {},
   "source": [
    "Most of the users or viewers like to use **Tablets** followed by **Smartphone**"
   ]
  },
  {
   "cell_type": "markdown",
   "id": "44e90f12-4695-4ec1-a91b-d67bd6c296fc",
   "metadata": {},
   "source": [
    "### Watching hours per day"
   ]
  },
  {
   "cell_type": "code",
   "execution_count": null,
   "id": "ce5b43b3-9edc-4366-9d8e-d74e123638eb",
   "metadata": {},
   "outputs": [],
   "source": [
    "\n",
    "time_watch = (\n",
    "    stream_df.groupby('Primary_Watch_Time')['Watch_Hours']\n",
    "    .mean()\n",
    "    .round(2)\n",
    "    .reset_index(name='Average_Watch_Hours')\n",
    "    .sort_values(by='Average_Watch_Hours', ascending=False)\n",
    ")\n",
    "time_watch"
   ]
  },
  {
   "cell_type": "code",
   "execution_count": null,
   "id": "92e8e50e-fcc3-4c8e-8c99-06cbde3bcecc",
   "metadata": {},
   "outputs": [],
   "source": []
  },
  {
   "cell_type": "code",
   "execution_count": null,
   "id": "b85c290b-8272-4ca7-b4fb-e96610df6b33",
   "metadata": {},
   "outputs": [],
   "source": [
    "time_watch = (\n",
    "    stream_df.groupby('Primary_Watch_Time')['Watch_Hours']\n",
    "    .mean()\n",
    "    .round(2)\n",
    "    .reset_index(name='Average_Watch_Hours')\n",
    "    .sort_values(by='Average_Watch_Hours', ascending=False)\n",
    ")\n",
    "\n",
    "\n",
    "fig = px.bar(\n",
    "    time_watch,\n",
    "    x='Primary_Watch_Time',\n",
    "    y='Average_Watch_Hours',\n",
    "    title='Watch Hours per Day',\n",
    "    text='Average_Watch_Hours',\n",
    "    color_discrete_sequence=['#1f77b4'],\n",
    "    height=600,\n",
    "    width=1100\n",
    ")\n",
    "\n",
    "fig.update_traces(\n",
    "    texttemplate='%{text}',\n",
    "    textposition='outside'\n",
    ")\n",
    "\n",
    "fig.update_layout(\n",
    "    template=\"presentation\",\n",
    "    xaxis_title=\"Time of Day\",\n",
    "    yaxis_title=\"Average Watch Hours\",\n",
    "    xaxis_title_standoff=50,\n",
    "    legend_title_text=None,\n",
    "    showlegend=False,\n",
    "    paper_bgcolor=\"rgba(0, 0, 0, 0)\",\n",
    "    plot_bgcolor=\"rgba(0, 0, 0, 0)\"\n",
    ")\n",
    "\n",
    "\n",
    "fig.show()\n",
    "\n",
    "\n",
    "fig.write_image(os.path.join(result_dir, 'Watch_Hours_per_Day_Bar_chart.jpg'))\n",
    "fig.write_image(os.path.join(result_dir, 'Watch_Hours_per_Day_Bar_chart.png'))\n",
    "fig.write_html(os.path.join(result_dir, 'Watch_Hours_per_Day_Bar_chart.html'))\n"
   ]
  },
  {
   "cell_type": "markdown",
   "id": "b2cc8203-93f8-4530-a1d0-52d130f537ba",
   "metadata": {},
   "source": [
    "\n",
    "This table presents the average watch hours based on the primary time of day users watch content:\n",
    "\n",
    "- **Primary_Watch_Time:** The main time period when users watch content (Morning, Afternoon, Evening, Late Night).\n",
    "- **Average_Watch_Hours:** The average number of hours watched by users during each time period.\n",
    "\n",
    "Key insights:\n",
    "- Users watching primarily in the **Morning** have the highest average watch hours (272.33 hours).\n",
    "- Watching during the **Evening** follows with an average of 255.39 hours.\n",
    "- The **Afternoon** and **Late Night** watch periods have slightly lower averages of 247.08 and 245.98 hours, respectively.\n"
   ]
  },
  {
   "cell_type": "markdown",
   "id": "b5336370-5ee5-4e3c-a7ba-9e9e82a9a6c4",
   "metadata": {},
   "source": [
    "## Preffered watching time"
   ]
  },
  {
   "cell_type": "code",
   "execution_count": null,
   "id": "96151876-c564-4ffa-9b6d-4ccf2622f916",
   "metadata": {},
   "outputs": [],
   "source": [
    "watch_time = stream_df[\"Primary_Watch_Time\"].value_counts().reset_index()\n",
    "watch_time.columns = [\"Primary_Watch_Time\", \"User_Count\"]\n",
    "\n",
    "fig = px.bar(\n",
    "    watch_time,\n",
    "    x=\"Primary_Watch_Time\",\n",
    "    y=\"User_Count\",\n",
    "    title=\"Preferred Watching Time\",\n",
    "    text=\"User_Count\",\n",
    "    color_discrete_sequence=['#1f77b4'],  # Changed to blue\n",
    "    height=600,\n",
    "    width=1100\n",
    ")\n",
    "\n",
    "fig.update_traces(texttemplate=\"%{text}\", textposition=\"outside\")\n",
    "\n",
    "fig.update_layout(\n",
    "    template=\"presentation\",\n",
    "    xaxis_title=\"Watching Time\",\n",
    "    yaxis_title=\"Number of Users\",\n",
    "    xaxis_title_standoff=50,\n",
    "    legend_title_text=None,\n",
    "    showlegend=False,\n",
    "    paper_bgcolor=\"rgba(0, 0, 0, 0)\",\n",
    "    plot_bgcolor=\"rgba(0, 0, 0, 0)\"\n",
    ")\n",
    "\n",
    "fig.show()\n",
    "\n",
    "\n",
    "fig.write_image(os.path.join(result_dir, 'Preferred_Watching_Time_Bar_chart.jpg'))\n",
    "fig.write_image(os.path.join(result_dir, 'Preferred_Watching_Time_Bar_chart.png'))\n",
    "fig.write_html(os.path.join(result_dir, 'Preferred_Watching_Time_Bar_chart.html'))\n"
   ]
  },
  {
   "cell_type": "markdown",
   "id": "16097c05-bd9b-4629-8e72-be69d9082cbf",
   "metadata": {},
   "source": [
    "This table presents the data based on the primary time of day users watch content:\n",
    "\n",
    "- **Primary_Watch_Time:** The main time period when users watch content (Morning, Afternoon, Evening, Late Night).\n",
    "Key insights:\n",
    "- Many Users watch primarily in the **late night** with 271 viewers\n",
    "- Watching during the **Evening** follows with 256\n",
    "- The **Afternoon** and **morning** watch periods have slightly low number of viewers respectively."
   ]
  },
  {
   "cell_type": "markdown",
   "id": "7375586b-d9bc-4045-9522-dbbc07e0b0f5",
   "metadata": {},
   "source": [
    "## Genre ratings"
   ]
  },
  {
   "cell_type": "code",
   "execution_count": null,
   "id": "21980514-966c-4965-8358-0f2de7c7435f",
   "metadata": {},
   "outputs": [],
   "source": [
    "genre_ratings = stream_df.groupby('Favorite_Genre')['Average_Rating_Given'].sum().round(2).reset_index(name='total rating').sort_values(by='total rating',ascending=False).reset_index()\n",
    "genre_ratings"
   ]
  },
  {
   "cell_type": "code",
   "execution_count": null,
   "id": "273f2c8f-e068-4027-9667-7ddbe22fd8ad",
   "metadata": {},
   "outputs": [],
   "source": [
    "rating_counts = stream_df.groupby(\"Favorite_Genre\")[\"Average_Rating_Given\"].count().reset_index()\n",
    "rating_counts.columns = [\"Genre\", \"Rating_Count\"]\n",
    "\n",
    "avg_rating_genre = stream_df.groupby(\"Favorite_Genre\")[\"Average_Rating_Given\"].mean().reset_index()\n",
    "avg_rating_genre.columns = [\"Genre\", \"Average_Rating\"]\n",
    "\n",
    "combined = avg_rating_genre.merge(rating_counts, on=\"Genre\")\n",
    "\n",
    "fig = px.scatter(\n",
    "    combined,\n",
    "    x=\"Average_Rating\",\n",
    "    y=\"Genre\",\n",
    "    size=\"Rating_Count\",\n",
    "    color=\"Average_Rating\",\n",
    "    color_continuous_scale=\"Blues\", \n",
    "    title=\"Average Rating by Genre with Rating Volume\",\n",
    "    height=600,\n",
    "    width=1000,\n",
    "    opacity=0.7  \n",
    ")\n",
    "\n",
    "fig.update_layout(\n",
    "    xaxis_title=\"Average Rating\",\n",
    "    yaxis_title=\"Genre\",\n",
    "    template=\"presentation\",\n",
    "    margin=dict(l=150, r=50, t=100, b=50),  \n",
    "    paper_bgcolor=\"rgba(0,0,0,0)\",\n",
    "    plot_bgcolor=\"rgba(0,0,0,0)\"\n",
    ")\n",
    "\n",
    "fig.update_yaxes(tickangle=0, automargin=True)\n",
    "\n",
    "fig.show()\n",
    "\n",
    "\n",
    "fig.write_image(os.path.join(result_dir, 'Average_Rating_by_Genre_Bubble_Chart.jpg'))\n",
    "fig.write_image(os.path.join(result_dir, 'Average_Rating_by_Genre_Bubble_Chart.png'))\n",
    "fig.write_html(os.path.join(result_dir, 'Average_Rating_by_Genre_Bubble_Chart.html'))\n"
   ]
  },
  {
   "cell_type": "markdown",
   "id": "e7fc0d4e-c7ee-4e1f-8106-59f2233f2569",
   "metadata": {},
   "source": [
    "**Summary:**  \n",
    "- **Sci-Fi** leads with the highest rating of 4.03, indicating strong viewer engagement.  \n",
    "- **Romance**, **Horror**, and **Drama** also have high ratings, showing their popularity.  \n",
    "- **Documentary**, **Comedy**, and **Action** follow with relatively lower ratings."
   ]
  },
  {
   "cell_type": "markdown",
   "id": "95679a19-6bbe-4477-8c1a-ab600a69dc9c",
   "metadata": {},
   "source": [
    "## Favorite genres"
   ]
  },
  {
   "cell_type": "code",
   "execution_count": null,
   "id": "b7b29f84-890c-4932-b381-1f3124eb73e5",
   "metadata": {},
   "outputs": [],
   "source": [
    "fav_genre = stream_df[\"Favorite_Genre\"].value_counts().reset_index()\n",
    "fav_genre.columns = [\"Genre\", \"Count\"]\n",
    "fav_genre = fav_genre.sort_values(by=\"Count\", ascending=True)  \n",
    "\n",
    "fig = px.bar(\n",
    "    fav_genre,\n",
    "    y=\"Genre\",\n",
    "    x=\"Count\",\n",
    "    orientation=\"h\",\n",
    "    title=\"Favorite Genre Distribution\",\n",
    "    text=\"Count\",\n",
    "    color_discrete_sequence=['#1f77b4'], \n",
    "    height=600,\n",
    "    width=1100\n",
    ")\n",
    "\n",
    "fig.update_traces(texttemplate=\"%{text}\", textposition=\"outside\")\n",
    "\n",
    "fig.update_layout(\n",
    "    template=\"presentation\",\n",
    "    xaxis_title=\"Number of Users\",\n",
    "    yaxis_title=\"Genre\",\n",
    "    xaxis_title_standoff=50,\n",
    "    legend_title_text=None,\n",
    "    showlegend=False,\n",
    "    margin=dict(l=200, r=50, t=100, b=50),\n",
    "    yaxis=dict(tickmode='linear'),\n",
    "    paper_bgcolor=\"rgba(0, 0, 0, 0)\",\n",
    "    plot_bgcolor=\"rgba(0, 0, 0, 0)\"\n",
    ")\n",
    "\n",
    "fig.show()\n",
    "\n",
    "fig.write_image(os.path.join(result_dir, 'Total_Rating_by_Favorite_Genre_Bar_chart_horizontal.jpg'))\n",
    "fig.write_image(os.path.join(result_dir, 'Total_Rating_by_Favorite_Genre_Bar_chart_horizontal.png'))\n",
    "fig.write_html(os.path.join(result_dir, 'Total_Rating_by_Favorite_Genre_Bar_chart_horizontal.html'))\n"
   ]
  },
  {
   "cell_type": "markdown",
   "id": "e02c8a32-d68e-43d5-ac26-c257cddbc37c",
   "metadata": {},
   "source": [
    "\n",
    "**Summary:**  \n",
    "- **Horror** leads with about 157 counts, indicating strong viewer engagement.  \n",
    "- **Action**, **Comedy**, and **Romance** also have high number of viewers, showing their popularity.  \n",
    "- **Drama**, **Documentary**, and **Sci-Fi** follow with relatively low number of viewers.\n"
   ]
  },
  {
   "cell_type": "markdown",
   "id": "b0653a98-2c70-455a-94b0-303234f98086",
   "metadata": {},
   "source": [
    "### Language preference by country"
   ]
  },
  {
   "cell_type": "code",
   "execution_count": null,
   "id": "c6f913a8-da69-49e8-a7f8-f937d80e8972",
   "metadata": {},
   "outputs": [],
   "source": [
    "lang_country = stream_df.groupby(['Country', 'Language_Preference']).size().reset_index(name='Count')\n",
    "\n",
    "lang_country\n"
   ]
  },
  {
   "cell_type": "code",
   "execution_count": null,
   "id": "a4e167f4-4d96-4304-a2e5-30db942dea41",
   "metadata": {},
   "outputs": [],
   "source": [
    "fig = px.treemap(\n",
    "    lang_country,\n",
    "    path=['Country', 'Language_Preference'],\n",
    "    values='Count',\n",
    "    title='Language Preference by Country',\n",
    "    color='Count',\n",
    "    color_continuous_scale='Viridis',\n",
    "    height=700,\n",
    ")\n",
    "\n",
    "\n",
    "fig.update_layout(\n",
    "    margin=dict(l=50, r=50, t=100, b=50),\n",
    "    coloraxis_colorbar=dict(\n",
    "        title='Count',\n",
    "        thickness=15,\n",
    "        len=0.5,\n",
    "        yanchor='middle',\n",
    "        y=0.5\n",
    "    ),\n",
    "    paper_bgcolor=\"rgba(0, 0, 0, 0)\",\n",
    "    plot_bgcolor=\"rgba(0, 0, 0, 0)\"\n",
    ")\n",
    "\n",
    "fig.show()\n",
    "\n",
    "\n",
    "fig.write_image(os.path.join(result_dir, 'Language_Preference_by_Country.jpg'))\n",
    "fig.write_image(os.path.join(result_dir, 'Language_Preference_by_Country.png'))\n",
    "fig.write_html(os.path.join(result_dir, 'Language_Preference_by_Country.html'))\n"
   ]
  },
  {
   "cell_type": "code",
   "execution_count": null,
   "id": "de3e6078-db15-4f7c-91f3-d051c0b953c9",
   "metadata": {},
   "outputs": [],
   "source": []
  },
  {
   "cell_type": "markdown",
   "id": "954ada35-ba94-420e-ba97-aeaa664a272b",
   "metadata": {},
   "source": [
    "- **English** and **Mandarin** are among the most popular language preferences across most countries.\n",
    "- The **USA** and **Australia** have the highest counts for Mandarin speakers (30 users each).\n",
    "- Language preference distributions are quite diverse within countries, with multiple languages represented.\n",
    "- French, German, Hindi, and Spanish also show significant representation across all countries."
   ]
  },
  {
   "cell_type": "markdown",
   "id": "c4a11bab-7196-4588-80aa-6dff99f0fd13",
   "metadata": {},
   "source": [
    "## Monthly Revenue Comparison (2022 vs 2023 vs 2024)\n",
    "This chart displays the total monthly revenue ($) generated over the years 2022, 2023, and 2024, helping to visualize revenue trends, seasonal patterns, and year-over-year performance."
   ]
  },
  {
   "cell_type": "code",
   "execution_count": null,
   "id": "1877a3a8-2892-44de-b1c2-5492c2fe32b2",
   "metadata": {},
   "outputs": [],
   "source": [
    "# Convert Join_Date to datetime\n",
    "stream_df['Join_Date'] = pd.to_datetime(stream_df['Join_Date'])\n",
    "\n",
    "# Create Year-Month column for grouping\n",
    "stream_df['YearMonth'] = stream_df['Join_Date'].dt.to_period('M').astype(str)\n"
   ]
  },
  {
   "cell_type": "code",
   "execution_count": null,
   "id": "28e88cde-6165-4ce7-a090-79114ebaabcb",
   "metadata": {},
   "outputs": [],
   "source": [
    "monthly_revenue = (\n",
    "    stream_df.groupby('YearMonth')['Monthly_Price']\n",
    "    .sum()\n",
    "    .reset_index()\n",
    "    .rename(columns={'Monthly_Price': 'Total_Revenue'})\n",
    ")\n"
   ]
  },
  {
   "cell_type": "code",
   "execution_count": null,
   "id": "db79dc8f-5beb-4e9b-8c94-f2565f0e2399",
   "metadata": {},
   "outputs": [],
   "source": [
    "# Ensure datetime format\n",
    "stream_df['Join_Date'] = pd.to_datetime(stream_df['Join_Date'])\n",
    "\n",
    "# Extract Year and Month\n",
    "stream_df['Year'] = stream_df['Join_Date'].dt.year\n",
    "stream_df['Month'] = stream_df['Join_Date'].dt.strftime('%b')  # e.g. 'Jan', 'Feb'\n",
    "\n",
    "# Order the months\n",
    "month_order = ['Jan', 'Feb', 'Mar', 'Apr', 'May', 'Jun',\n",
    "               'Jul', 'Aug', 'Sep', 'Oct', 'Nov', 'Dec']\n",
    "\n",
    "# Group by Year and Month, and sum revenue\n",
    "monthly_revenue = stream_df.groupby(['Year', 'Month'])['Monthly_Price'].sum().reset_index()\n",
    "monthly_revenue.rename(columns={'Monthly_Price': 'Total_Revenue'}, inplace=True)\n",
    "\n",
    "# Make sure months are in correct order\n",
    "monthly_revenue['Month'] = pd.Categorical(monthly_revenue['Month'], categories=month_order, ordered=True)\n",
    "monthly_revenue = monthly_revenue.sort_values(['Year', 'Month'])\n"
   ]
  },
  {
   "cell_type": "code",
   "execution_count": null,
   "id": "38f69dc6-f5b4-4550-a120-83a76789ecfc",
   "metadata": {},
   "outputs": [],
   "source": [
    "fig = px.line(\n",
    "    monthly_revenue,\n",
    "    x='Month',\n",
    "    y='Total_Revenue',\n",
    "    color='Year',\n",
    "    markers=True,\n",
    "    title='Monthly Revenue Comparison: 2022 vs 2023 vs 2024',\n",
    "    category_orders={'Month': month_order},  \n",
    "    template='presentation',\n",
    "    line_shape='linear'\n",
    ")\n",
    "\n",
    "fig.update_layout(\n",
    "    xaxis_title='Month',\n",
    "    yaxis_title='Total Revenue ($)',\n",
    "    legend_title_text='Year',\n",
    "    height=550,\n",
    "    width=1000,\n",
    "    paper_bgcolor='rgba(0,0,0,0)',\n",
    "    plot_bgcolor='rgba(0,0,0,0)',\n",
    "    margin=dict(l=60, r=40, t=80, b=80)\n",
    ")\n",
    "\n",
    "fig.show()\n",
    "\n",
    "fig.write_image(os.path.join(result_dir, 'Monthly_Revenue_Comparison_Line_Chart.jpg'))\n",
    "fig.write_image(os.path.join(result_dir, 'Monthly_Revenue_Comparison_Line_Chart.png'))\n",
    "fig.write_html(os.path.join(result_dir, 'Monthly_Revenue_Comparison_Line_Chart.html'))\n"
   ]
  },
  {
   "cell_type": "code",
   "execution_count": null,
   "id": "639685c9-ace9-45f7-adb7-cde542f224a7",
   "metadata": {},
   "outputs": [],
   "source": []
  }
 ],
 "metadata": {
  "kernelspec": {
   "display_name": "Python 3 (ipykernel)",
   "language": "python",
   "name": "python3"
  },
  "language_info": {
   "codemirror_mode": {
    "name": "ipython",
    "version": 3
   },
   "file_extension": ".py",
   "mimetype": "text/x-python",
   "name": "python",
   "nbconvert_exporter": "python",
   "pygments_lexer": "ipython3",
   "version": "3.12.7"
  }
 },
 "nbformat": 4,
 "nbformat_minor": 5
}
